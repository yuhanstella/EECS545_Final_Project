{
 "cells": [
  {
   "attachments": {},
   "cell_type": "markdown",
   "metadata": {
    "ExecuteTime": {
     "end_time": "2021-04-10T19:43:50.717684Z",
     "start_time": "2021-04-10T19:43:50.163336Z"
    }
   },
   "source": [
    "# XGBoost Classifier"
   ]
  },
  {
   "cell_type": "code",
   "execution_count": 1,
   "metadata": {
    "ExecuteTime": {
     "end_time": "2021-04-10T19:43:50.717684Z",
     "start_time": "2021-04-10T19:43:50.163336Z"
    }
   },
   "outputs": [],
   "source": [
    "from sklearn.tree import DecisionTreeClassifier\n",
    "import pandas as pd\n",
    "from sklearn.model_selection import train_test_split, GridSearchCV\n",
    "from sklearn.tree import export_graphviz\n",
    "from sklearn import tree\n",
    "from sklearn.metrics import accuracy_score, make_scorer\n",
    "from sklearn.metrics import confusion_matrix, classification_report\n",
    "\n",
    "from xgboost import XGBClassifier\n",
    "from sklearn.datasets import load_breast_cancer\n",
    "from sklearn.model_selection import train_test_split\n",
    "\n",
    "from sklearn.feature_selection import SelectPercentile, chi2\n",
    "from sklearn.model_selection import train_test_split, cross_val_score\n",
    "from sklearn.pipeline import Pipeline\n",
    "from sklearn.preprocessing import StandardScaler\n",
    "from sklearn.svm import SVC\n",
    "\n",
    "import matplotlib.pyplot as plt\n",
    "from sklearn import datasets\n",
    "from sklearn.metrics import confusion_matrix, accuracy_score, classification_report\n",
    "from sklearn.model_selection import learning_curve\n",
    "\n",
    "import numpy as np"
   ]
  },
  {
   "cell_type": "markdown",
   "metadata": {
    "ExecuteTime": {
     "end_time": "2021-04-10T19:43:57.451436Z",
     "start_time": "2021-04-10T19:43:55.857132Z"
    }
   },
   "source": [
    "## Read dataset"
   ]
  },
  {
   "cell_type": "code",
   "execution_count": 2,
   "metadata": {
    "ExecuteTime": {
     "end_time": "2021-04-10T19:43:57.451436Z",
     "start_time": "2021-04-10T19:43:55.857132Z"
    }
   },
   "outputs": [],
   "source": [
    "df = pd.read_csv('/Users/ningyuhang/Desktop/EECS545/project/data/data_merged_quartile.csv')\n",
    "# mean_popularity = 44.2\n",
    "# df[\"popularity\"] = [ 1 if i >= mean_popularity else 0 for i in df.popularity ]"
   ]
  },
  {
   "cell_type": "code",
   "execution_count": 3,
   "metadata": {
    "ExecuteTime": {
     "end_time": "2021-03-17T02:57:28.380897Z",
     "start_time": "2021-03-17T02:57:28.345865Z"
    }
   },
   "outputs": [
    {
     "data": {
      "text/html": [
       "<div>\n",
       "<style scoped>\n",
       "    .dataframe tbody tr th:only-of-type {\n",
       "        vertical-align: middle;\n",
       "    }\n",
       "\n",
       "    .dataframe tbody tr th {\n",
       "        vertical-align: top;\n",
       "    }\n",
       "\n",
       "    .dataframe thead th {\n",
       "        text-align: right;\n",
       "    }\n",
       "</style>\n",
       "<table border=\"1\" class=\"dataframe\">\n",
       "  <thead>\n",
       "    <tr style=\"text-align: right;\">\n",
       "      <th></th>\n",
       "      <th>popularity</th>\n",
       "      <th>acousticness</th>\n",
       "      <th>danceability</th>\n",
       "      <th>duration_ms</th>\n",
       "      <th>energy</th>\n",
       "      <th>instrumentalness</th>\n",
       "      <th>liveness</th>\n",
       "      <th>loudness</th>\n",
       "      <th>speechiness</th>\n",
       "      <th>tempo</th>\n",
       "      <th>...</th>\n",
       "      <th>genre_2</th>\n",
       "      <th>genre_3</th>\n",
       "      <th>genre_4</th>\n",
       "      <th>genre_5</th>\n",
       "      <th>genre_6</th>\n",
       "      <th>genre_7</th>\n",
       "      <th>genre_8</th>\n",
       "      <th>genre_9</th>\n",
       "      <th>Minor</th>\n",
       "      <th>Major</th>\n",
       "    </tr>\n",
       "  </thead>\n",
       "  <tbody>\n",
       "    <tr>\n",
       "      <th>0</th>\n",
       "      <td>0.0</td>\n",
       "      <td>0.01270</td>\n",
       "      <td>0.622</td>\n",
       "      <td>218293.0</td>\n",
       "      <td>0.890</td>\n",
       "      <td>0.950000</td>\n",
       "      <td>0.124</td>\n",
       "      <td>-7.043</td>\n",
       "      <td>0.0300</td>\n",
       "      <td>115.002</td>\n",
       "      <td>...</td>\n",
       "      <td>0.0</td>\n",
       "      <td>0.0</td>\n",
       "      <td>0.0</td>\n",
       "      <td>0.0</td>\n",
       "      <td>0.0</td>\n",
       "      <td>0.0</td>\n",
       "      <td>0.0</td>\n",
       "      <td>0.0</td>\n",
       "      <td>0.0</td>\n",
       "      <td>1.0</td>\n",
       "    </tr>\n",
       "    <tr>\n",
       "      <th>1</th>\n",
       "      <td>0.0</td>\n",
       "      <td>0.00306</td>\n",
       "      <td>0.620</td>\n",
       "      <td>215613.0</td>\n",
       "      <td>0.755</td>\n",
       "      <td>0.011800</td>\n",
       "      <td>0.534</td>\n",
       "      <td>-4.617</td>\n",
       "      <td>0.0345</td>\n",
       "      <td>127.994</td>\n",
       "      <td>...</td>\n",
       "      <td>0.0</td>\n",
       "      <td>0.0</td>\n",
       "      <td>0.0</td>\n",
       "      <td>0.0</td>\n",
       "      <td>0.0</td>\n",
       "      <td>0.0</td>\n",
       "      <td>0.0</td>\n",
       "      <td>0.0</td>\n",
       "      <td>1.0</td>\n",
       "      <td>0.0</td>\n",
       "    </tr>\n",
       "    <tr>\n",
       "      <th>2</th>\n",
       "      <td>0.0</td>\n",
       "      <td>0.02540</td>\n",
       "      <td>0.774</td>\n",
       "      <td>166875.0</td>\n",
       "      <td>0.700</td>\n",
       "      <td>0.002530</td>\n",
       "      <td>0.157</td>\n",
       "      <td>-4.498</td>\n",
       "      <td>0.2390</td>\n",
       "      <td>128.014</td>\n",
       "      <td>...</td>\n",
       "      <td>0.0</td>\n",
       "      <td>0.0</td>\n",
       "      <td>0.0</td>\n",
       "      <td>0.0</td>\n",
       "      <td>0.0</td>\n",
       "      <td>0.0</td>\n",
       "      <td>0.0</td>\n",
       "      <td>0.0</td>\n",
       "      <td>1.0</td>\n",
       "      <td>0.0</td>\n",
       "    </tr>\n",
       "    <tr>\n",
       "      <th>3</th>\n",
       "      <td>0.0</td>\n",
       "      <td>0.00465</td>\n",
       "      <td>0.638</td>\n",
       "      <td>222369.0</td>\n",
       "      <td>0.587</td>\n",
       "      <td>0.909000</td>\n",
       "      <td>0.157</td>\n",
       "      <td>-6.266</td>\n",
       "      <td>0.0413</td>\n",
       "      <td>145.036</td>\n",
       "      <td>...</td>\n",
       "      <td>0.0</td>\n",
       "      <td>0.0</td>\n",
       "      <td>0.0</td>\n",
       "      <td>0.0</td>\n",
       "      <td>0.0</td>\n",
       "      <td>0.0</td>\n",
       "      <td>0.0</td>\n",
       "      <td>0.0</td>\n",
       "      <td>1.0</td>\n",
       "      <td>0.0</td>\n",
       "    </tr>\n",
       "    <tr>\n",
       "      <th>4</th>\n",
       "      <td>2.0</td>\n",
       "      <td>0.02890</td>\n",
       "      <td>0.572</td>\n",
       "      <td>214408.0</td>\n",
       "      <td>0.803</td>\n",
       "      <td>0.000008</td>\n",
       "      <td>0.106</td>\n",
       "      <td>-4.294</td>\n",
       "      <td>0.3510</td>\n",
       "      <td>149.995</td>\n",
       "      <td>...</td>\n",
       "      <td>0.0</td>\n",
       "      <td>0.0</td>\n",
       "      <td>0.0</td>\n",
       "      <td>0.0</td>\n",
       "      <td>0.0</td>\n",
       "      <td>0.0</td>\n",
       "      <td>0.0</td>\n",
       "      <td>0.0</td>\n",
       "      <td>1.0</td>\n",
       "      <td>0.0</td>\n",
       "    </tr>\n",
       "  </tbody>\n",
       "</table>\n",
       "<p>5 rows × 35 columns</p>\n",
       "</div>"
      ],
      "text/plain": [
       "   popularity  acousticness  danceability  duration_ms  energy  \\\n",
       "0         0.0       0.01270         0.622     218293.0   0.890   \n",
       "1         0.0       0.00306         0.620     215613.0   0.755   \n",
       "2         0.0       0.02540         0.774     166875.0   0.700   \n",
       "3         0.0       0.00465         0.638     222369.0   0.587   \n",
       "4         2.0       0.02890         0.572     214408.0   0.803   \n",
       "\n",
       "   instrumentalness  liveness  loudness  speechiness    tempo  ...  genre_2  \\\n",
       "0          0.950000     0.124    -7.043       0.0300  115.002  ...      0.0   \n",
       "1          0.011800     0.534    -4.617       0.0345  127.994  ...      0.0   \n",
       "2          0.002530     0.157    -4.498       0.2390  128.014  ...      0.0   \n",
       "3          0.909000     0.157    -6.266       0.0413  145.036  ...      0.0   \n",
       "4          0.000008     0.106    -4.294       0.3510  149.995  ...      0.0   \n",
       "\n",
       "   genre_3  genre_4  genre_5  genre_6  genre_7  genre_8  genre_9  Minor  Major  \n",
       "0      0.0      0.0      0.0      0.0      0.0      0.0      0.0    0.0    1.0  \n",
       "1      0.0      0.0      0.0      0.0      0.0      0.0      0.0    1.0    0.0  \n",
       "2      0.0      0.0      0.0      0.0      0.0      0.0      0.0    1.0    0.0  \n",
       "3      0.0      0.0      0.0      0.0      0.0      0.0      0.0    1.0    0.0  \n",
       "4      0.0      0.0      0.0      0.0      0.0      0.0      0.0    1.0    0.0  \n",
       "\n",
       "[5 rows x 35 columns]"
      ]
     },
     "execution_count": 3,
     "metadata": {},
     "output_type": "execute_result"
    }
   ],
   "source": [
    "df.head()"
   ]
  },
  {
   "cell_type": "markdown",
   "metadata": {
    "ExecuteTime": {
     "end_time": "2021-04-10T19:44:20.002545Z",
     "start_time": "2021-04-10T19:44:19.907262Z"
    }
   },
   "source": [
    "## Split train and test data"
   ]
  },
  {
   "cell_type": "code",
   "execution_count": 26,
   "metadata": {
    "ExecuteTime": {
     "end_time": "2021-04-10T19:44:20.002545Z",
     "start_time": "2021-04-10T19:44:19.907262Z"
    }
   },
   "outputs": [],
   "source": [
    "X  = df.drop(['popularity'], axis=1).values\n",
    "y = df['popularity'].values"
   ]
  },
  {
   "cell_type": "code",
   "execution_count": 30,
   "metadata": {
    "ExecuteTime": {
     "end_time": "2021-04-10T19:44:23.085701Z",
     "start_time": "2021-04-10T19:44:22.957856Z"
    }
   },
   "outputs": [],
   "source": [
    "from sklearn.metrics import f1_score\n",
    "import xgboost as xgb\n",
    "\n",
    "X_train, X_test, y_train, y_test = train_test_split(X, y, test_size=0.20,random_state=42)\n"
   ]
  },
  {
   "cell_type": "code",
   "execution_count": 31,
   "metadata": {
    "ExecuteTime": {
     "end_time": "2021-04-10T19:44:24.586225Z",
     "start_time": "2021-04-10T19:44:24.582573Z"
    }
   },
   "outputs": [
    {
     "data": {
      "text/plain": [
       "((32444, 34), (8112, 34))"
      ]
     },
     "execution_count": 31,
     "metadata": {},
     "output_type": "execute_result"
    }
   ],
   "source": [
    "X_train.shape, X_test.shape"
   ]
  },
  {
   "cell_type": "markdown",
   "metadata": {
    "ExecuteTime": {
     "end_time": "2021-03-17T02:58:35.053964Z",
     "start_time": "2021-03-17T02:58:35.050822Z"
    }
   },
   "source": [
    "## Grid Search"
   ]
  },
  {
   "cell_type": "code",
   "execution_count": 36,
   "metadata": {
    "ExecuteTime": {
     "end_time": "2021-03-17T02:58:37.318302Z",
     "start_time": "2021-03-17T02:58:37.314119Z"
    }
   },
   "outputs": [],
   "source": [
    "\n",
    "param_grid = {\n",
    "    'learning_rate': [0.05, 0.1, 0.2],\n",
    "    'max_depth': [3, 4, 5],\n",
    "    'min_child_weight': [1,],\n",
    "    'gamma': [0.0, 0.1],\n",
    "}\n",
    "scoring = make_scorer(accuracy_score)\n"
   ]
  },
  {
   "cell_type": "code",
   "execution_count": 37,
   "metadata": {
    "ExecuteTime": {
     "end_time": "2021-03-17T02:58:39.070119Z",
     "start_time": "2021-03-17T02:58:39.067511Z"
    }
   },
   "outputs": [],
   "source": [
    "xgb = XGBClassifier()\n",
    "tree_clf = GridSearchCV(xgb, param_grid, scoring=scoring, cv=5, n_jobs=-1, verbose=2)\n",
    "\n",
    "# tree_clf.fit(X_train,y_train)"
   ]
  },
  {
   "cell_type": "code",
   "execution_count": 38,
   "metadata": {
    "ExecuteTime": {
     "end_time": "2021-03-17T03:06:48.757400Z",
     "start_time": "2021-03-17T02:58:43.816753Z"
    },
    "scrolled": true
   },
   "outputs": [
    {
     "name": "stdout",
     "output_type": "stream",
     "text": [
      "Fitting 5 folds for each of 18 candidates, totalling 90 fits\n",
      "[CV] END gamma=0.0, learning_rate=0.05, max_depth=3, min_child_weight=1; total time=  41.2s\n",
      "[CV] END gamma=0.0, learning_rate=0.05, max_depth=3, min_child_weight=1; total time=  41.2s\n",
      "[CV] END gamma=0.0, learning_rate=0.05, max_depth=3, min_child_weight=1; total time=  41.3s\n",
      "[CV] END gamma=0.0, learning_rate=0.05, max_depth=3, min_child_weight=1; total time=  41.3s\n",
      "[CV] END gamma=0.0, learning_rate=0.05, max_depth=3, min_child_weight=1; total time=  41.4s\n",
      "[CV] END gamma=0.0, learning_rate=0.05, max_depth=4, min_child_weight=1; total time= 1.1min\n",
      "[CV] END gamma=0.0, learning_rate=0.05, max_depth=4, min_child_weight=1; total time= 1.1min\n",
      "[CV] END gamma=0.0, learning_rate=0.05, max_depth=4, min_child_weight=1; total time= 1.1min\n",
      "[CV] END gamma=0.0, learning_rate=0.05, max_depth=4, min_child_weight=1; total time= 1.1min\n",
      "[CV] END gamma=0.0, learning_rate=0.05, max_depth=4, min_child_weight=1; total time= 1.1min\n",
      "[CV] END gamma=0.0, learning_rate=0.05, max_depth=5, min_child_weight=1; total time= 1.6min\n",
      "[CV] END gamma=0.0, learning_rate=0.05, max_depth=5, min_child_weight=1; total time= 1.6min\n",
      "[CV] END gamma=0.0, learning_rate=0.1, max_depth=3, min_child_weight=1; total time= 1.3min\n",
      "[CV] END gamma=0.0, learning_rate=0.1, max_depth=3, min_child_weight=1; total time= 1.3min\n",
      "[CV] END gamma=0.0, learning_rate=0.1, max_depth=3, min_child_weight=1; total time= 1.3min\n",
      "[CV] END gamma=0.0, learning_rate=0.1, max_depth=3, min_child_weight=1; total time= 1.3min\n",
      "[CV] END gamma=0.0, learning_rate=0.1, max_depth=3, min_child_weight=1; total time= 1.3min\n",
      "[CV] END gamma=0.0, learning_rate=0.1, max_depth=4, min_child_weight=1; total time= 1.6min\n",
      "[CV] END gamma=0.0, learning_rate=0.1, max_depth=4, min_child_weight=1; total time= 1.6min\n",
      "[CV] END gamma=0.0, learning_rate=0.05, max_depth=5, min_child_weight=1; total time= 2.0min\n",
      "[CV] END gamma=0.0, learning_rate=0.05, max_depth=5, min_child_weight=1; total time= 2.0min\n",
      "[CV] END gamma=0.0, learning_rate=0.05, max_depth=5, min_child_weight=1; total time= 2.0min\n",
      "[CV] END gamma=0.0, learning_rate=0.1, max_depth=4, min_child_weight=1; total time= 1.4min\n",
      "[CV] END gamma=0.0, learning_rate=0.1, max_depth=4, min_child_weight=1; total time= 1.4min\n",
      "[CV] END gamma=0.0, learning_rate=0.1, max_depth=4, min_child_weight=1; total time= 1.4min\n",
      "[CV] END gamma=0.0, learning_rate=0.2, max_depth=3, min_child_weight=1; total time= 1.1min\n",
      "[CV] END gamma=0.0, learning_rate=0.1, max_depth=5, min_child_weight=1; total time= 1.8min\n",
      "[CV] END gamma=0.0, learning_rate=0.2, max_depth=3, min_child_weight=1; total time= 1.1min\n",
      "[CV] END gamma=0.0, learning_rate=0.2, max_depth=3, min_child_weight=1; total time= 1.1min\n",
      "[CV] END gamma=0.0, learning_rate=0.2, max_depth=3, min_child_weight=1; total time= 1.1min\n",
      "[CV] END gamma=0.0, learning_rate=0.1, max_depth=5, min_child_weight=1; total time= 1.7min\n",
      "[CV] END gamma=0.0, learning_rate=0.1, max_depth=5, min_child_weight=1; total time= 1.7min\n",
      "[CV] END gamma=0.0, learning_rate=0.2, max_depth=3, min_child_weight=1; total time= 1.0min\n",
      "[CV] END gamma=0.0, learning_rate=0.1, max_depth=5, min_child_weight=1; total time= 1.7min\n",
      "[CV] END gamma=0.0, learning_rate=0.2, max_depth=4, min_child_weight=1; total time= 1.3min\n",
      "[CV] END gamma=0.0, learning_rate=0.1, max_depth=5, min_child_weight=1; total time= 1.7min\n",
      "[CV] END gamma=0.0, learning_rate=0.2, max_depth=4, min_child_weight=1; total time= 1.2min\n",
      "[CV] END gamma=0.0, learning_rate=0.2, max_depth=4, min_child_weight=1; total time= 1.2min\n",
      "[CV] END gamma=0.0, learning_rate=0.2, max_depth=4, min_child_weight=1; total time= 1.2min\n",
      "[CV] END gamma=0.0, learning_rate=0.2, max_depth=4, min_child_weight=1; total time= 1.2min\n",
      "[CV] END gamma=0.1, learning_rate=0.05, max_depth=3, min_child_weight=1; total time=  52.6s\n",
      "[CV] END gamma=0.0, learning_rate=0.2, max_depth=5, min_child_weight=1; total time= 1.6min\n",
      "[CV] END gamma=0.0, learning_rate=0.2, max_depth=5, min_child_weight=1; total time= 1.6min\n",
      "[CV] END gamma=0.1, learning_rate=0.05, max_depth=3, min_child_weight=1; total time= 1.0min\n",
      "[CV] END gamma=0.1, learning_rate=0.05, max_depth=3, min_child_weight=1; total time= 1.0min\n",
      "[CV] END gamma=0.1, learning_rate=0.05, max_depth=3, min_child_weight=1; total time= 1.2min\n",
      "[CV] END gamma=0.0, learning_rate=0.2, max_depth=5, min_child_weight=1; total time= 1.8min\n",
      "[CV] END gamma=0.0, learning_rate=0.2, max_depth=5, min_child_weight=1; total time= 1.7min\n",
      "[CV] END gamma=0.0, learning_rate=0.2, max_depth=5, min_child_weight=1; total time= 1.7min\n",
      "[CV] END gamma=0.1, learning_rate=0.05, max_depth=3, min_child_weight=1; total time= 1.2min\n",
      "[CV] END gamma=0.1, learning_rate=0.05, max_depth=4, min_child_weight=1; total time= 1.5min\n",
      "[CV] END gamma=0.1, learning_rate=0.05, max_depth=4, min_child_weight=1; total time= 1.5min\n",
      "[CV] END gamma=0.1, learning_rate=0.05, max_depth=4, min_child_weight=1; total time= 1.5min\n",
      "[CV] END gamma=0.1, learning_rate=0.1, max_depth=3, min_child_weight=1; total time=  51.5s\n",
      "[CV] END gamma=0.1, learning_rate=0.05, max_depth=4, min_child_weight=1; total time= 1.3min\n",
      "[CV] END gamma=0.1, learning_rate=0.05, max_depth=4, min_child_weight=1; total time= 1.3min\n",
      "[CV] END gamma=0.1, learning_rate=0.1, max_depth=3, min_child_weight=1; total time=  47.5s\n",
      "[CV] END gamma=0.1, learning_rate=0.05, max_depth=5, min_child_weight=1; total time= 1.6min\n",
      "[CV] END gamma=0.1, learning_rate=0.05, max_depth=5, min_child_weight=1; total time= 1.6min\n",
      "[CV] END gamma=0.1, learning_rate=0.1, max_depth=3, min_child_weight=1; total time=  50.6s\n",
      "[CV] END gamma=0.1, learning_rate=0.1, max_depth=3, min_child_weight=1; total time=  50.8s\n",
      "[CV] END gamma=0.1, learning_rate=0.05, max_depth=5, min_child_weight=1; total time= 1.5min\n",
      "[CV] END gamma=0.1, learning_rate=0.1, max_depth=3, min_child_weight=1; total time=  51.0s\n",
      "[CV] END gamma=0.1, learning_rate=0.05, max_depth=5, min_child_weight=1; total time= 1.5min\n",
      "[CV] END gamma=0.1, learning_rate=0.05, max_depth=5, min_child_weight=1; total time= 1.5min\n",
      "[CV] END gamma=0.1, learning_rate=0.1, max_depth=4, min_child_weight=1; total time= 1.4min\n",
      "[CV] END gamma=0.1, learning_rate=0.1, max_depth=4, min_child_weight=1; total time= 1.4min\n",
      "[CV] END gamma=0.1, learning_rate=0.1, max_depth=4, min_child_weight=1; total time= 1.4min\n",
      "[CV] END gamma=0.1, learning_rate=0.1, max_depth=4, min_child_weight=1; total time= 1.4min\n",
      "[CV] END gamma=0.1, learning_rate=0.2, max_depth=3, min_child_weight=1; total time= 1.1min\n",
      "[CV] END gamma=0.1, learning_rate=0.2, max_depth=3, min_child_weight=1; total time= 1.1min\n",
      "[CV] END gamma=0.1, learning_rate=0.1, max_depth=4, min_child_weight=1; total time= 1.4min\n",
      "[CV] END gamma=0.1, learning_rate=0.1, max_depth=5, min_child_weight=1; total time= 1.7min\n",
      "[CV] END gamma=0.1, learning_rate=0.2, max_depth=3, min_child_weight=1; total time=  53.1s\n",
      "[CV] END gamma=0.1, learning_rate=0.2, max_depth=3, min_child_weight=1; total time=  52.9s\n",
      "[CV] END gamma=0.1, learning_rate=0.2, max_depth=3, min_child_weight=1; total time=  52.9s\n",
      "[CV] END gamma=0.1, learning_rate=0.1, max_depth=5, min_child_weight=1; total time= 1.7min\n",
      "[CV] END gamma=0.1, learning_rate=0.1, max_depth=5, min_child_weight=1; total time= 1.7min\n",
      "[CV] END gamma=0.1, learning_rate=0.1, max_depth=5, min_child_weight=1; total time= 1.7min\n",
      "[CV] END gamma=0.1, learning_rate=0.1, max_depth=5, min_child_weight=1; total time= 1.7min\n",
      "[CV] END gamma=0.1, learning_rate=0.2, max_depth=4, min_child_weight=1; total time= 1.1min\n",
      "[CV] END gamma=0.1, learning_rate=0.2, max_depth=4, min_child_weight=1; total time= 1.1min\n",
      "[CV] END gamma=0.1, learning_rate=0.2, max_depth=4, min_child_weight=1; total time= 1.1min\n",
      "[CV] END gamma=0.1, learning_rate=0.2, max_depth=4, min_child_weight=1; total time= 1.1min\n",
      "[CV] END gamma=0.1, learning_rate=0.2, max_depth=4, min_child_weight=1; total time=  58.4s\n",
      "[CV] END gamma=0.1, learning_rate=0.2, max_depth=5, min_child_weight=1; total time= 1.1min\n",
      "[CV] END gamma=0.1, learning_rate=0.2, max_depth=5, min_child_weight=1; total time= 1.1min\n",
      "[CV] END gamma=0.1, learning_rate=0.2, max_depth=5, min_child_weight=1; total time= 1.1min\n",
      "[CV] END gamma=0.1, learning_rate=0.2, max_depth=5, min_child_weight=1; total time= 1.1min\n",
      "[CV] END gamma=0.1, learning_rate=0.2, max_depth=5, min_child_weight=1; total time= 1.1min\n"
     ]
    },
    {
     "data": {
      "text/html": [
       "<style>#sk-container-id-2 {color: black;background-color: white;}#sk-container-id-2 pre{padding: 0;}#sk-container-id-2 div.sk-toggleable {background-color: white;}#sk-container-id-2 label.sk-toggleable__label {cursor: pointer;display: block;width: 100%;margin-bottom: 0;padding: 0.3em;box-sizing: border-box;text-align: center;}#sk-container-id-2 label.sk-toggleable__label-arrow:before {content: \"▸\";float: left;margin-right: 0.25em;color: #696969;}#sk-container-id-2 label.sk-toggleable__label-arrow:hover:before {color: black;}#sk-container-id-2 div.sk-estimator:hover label.sk-toggleable__label-arrow:before {color: black;}#sk-container-id-2 div.sk-toggleable__content {max-height: 0;max-width: 0;overflow: hidden;text-align: left;background-color: #f0f8ff;}#sk-container-id-2 div.sk-toggleable__content pre {margin: 0.2em;color: black;border-radius: 0.25em;background-color: #f0f8ff;}#sk-container-id-2 input.sk-toggleable__control:checked~div.sk-toggleable__content {max-height: 200px;max-width: 100%;overflow: auto;}#sk-container-id-2 input.sk-toggleable__control:checked~label.sk-toggleable__label-arrow:before {content: \"▾\";}#sk-container-id-2 div.sk-estimator input.sk-toggleable__control:checked~label.sk-toggleable__label {background-color: #d4ebff;}#sk-container-id-2 div.sk-label input.sk-toggleable__control:checked~label.sk-toggleable__label {background-color: #d4ebff;}#sk-container-id-2 input.sk-hidden--visually {border: 0;clip: rect(1px 1px 1px 1px);clip: rect(1px, 1px, 1px, 1px);height: 1px;margin: -1px;overflow: hidden;padding: 0;position: absolute;width: 1px;}#sk-container-id-2 div.sk-estimator {font-family: monospace;background-color: #f0f8ff;border: 1px dotted black;border-radius: 0.25em;box-sizing: border-box;margin-bottom: 0.5em;}#sk-container-id-2 div.sk-estimator:hover {background-color: #d4ebff;}#sk-container-id-2 div.sk-parallel-item::after {content: \"\";width: 100%;border-bottom: 1px solid gray;flex-grow: 1;}#sk-container-id-2 div.sk-label:hover label.sk-toggleable__label {background-color: #d4ebff;}#sk-container-id-2 div.sk-serial::before {content: \"\";position: absolute;border-left: 1px solid gray;box-sizing: border-box;top: 0;bottom: 0;left: 50%;z-index: 0;}#sk-container-id-2 div.sk-serial {display: flex;flex-direction: column;align-items: center;background-color: white;padding-right: 0.2em;padding-left: 0.2em;position: relative;}#sk-container-id-2 div.sk-item {position: relative;z-index: 1;}#sk-container-id-2 div.sk-parallel {display: flex;align-items: stretch;justify-content: center;background-color: white;position: relative;}#sk-container-id-2 div.sk-item::before, #sk-container-id-2 div.sk-parallel-item::before {content: \"\";position: absolute;border-left: 1px solid gray;box-sizing: border-box;top: 0;bottom: 0;left: 50%;z-index: -1;}#sk-container-id-2 div.sk-parallel-item {display: flex;flex-direction: column;z-index: 1;position: relative;background-color: white;}#sk-container-id-2 div.sk-parallel-item:first-child::after {align-self: flex-end;width: 50%;}#sk-container-id-2 div.sk-parallel-item:last-child::after {align-self: flex-start;width: 50%;}#sk-container-id-2 div.sk-parallel-item:only-child::after {width: 0;}#sk-container-id-2 div.sk-dashed-wrapped {border: 1px dashed gray;margin: 0 0.4em 0.5em 0.4em;box-sizing: border-box;padding-bottom: 0.4em;background-color: white;}#sk-container-id-2 div.sk-label label {font-family: monospace;font-weight: bold;display: inline-block;line-height: 1.2em;}#sk-container-id-2 div.sk-label-container {text-align: center;}#sk-container-id-2 div.sk-container {/* jupyter's `normalize.less` sets `[hidden] { display: none; }` but bootstrap.min.css set `[hidden] { display: none !important; }` so we also need the `!important` here to be able to override the default hidden behavior on the sphinx rendered scikit-learn.org. See: https://github.com/scikit-learn/scikit-learn/issues/21755 */display: inline-block !important;position: relative;}#sk-container-id-2 div.sk-text-repr-fallback {display: none;}</style><div id=\"sk-container-id-2\" class=\"sk-top-container\"><div class=\"sk-text-repr-fallback\"><pre>GridSearchCV(cv=5,\n",
       "             estimator=XGBClassifier(base_score=None, booster=None,\n",
       "                                     callbacks=None, colsample_bylevel=None,\n",
       "                                     colsample_bynode=None,\n",
       "                                     colsample_bytree=None,\n",
       "                                     early_stopping_rounds=None,\n",
       "                                     enable_categorical=False, eval_metric=None,\n",
       "                                     feature_types=None, gamma=None,\n",
       "                                     gpu_id=None, grow_policy=None,\n",
       "                                     importance_type=None,\n",
       "                                     interaction_constraints=None,\n",
       "                                     learning_rate=None,...\n",
       "                                     max_delta_step=None, max_depth=None,\n",
       "                                     max_leaves=None, min_child_weight=None,\n",
       "                                     missing=nan, monotone_constraints=None,\n",
       "                                     n_estimators=100, n_jobs=None,\n",
       "                                     num_parallel_tree=None, predictor=None,\n",
       "                                     random_state=None, ...),\n",
       "             n_jobs=-1,\n",
       "             param_grid={&#x27;gamma&#x27;: [0.0, 0.1], &#x27;learning_rate&#x27;: [0.05, 0.1, 0.2],\n",
       "                         &#x27;max_depth&#x27;: [3, 4, 5], &#x27;min_child_weight&#x27;: [1]},\n",
       "             scoring=make_scorer(accuracy_score), verbose=2)</pre><b>In a Jupyter environment, please rerun this cell to show the HTML representation or trust the notebook. <br />On GitHub, the HTML representation is unable to render, please try loading this page with nbviewer.org.</b></div><div class=\"sk-container\" hidden><div class=\"sk-item sk-dashed-wrapped\"><div class=\"sk-label-container\"><div class=\"sk-label sk-toggleable\"><input class=\"sk-toggleable__control sk-hidden--visually\" id=\"sk-estimator-id-4\" type=\"checkbox\" ><label for=\"sk-estimator-id-4\" class=\"sk-toggleable__label sk-toggleable__label-arrow\">GridSearchCV</label><div class=\"sk-toggleable__content\"><pre>GridSearchCV(cv=5,\n",
       "             estimator=XGBClassifier(base_score=None, booster=None,\n",
       "                                     callbacks=None, colsample_bylevel=None,\n",
       "                                     colsample_bynode=None,\n",
       "                                     colsample_bytree=None,\n",
       "                                     early_stopping_rounds=None,\n",
       "                                     enable_categorical=False, eval_metric=None,\n",
       "                                     feature_types=None, gamma=None,\n",
       "                                     gpu_id=None, grow_policy=None,\n",
       "                                     importance_type=None,\n",
       "                                     interaction_constraints=None,\n",
       "                                     learning_rate=None,...\n",
       "                                     max_delta_step=None, max_depth=None,\n",
       "                                     max_leaves=None, min_child_weight=None,\n",
       "                                     missing=nan, monotone_constraints=None,\n",
       "                                     n_estimators=100, n_jobs=None,\n",
       "                                     num_parallel_tree=None, predictor=None,\n",
       "                                     random_state=None, ...),\n",
       "             n_jobs=-1,\n",
       "             param_grid={&#x27;gamma&#x27;: [0.0, 0.1], &#x27;learning_rate&#x27;: [0.05, 0.1, 0.2],\n",
       "                         &#x27;max_depth&#x27;: [3, 4, 5], &#x27;min_child_weight&#x27;: [1]},\n",
       "             scoring=make_scorer(accuracy_score), verbose=2)</pre></div></div></div><div class=\"sk-parallel\"><div class=\"sk-parallel-item\"><div class=\"sk-item\"><div class=\"sk-label-container\"><div class=\"sk-label sk-toggleable\"><input class=\"sk-toggleable__control sk-hidden--visually\" id=\"sk-estimator-id-5\" type=\"checkbox\" ><label for=\"sk-estimator-id-5\" class=\"sk-toggleable__label sk-toggleable__label-arrow\">estimator: XGBClassifier</label><div class=\"sk-toggleable__content\"><pre>XGBClassifier(base_score=None, booster=None, callbacks=None,\n",
       "              colsample_bylevel=None, colsample_bynode=None,\n",
       "              colsample_bytree=None, early_stopping_rounds=None,\n",
       "              enable_categorical=False, eval_metric=None, feature_types=None,\n",
       "              gamma=None, gpu_id=None, grow_policy=None, importance_type=None,\n",
       "              interaction_constraints=None, learning_rate=None, max_bin=None,\n",
       "              max_cat_threshold=None, max_cat_to_onehot=None,\n",
       "              max_delta_step=None, max_depth=None, max_leaves=None,\n",
       "              min_child_weight=None, missing=nan, monotone_constraints=None,\n",
       "              n_estimators=100, n_jobs=None, num_parallel_tree=None,\n",
       "              predictor=None, random_state=None, ...)</pre></div></div></div><div class=\"sk-serial\"><div class=\"sk-item\"><div class=\"sk-estimator sk-toggleable\"><input class=\"sk-toggleable__control sk-hidden--visually\" id=\"sk-estimator-id-6\" type=\"checkbox\" ><label for=\"sk-estimator-id-6\" class=\"sk-toggleable__label sk-toggleable__label-arrow\">XGBClassifier</label><div class=\"sk-toggleable__content\"><pre>XGBClassifier(base_score=None, booster=None, callbacks=None,\n",
       "              colsample_bylevel=None, colsample_bynode=None,\n",
       "              colsample_bytree=None, early_stopping_rounds=None,\n",
       "              enable_categorical=False, eval_metric=None, feature_types=None,\n",
       "              gamma=None, gpu_id=None, grow_policy=None, importance_type=None,\n",
       "              interaction_constraints=None, learning_rate=None, max_bin=None,\n",
       "              max_cat_threshold=None, max_cat_to_onehot=None,\n",
       "              max_delta_step=None, max_depth=None, max_leaves=None,\n",
       "              min_child_weight=None, missing=nan, monotone_constraints=None,\n",
       "              n_estimators=100, n_jobs=None, num_parallel_tree=None,\n",
       "              predictor=None, random_state=None, ...)</pre></div></div></div></div></div></div></div></div></div></div>"
      ],
      "text/plain": [
       "GridSearchCV(cv=5,\n",
       "             estimator=XGBClassifier(base_score=None, booster=None,\n",
       "                                     callbacks=None, colsample_bylevel=None,\n",
       "                                     colsample_bynode=None,\n",
       "                                     colsample_bytree=None,\n",
       "                                     early_stopping_rounds=None,\n",
       "                                     enable_categorical=False, eval_metric=None,\n",
       "                                     feature_types=None, gamma=None,\n",
       "                                     gpu_id=None, grow_policy=None,\n",
       "                                     importance_type=None,\n",
       "                                     interaction_constraints=None,\n",
       "                                     learning_rate=None,...\n",
       "                                     max_delta_step=None, max_depth=None,\n",
       "                                     max_leaves=None, min_child_weight=None,\n",
       "                                     missing=nan, monotone_constraints=None,\n",
       "                                     n_estimators=100, n_jobs=None,\n",
       "                                     num_parallel_tree=None, predictor=None,\n",
       "                                     random_state=None, ...),\n",
       "             n_jobs=-1,\n",
       "             param_grid={'gamma': [0.0, 0.1], 'learning_rate': [0.05, 0.1, 0.2],\n",
       "                         'max_depth': [3, 4, 5], 'min_child_weight': [1]},\n",
       "             scoring=make_scorer(accuracy_score), verbose=2)"
      ]
     },
     "execution_count": 38,
     "metadata": {},
     "output_type": "execute_result"
    }
   ],
   "source": [
    "tree_clf.fit(X_train,y_train)"
   ]
  },
  {
   "cell_type": "markdown",
   "metadata": {
    "ExecuteTime": {
     "end_time": "2021-03-17T03:16:02.304785Z",
     "start_time": "2021-03-17T03:16:02.297791Z"
    }
   },
   "source": [
    "## Best parameters"
   ]
  },
  {
   "cell_type": "code",
   "execution_count": 39,
   "metadata": {
    "ExecuteTime": {
     "end_time": "2021-03-17T03:16:02.304785Z",
     "start_time": "2021-03-17T03:16:02.297791Z"
    }
   },
   "outputs": [
    {
     "name": "stdout",
     "output_type": "stream",
     "text": [
      "Best parameters found:  {'gamma': 0.0, 'learning_rate': 0.1, 'max_depth': 5, 'min_child_weight': 1}\n",
      "Best estimator found:  XGBClassifier(base_score=None, booster=None, callbacks=None,\n",
      "              colsample_bylevel=None, colsample_bynode=None,\n",
      "              colsample_bytree=None, early_stopping_rounds=None,\n",
      "              enable_categorical=False, eval_metric=None, feature_types=None,\n",
      "              gamma=0.0, gpu_id=None, grow_policy=None, importance_type=None,\n",
      "              interaction_constraints=None, learning_rate=0.1, max_bin=None,\n",
      "              max_cat_threshold=None, max_cat_to_onehot=None,\n",
      "              max_delta_step=None, max_depth=5, max_leaves=None,\n",
      "              min_child_weight=1, missing=nan, monotone_constraints=None,\n",
      "              n_estimators=100, n_jobs=None, num_parallel_tree=None,\n",
      "              objective='multi:softprob', predictor=None, ...)\n"
     ]
    }
   ],
   "source": [
    "# # print('Best Criterion:', tree_clf_gs.best_estimator_.get_params()['criterion'])\n",
    "# print('Best max_depth:', tree_clf.best_estimator_.get_params()['max_depth'])\n",
    "# print('Best min_samples_split:', tree_clf.best_estimator_.get_params()['min_samples_split'])\n",
    "# print('Best min_samples_leaf:', tree_clf.best_estimator_.get_params()['min_samples_leaf'])\n",
    "# # print(); \n",
    "# # print(clf_GS.best_estimator_.get_params()['dec_tree'])\n",
    "\n",
    "best_params = tree_clf.best_params_\n",
    "best_estimator = tree_clf.best_estimator_\n",
    "\n",
    "print(\"Best parameters found: \", best_params)\n",
    "print(\"Best estimator found: \", best_estimator)"
   ]
  },
  {
   "cell_type": "code",
   "execution_count": 56,
   "metadata": {},
   "outputs": [
    {
     "name": "stdout",
     "output_type": "stream",
     "text": [
      "Index(['popularity', 'acousticness', 'danceability', 'duration_ms', 'energy',\n",
      "       'instrumentalness', 'liveness', 'loudness', 'speechiness', 'tempo',\n",
      "       'valence', 'key_0', 'key_1', 'key_2', 'key_3', 'key_4', 'key_5',\n",
      "       'key_6', 'key_7', 'key_8', 'key_9', 'key_10', 'key_11', 'genre_0',\n",
      "       'genre_1', 'genre_2', 'genre_3', 'genre_4', 'genre_5', 'genre_6',\n",
      "       'genre_7', 'genre_8', 'genre_9', 'Minor', 'Major'],\n",
      "      dtype='object')\n"
     ]
    }
   ],
   "source": [
    "print(df.columns)"
   ]
  },
  {
   "cell_type": "code",
   "execution_count": 62,
   "metadata": {
    "ExecuteTime": {
     "end_time": "2021-03-17T03:16:04.271674Z",
     "start_time": "2021-03-17T03:16:04.262662Z"
    }
   },
   "outputs": [],
   "source": [
    "# Train the XGBoost model\n",
    "\n",
    "\n",
    "# model = xgb.XGBClassifier()\n",
    "# model.fit(X_train, y_train)\n",
    "\n",
    "# Get the feature importances from the model\n",
    "feature_importances = best_estimator.feature_importances_\n",
    "\n",
    "# Calculate F1 scores for each feature by removing the feature and retraining the model\n",
    "features_to_remove_list = [\n",
    "    [0],  # Indices of features to remove in the first iteration\n",
    "    [1],\n",
    "    [2],\n",
    "    [3],\n",
    "    [4],\n",
    "    [5],\n",
    "    [6],\n",
    "    [7],\n",
    "    [8],\n",
    "    [9],\n",
    "    [10,11,12,13,14,15,16,17,18,19,20,21],\n",
    "    [22,23,24,25,26,27,28],\n",
    "    [29,30]   # Indices of features to remove in the second iteration\n",
    "]\n",
    "\n",
    "# Calculate F1 scores for each combination of manually specified features removed\n",
    "f1_scores = {}\n",
    "for features_to_remove in features_to_remove_list:\n",
    "    X_train_dropped = np.delete(X_train, features_to_remove, axis=1)\n",
    "    X_test_dropped = np.delete(X_test, features_to_remove, axis=1)\n",
    "    \n",
    "    dropped_model = best_estimator\n",
    "    dropped_model.fit(X_train_dropped, y_train)\n",
    "    y_pred = dropped_model.predict(X_test_dropped)\n",
    "\n",
    "    f1 = f1_score(y_test, y_pred, average='weighted')\n",
    "    f1_scores[tuple(features_to_remove)] = f1\n"
   ]
  },
  {
   "cell_type": "code",
   "execution_count": 66,
   "metadata": {},
   "outputs": [
    {
     "data": {
      "image/png": "[encoded data removed]",
      "text/plain": [
       "<Figure size 1000x500 with 1 Axes>"
      ]
     },
     "metadata": {},
     "output_type": "display_data"
    }
   ],
   "source": [
    "# # Visualize the F1 scores\n",
    "# plt.bar(range(X_train.shape[1]), f1_scores, tick_label=df.drop('popularity', axis=1).columns)\n",
    "# plt.xlabel('Features')\n",
    "# plt.ylabel('F1 Score')\n",
    "# plt.title('F1 Score for Each Feature')\n",
    "# plt.xticks(rotation=45)  # Rotate x-axis labels for better readability\n",
    "# plt.show()\n",
    "\n",
    "x_labels = ['acousticness', 'danceability', 'duration_ms', 'energy',\n",
    "       'instrumentalness', 'liveness', 'loudness', 'speechiness', 'tempo',\n",
    "       'valence', 'key', 'genre', 'Minor or Major'\n",
    "]\n",
    "# Visualize the F1 scores\n",
    "plt.figure(figsize=(10, 5))\n",
    "plt.bar(range(len(f1_scores)), f1_scores.values(), tick_label=x_labels)\n",
    "plt.xlabel('Features Removed')\n",
    "plt.ylabel('F1 Score')\n",
    "plt.title('F1 Score for Manually Specified Features Removed')\n",
    "plt.xticks(rotation=45)  # Rotate x-axis labels for better readability\n",
    "plt.show()\n"
   ]
  },
  {
   "cell_type": "code",
   "execution_count": 67,
   "metadata": {},
   "outputs": [
    {
     "name": "stdout",
     "output_type": "stream",
     "text": [
      "Index(['popularity', 'acousticness', 'danceability', 'duration_ms', 'energy',\n",
      "       'instrumentalness', 'liveness', 'loudness', 'speechiness', 'tempo',\n",
      "       'valence', 'key_0', 'key_1', 'key_2', 'key_3', 'key_4', 'key_5',\n",
      "       'key_6', 'key_7', 'key_8', 'key_9', 'key_10', 'key_11', 'genre_0',\n",
      "       'genre_1', 'genre_2', 'genre_3', 'genre_4', 'genre_5', 'genre_6',\n",
      "       'genre_7', 'genre_8', 'genre_9', 'Minor', 'Major'],\n",
      "      dtype='object')\n"
     ]
    }
   ],
   "source": [
    "print(df.columns)"
   ]
  },
  {
   "cell_type": "code",
   "execution_count": 74,
   "metadata": {},
   "outputs": [],
   "source": [
    "# Train the XGBoost model\n",
    "\n",
    "\n",
    "# model = xgb.XGBClassifier()\n",
    "# model.fit(X_train, y_train)\n",
    "\n",
    "# Get the feature importances from the model\n",
    "feature_importances = best_estimator.feature_importances_\n",
    "\n",
    "# Calculate F1 scores for each feature by removing the feature and retraining the model\n",
    "features_to_remove_list = [\n",
    "    [0, 1, 2, 3, 4, 5, 6 ,7],  # Indices of features to remove in the first iteration\n",
    "    [8, 9, 10,11,12,13,14,15,16,17,18,19,20,21],\n",
    "    [22,23,24,25,26,27,28],\n",
    "    [29,30]   # Indices of features to remove in the second iteration\n",
    "]\n",
    "\n",
    "# Calculate F1 scores for each combination of manually specified features removed\n",
    "f1_scores = {}\n",
    "for features_to_remove in features_to_remove_list:\n",
    "    X_train_dropped = np.delete(X_train, features_to_remove, axis=1)\n",
    "    X_test_dropped = np.delete(X_test, features_to_remove, axis=1)\n",
    "    \n",
    "    dropped_model = best_estimator\n",
    "    dropped_model.fit(X_train_dropped, y_train)\n",
    "    y_pred = dropped_model.predict(X_test_dropped)\n",
    "\n",
    "    f1 = f1_score(y_test, y_pred, average='weighted')\n",
    "    f1_scores[tuple(features_to_remove)] = f1"
   ]
  },
  {
   "cell_type": "code",
   "execution_count": 75,
   "metadata": {},
   "outputs": [
    {
     "data": {
      "image/png": "[encoded data removed]",
      "text/plain": [
       "<Figure size 1000x500 with 1 Axes>"
      ]
     },
     "metadata": {},
     "output_type": "display_data"
    }
   ],
   "source": [
    "# # Visualize the F1 scores\n",
    "# plt.bar(range(X_train.shape[1]), f1_scores, tick_label=df.drop('popularity', axis=1).columns)\n",
    "# plt.xlabel('Features')\n",
    "# plt.ylabel('F1 Score')\n",
    "# plt.title('F1 Score for Each Feature')\n",
    "# plt.xticks(rotation=45)  # Rotate x-axis labels for better readability\n",
    "# plt.show()\n",
    "\n",
    "x_labels = ['acousticness ~ speechiness', 'tempo + valence + key', 'genre', 'Minor or Major' ]\n",
    "# Visualize the F1 scores\n",
    "plt.figure(figsize=(10, 5))\n",
    "plt.bar(range(len(f1_scores)), f1_scores.values(), tick_label=x_labels)\n",
    "plt.xlabel('Features Removed')\n",
    "plt.ylabel('F1 Score')\n",
    "plt.title('F1 Score for Manually Specified Features Removed')\n",
    "plt.xticks(rotation=45)  # Rotate x-axis labels for better readability\n",
    "plt.show()\n"
   ]
  },
  {
   "cell_type": "code",
   "execution_count": null,
   "metadata": {
    "ExecuteTime": {
     "end_time": "2021-04-10T19:45:14.800465Z",
     "start_time": "2021-04-10T19:45:14.321946Z"
    }
   },
   "outputs": [],
   "source": [
    "\n",
    "y_pred = best_estimator.predict(X_test)\n",
    "accuracy = accuracy_score(y_test, y_pred)\n",
    "print(\"Test set accuracy: {:.2f}\".format(accuracy))\n",
    "\n"
   ]
  },
  {
   "cell_type": "markdown",
   "metadata": {},
   "source": [
    "## Results"
   ]
  },
  {
   "cell_type": "code",
   "execution_count": 16,
   "metadata": {},
   "outputs": [
    {
     "ename": "ValueError",
     "evalue": "Shape of passed values is (32444, 32), indices imply (32444, 33)",
     "output_type": "error",
     "traceback": [
      "\u001b[0;31m---------------------------------------------------------------------------\u001b[0m",
      "\u001b[0;31mValueError\u001b[0m                                Traceback (most recent call last)",
      "\u001b[1;32m/Users/ningyuhang/Desktop/EECS545/project/song-popularity-prediction-master/Code/Classification/XGBoost.ipynb Cell 20\u001b[0m in \u001b[0;36m9\n\u001b[1;32m      <a href='vscode-notebook-cell:/Users/ningyuhang/Desktop/EECS545/project/song-popularity-prediction-master/Code/Classification/XGBoost.ipynb#X40sZmlsZQ%3D%3D?line=6'>7</a>\u001b[0m f1_scores \u001b[39m=\u001b[39m []\n\u001b[1;32m      <a href='vscode-notebook-cell:/Users/ningyuhang/Desktop/EECS545/project/song-popularity-prediction-master/Code/Classification/XGBoost.ipynb#X40sZmlsZQ%3D%3D?line=7'>8</a>\u001b[0m \u001b[39mfor\u001b[39;00m i \u001b[39min\u001b[39;00m \u001b[39mrange\u001b[39m(X_train\u001b[39m.\u001b[39mshape[\u001b[39m1\u001b[39m]):\n\u001b[0;32m----> <a href='vscode-notebook-cell:/Users/ningyuhang/Desktop/EECS545/project/song-popularity-prediction-master/Code/Classification/XGBoost.ipynb#X40sZmlsZQ%3D%3D?line=8'>9</a>\u001b[0m     X_train_dropped \u001b[39m=\u001b[39m np\u001b[39m.\u001b[39;49mdelete(X_train, i, axis\u001b[39m=\u001b[39;49m\u001b[39m1\u001b[39;49m)\n\u001b[1;32m     <a href='vscode-notebook-cell:/Users/ningyuhang/Desktop/EECS545/project/song-popularity-prediction-master/Code/Classification/XGBoost.ipynb#X40sZmlsZQ%3D%3D?line=9'>10</a>\u001b[0m     X_test_dropped \u001b[39m=\u001b[39m np\u001b[39m.\u001b[39mdelete(X_test, i, axis\u001b[39m=\u001b[39m\u001b[39m1\u001b[39m)\n\u001b[1;32m     <a href='vscode-notebook-cell:/Users/ningyuhang/Desktop/EECS545/project/song-popularity-prediction-master/Code/Classification/XGBoost.ipynb#X40sZmlsZQ%3D%3D?line=11'>12</a>\u001b[0m     dropped_model \u001b[39m=\u001b[39m xgb\u001b[39m.\u001b[39mXGBClassifier()\n",
      "File \u001b[0;32m<__array_function__ internals>:200\u001b[0m, in \u001b[0;36mdelete\u001b[0;34m(*args, **kwargs)\u001b[0m\n",
      "File \u001b[0;32m/usr/local/lib/python3.10/site-packages/numpy/lib/function_base.py:5241\u001b[0m, in \u001b[0;36mdelete\u001b[0;34m(arr, obj, axis)\u001b[0m\n\u001b[1;32m   5238\u001b[0m     new \u001b[39m=\u001b[39m arr[\u001b[39mtuple\u001b[39m(slobj)]\n\u001b[1;32m   5240\u001b[0m \u001b[39mif\u001b[39;00m wrap:\n\u001b[0;32m-> 5241\u001b[0m     \u001b[39mreturn\u001b[39;00m wrap(new)\n\u001b[1;32m   5242\u001b[0m \u001b[39melse\u001b[39;00m:\n\u001b[1;32m   5243\u001b[0m     \u001b[39mreturn\u001b[39;00m new\n",
      "File \u001b[0;32m/usr/local/lib/python3.10/site-packages/pandas/core/generic.py:2107\u001b[0m, in \u001b[0;36mNDFrame.__array_wrap__\u001b[0;34m(self, result, context)\u001b[0m\n\u001b[1;32m   2105\u001b[0m     \u001b[39mreturn\u001b[39;00m res\n\u001b[1;32m   2106\u001b[0m d \u001b[39m=\u001b[39m \u001b[39mself\u001b[39m\u001b[39m.\u001b[39m_construct_axes_dict(\u001b[39mself\u001b[39m\u001b[39m.\u001b[39m_AXIS_ORDERS, copy\u001b[39m=\u001b[39m\u001b[39mFalse\u001b[39;00m)\n\u001b[0;32m-> 2107\u001b[0m \u001b[39mreturn\u001b[39;00m \u001b[39mself\u001b[39;49m\u001b[39m.\u001b[39;49m_constructor(res, \u001b[39m*\u001b[39;49m\u001b[39m*\u001b[39;49md)\u001b[39m.\u001b[39m__finalize__(\u001b[39mself\u001b[39m, method\u001b[39m=\u001b[39m\u001b[39m\"\u001b[39m\u001b[39m__array_wrap__\u001b[39m\u001b[39m\"\u001b[39m)\n",
      "File \u001b[0;32m/usr/local/lib/python3.10/site-packages/pandas/core/frame.py:722\u001b[0m, in \u001b[0;36mDataFrame.__init__\u001b[0;34m(self, data, index, columns, dtype, copy)\u001b[0m\n\u001b[1;32m    712\u001b[0m         mgr \u001b[39m=\u001b[39m dict_to_mgr(\n\u001b[1;32m    713\u001b[0m             \u001b[39m# error: Item \"ndarray\" of \"Union[ndarray, Series, Index]\" has no\u001b[39;00m\n\u001b[1;32m    714\u001b[0m             \u001b[39m# attribute \"name\"\u001b[39;00m\n\u001b[0;32m   (...)\u001b[0m\n\u001b[1;32m    719\u001b[0m             typ\u001b[39m=\u001b[39mmanager,\n\u001b[1;32m    720\u001b[0m         )\n\u001b[1;32m    721\u001b[0m     \u001b[39melse\u001b[39;00m:\n\u001b[0;32m--> 722\u001b[0m         mgr \u001b[39m=\u001b[39m ndarray_to_mgr(\n\u001b[1;32m    723\u001b[0m             data,\n\u001b[1;32m    724\u001b[0m             index,\n\u001b[1;32m    725\u001b[0m             columns,\n\u001b[1;32m    726\u001b[0m             dtype\u001b[39m=\u001b[39;49mdtype,\n\u001b[1;32m    727\u001b[0m             copy\u001b[39m=\u001b[39;49mcopy,\n\u001b[1;32m    728\u001b[0m             typ\u001b[39m=\u001b[39;49mmanager,\n\u001b[1;32m    729\u001b[0m         )\n\u001b[1;32m    731\u001b[0m \u001b[39m# For data is list-like, or Iterable (will consume into list)\u001b[39;00m\n\u001b[1;32m    732\u001b[0m \u001b[39melif\u001b[39;00m is_list_like(data):\n",
      "File \u001b[0;32m/usr/local/lib/python3.10/site-packages/pandas/core/internals/construction.py:349\u001b[0m, in \u001b[0;36mndarray_to_mgr\u001b[0;34m(values, index, columns, dtype, copy, typ)\u001b[0m\n\u001b[1;32m    344\u001b[0m \u001b[39m# _prep_ndarraylike ensures that values.ndim == 2 at this point\u001b[39;00m\n\u001b[1;32m    345\u001b[0m index, columns \u001b[39m=\u001b[39m _get_axes(\n\u001b[1;32m    346\u001b[0m     values\u001b[39m.\u001b[39mshape[\u001b[39m0\u001b[39m], values\u001b[39m.\u001b[39mshape[\u001b[39m1\u001b[39m], index\u001b[39m=\u001b[39mindex, columns\u001b[39m=\u001b[39mcolumns\n\u001b[1;32m    347\u001b[0m )\n\u001b[0;32m--> 349\u001b[0m _check_values_indices_shape_match(values, index, columns)\n\u001b[1;32m    351\u001b[0m \u001b[39mif\u001b[39;00m typ \u001b[39m==\u001b[39m \u001b[39m\"\u001b[39m\u001b[39marray\u001b[39m\u001b[39m\"\u001b[39m:\n\u001b[1;32m    353\u001b[0m     \u001b[39mif\u001b[39;00m \u001b[39missubclass\u001b[39m(values\u001b[39m.\u001b[39mdtype\u001b[39m.\u001b[39mtype, \u001b[39mstr\u001b[39m):\n",
      "File \u001b[0;32m/usr/local/lib/python3.10/site-packages/pandas/core/internals/construction.py:420\u001b[0m, in \u001b[0;36m_check_values_indices_shape_match\u001b[0;34m(values, index, columns)\u001b[0m\n\u001b[1;32m    418\u001b[0m passed \u001b[39m=\u001b[39m values\u001b[39m.\u001b[39mshape\n\u001b[1;32m    419\u001b[0m implied \u001b[39m=\u001b[39m (\u001b[39mlen\u001b[39m(index), \u001b[39mlen\u001b[39m(columns))\n\u001b[0;32m--> 420\u001b[0m \u001b[39mraise\u001b[39;00m \u001b[39mValueError\u001b[39;00m(\u001b[39mf\u001b[39m\u001b[39m\"\u001b[39m\u001b[39mShape of passed values is \u001b[39m\u001b[39m{\u001b[39;00mpassed\u001b[39m}\u001b[39;00m\u001b[39m, indices imply \u001b[39m\u001b[39m{\u001b[39;00mimplied\u001b[39m}\u001b[39;00m\u001b[39m\"\u001b[39m)\n",
      "\u001b[0;31mValueError\u001b[0m: Shape of passed values is (32444, 32), indices imply (32444, 33)"
     ]
    }
   ],
   "source": [
    "from sklearn.metrics import f1_score\n",
    "\n",
    "# Get the feature importances from the model\n",
    "feature_importances = best_estimator.feature_importances_\n",
    "\n",
    "# Calculate F1 scores for each feature by removing the feature and retraining the model\n",
    "f1_scores = []\n",
    "for i in range(X_train.shape[1]):\n",
    "    X_train_dropped = np.delete(X_train, i, axis=1)\n",
    "    X_test_dropped = np.delete(X_test, i, axis=1)\n",
    "\n",
    "    dropped_model = xgb.XGBClassifier()\n",
    "    dropped_model.fit(X_train_dropped, y_train)\n",
    "    y_pred = dropped_model.predict(X_test_dropped)\n",
    "\n",
    "    f1 = f1_score(y_test, y_pred, average='weighted')\n",
    "    f1_scores.append(f1)\n",
    "\n",
    "# Visualize the F1 scores\n",
    "plt.bar(range(X_train.shape[1]), f1_scores, tick_label=X.feature_names)\n",
    "plt.xlabel('Features')\n",
    "plt.ylabel('F1 Score')\n",
    "plt.title('F1 Score for Each Feature')\n",
    "plt.show()"
   ]
  },
  {
   "cell_type": "code",
   "execution_count": 14,
   "metadata": {
    "ExecuteTime": {
     "end_time": "2021-04-10T19:45:25.499172Z",
     "start_time": "2021-04-10T19:45:25.380871Z"
    }
   },
   "outputs": [],
   "source": [
    "y_pred_train = tree_clf.predict(X_train)"
   ]
  },
  {
   "cell_type": "code",
   "execution_count": 15,
   "metadata": {
    "ExecuteTime": {
     "end_time": "2021-04-10T19:45:27.241633Z",
     "start_time": "2021-04-10T19:45:27.222885Z"
    }
   },
   "outputs": [
    {
     "data": {
      "text/plain": [
       "0.6072309209715202"
      ]
     },
     "execution_count": 15,
     "metadata": {},
     "output_type": "execute_result"
    }
   ],
   "source": [
    "# training score\n",
    "accuracy_score(y_pred_train, y_train)"
   ]
  },
  {
   "cell_type": "code",
   "execution_count": 55,
   "metadata": {},
   "outputs": [
    {
     "data": {
      "image/png": "[encoded data removed]",
      "text/plain": [
       "<Figure size 640x480 with 1 Axes>"
      ]
     },
     "metadata": {},
     "output_type": "display_data"
    }
   ],
   "source": [
    "def plot_learning_curve(model, X, y, cv=5):\n",
    "    train_sizes, train_scores, test_scores = learning_curve(model, X, y, cv=cv)\n",
    "    train_scores_mean = np.mean(train_scores, axis=1)\n",
    "    test_scores_mean = np.mean(test_scores, axis=1)\n",
    "    \n",
    "    plt.figure()\n",
    "    plt.plot(train_sizes, train_scores_mean, 'o-', color='r', label='Training score')\n",
    "    # plt.plot(train_sizes, test_scores_mean, 'o-', color='g', label='Cross-validation score')\n",
    "    plt.xlabel('Training size')\n",
    "    plt.ylabel('Score')\n",
    "    plt.legend(loc='best')\n",
    "    plt.show()\n",
    "\n",
    "plot_learning_curve(best_estimator, X, y)"
   ]
  },
  {
   "cell_type": "code",
   "execution_count": 82,
   "metadata": {},
   "outputs": [
    {
     "ename": "AttributeError",
     "evalue": "'numpy.ndarray' object has no attribute 'head'",
     "output_type": "error",
     "traceback": [
      "\u001b[0;31m---------------------------------------------------------------------------\u001b[0m",
      "\u001b[0;31mAttributeError\u001b[0m                            Traceback (most recent call last)",
      "\u001b[1;32m/Users/ningyuhang/Desktop/EECS545/project/song-popularity-prediction-master/Code/Classification/XGBoost.ipynb Cell 23\u001b[0m in \u001b[0;36m1\n\u001b[0;32m----> <a href='vscode-notebook-cell:/Users/ningyuhang/Desktop/EECS545/project/song-popularity-prediction-master/Code/Classification/XGBoost.ipynb#X40sZmlsZQ%3D%3D?line=0'>1</a>\u001b[0m \u001b[39mprint\u001b[39m(y_test\u001b[39m.\u001b[39;49mhead)\n\u001b[1;32m      <a href='vscode-notebook-cell:/Users/ningyuhang/Desktop/EECS545/project/song-popularity-prediction-master/Code/Classification/XGBoost.ipynb#X40sZmlsZQ%3D%3D?line=1'>2</a>\u001b[0m y_test \u001b[39m=\u001b[39m y_test\u001b[39m.\u001b[39mvalues\n\u001b[1;32m      <a href='vscode-notebook-cell:/Users/ningyuhang/Desktop/EECS545/project/song-popularity-prediction-master/Code/Classification/XGBoost.ipynb#X40sZmlsZQ%3D%3D?line=2'>3</a>\u001b[0m \u001b[39mprint\u001b[39m(y_test)\n",
      "\u001b[0;31mAttributeError\u001b[0m: 'numpy.ndarray' object has no attribute 'head'"
     ]
    }
   ],
   "source": [
    "print(y_test.head)\n",
    "y_test = y_test.values\n",
    "print(y_test)\n",
    "# # y_test[1978]\n",
    "# print(type(y_pred))\n"
   ]
  },
  {
   "cell_type": "code",
   "execution_count": 83,
   "metadata": {
    "ExecuteTime": {
     "end_time": "2021-04-10T19:45:30.212404Z",
     "start_time": "2021-04-10T19:45:30.113081Z"
    }
   },
   "outputs": [
    {
     "name": "stdout",
     "output_type": "stream",
     "text": [
      "[[1734  387    5    6]\n",
      " [ 654 1139  211    5]\n",
      " [ 190  543  602  795]\n",
      " [  46  186  283 1326]]\n",
      "Classification report\n",
      "\n",
      "              precision    recall  f1-score   support\n",
      "\n",
      "           0       0.66      0.81      0.73      2132\n",
      "           1       0.51      0.57      0.53      2009\n",
      "           2       0.55      0.28      0.37      2130\n",
      "           3       0.62      0.72      0.67      1841\n",
      "\n",
      "    accuracy                           0.59      8112\n",
      "   macro avg       0.58      0.60      0.58      8112\n",
      "weighted avg       0.58      0.59      0.57      8112\n",
      "\n"
     ]
    }
   ],
   "source": [
    "\n",
    "print(confusion_matrix(y_test, y_pred))\n",
    "print(\"Classification report\\n\")\n",
    "print(classification_report(y_test, y_pred))\n",
    "\n",
    "# Calculate the fraction of correctly ordered pairs && Ranking SVM\n",
    "\n",
    "n_correct = 0\n",
    "n_pairs = 0\n",
    "\n",
    "try:\n",
    "    for i in range(len(y_test)):\n",
    "        for j in range(i + 1, len(y_test)):\n",
    "            if (y_test[i] < y_test[j]) == (y_pred[i] < y_pred[j]):\n",
    "                n_correct += 1\n",
    "            n_pairs += 1\n",
    "except KeyError:\n",
    "    print(f'Invalid column index: {i}')\n",
    "except IndexError:\n",
    "    print(f'Invalid row index: {i}')\n",
    "except Exception as e:\n",
    "    print(f'An unexpected error occurred: {e}')\n",
    "\n",
    "\n",
    "\n",
    "\n"
   ]
  },
  {
   "cell_type": "markdown",
   "metadata": {
    "ExecuteTime": {
     "end_time": "2021-04-11T07:37:33.909250Z",
     "start_time": "2021-04-11T07:37:33.860214Z"
    }
   },
   "source": [
    "## Plotting Graphs"
   ]
  },
  {
   "cell_type": "code",
   "execution_count": 84,
   "metadata": {},
   "outputs": [
    {
     "name": "stdout",
     "output_type": "stream",
     "text": [
      "Fraction of correctly ordered pairs: 0.8206725860149985\n"
     ]
    }
   ],
   "source": [
    "print(f'Fraction of correctly ordered pairs: {n_correct / n_pairs}')"
   ]
  },
  {
   "cell_type": "code",
   "execution_count": 62,
   "metadata": {
    "ExecuteTime": {
     "end_time": "2021-04-11T07:37:33.909250Z",
     "start_time": "2021-04-11T07:37:33.860214Z"
    }
   },
   "outputs": [
    {
     "ename": "ValueError",
     "evalue": "Feature shape mismatch, expected: 34, got 12",
     "output_type": "error",
     "traceback": [
      "\u001b[0;31m---------------------------------------------------------------------------\u001b[0m",
      "\u001b[0;31mValueError\u001b[0m                                Traceback (most recent call last)",
      "\u001b[1;32m/Users/ningyuhang/Desktop/EECS545/project/song-popularity-prediction-master/Code/Classification/XGBoost.ipynb Cell 25\u001b[0m in \u001b[0;36m3\n\u001b[1;32m      <a href='vscode-notebook-cell:/Users/ningyuhang/Desktop/EECS545/project/song-popularity-prediction-master/Code/Classification/XGBoost.ipynb#X32sZmlsZQ%3D%3D?line=0'>1</a>\u001b[0m \u001b[39mfrom\u001b[39;00m \u001b[39msklearn\u001b[39;00m\u001b[39m.\u001b[39;00m\u001b[39mmetrics\u001b[39;00m \u001b[39mimport\u001b[39;00m roc_curve, roc_auc_score\n\u001b[1;32m      <a href='vscode-notebook-cell:/Users/ningyuhang/Desktop/EECS545/project/song-popularity-prediction-master/Code/Classification/XGBoost.ipynb#X32sZmlsZQ%3D%3D?line=1'>2</a>\u001b[0m \u001b[39m# predict probabilities\u001b[39;00m\n\u001b[0;32m----> <a href='vscode-notebook-cell:/Users/ningyuhang/Desktop/EECS545/project/song-popularity-prediction-master/Code/Classification/XGBoost.ipynb#X32sZmlsZQ%3D%3D?line=2'>3</a>\u001b[0m lr_probs \u001b[39m=\u001b[39m tree_clf\u001b[39m.\u001b[39;49mpredict_proba(X_test)\n\u001b[1;32m      <a href='vscode-notebook-cell:/Users/ningyuhang/Desktop/EECS545/project/song-popularity-prediction-master/Code/Classification/XGBoost.ipynb#X32sZmlsZQ%3D%3D?line=3'>4</a>\u001b[0m \u001b[39m# keep probabilities for the positive outcome only\u001b[39;00m\n\u001b[1;32m      <a href='vscode-notebook-cell:/Users/ningyuhang/Desktop/EECS545/project/song-popularity-prediction-master/Code/Classification/XGBoost.ipynb#X32sZmlsZQ%3D%3D?line=4'>5</a>\u001b[0m lr_probs \u001b[39m=\u001b[39m lr_probs[:, \u001b[39m1\u001b[39m]\n",
      "File \u001b[0;32m/usr/local/lib/python3.10/site-packages/sklearn/model_selection/_search.py:523\u001b[0m, in \u001b[0;36mBaseSearchCV.predict_proba\u001b[0;34m(self, X)\u001b[0m\n\u001b[1;32m    504\u001b[0m \u001b[39m\"\"\"Call predict_proba on the estimator with the best found parameters.\u001b[39;00m\n\u001b[1;32m    505\u001b[0m \n\u001b[1;32m    506\u001b[0m \u001b[39mOnly available if ``refit=True`` and the underlying estimator supports\u001b[39;00m\n\u001b[0;32m   (...)\u001b[0m\n\u001b[1;32m    520\u001b[0m \u001b[39m    to that in the fitted attribute :term:`classes_`.\u001b[39;00m\n\u001b[1;32m    521\u001b[0m \u001b[39m\"\"\"\u001b[39;00m\n\u001b[1;32m    522\u001b[0m check_is_fitted(\u001b[39mself\u001b[39m)\n\u001b[0;32m--> 523\u001b[0m \u001b[39mreturn\u001b[39;00m \u001b[39mself\u001b[39;49m\u001b[39m.\u001b[39;49mbest_estimator_\u001b[39m.\u001b[39;49mpredict_proba(X)\n",
      "File \u001b[0;32m/usr/local/lib/python3.10/site-packages/xgboost/sklearn.py:1606\u001b[0m, in \u001b[0;36mXGBClassifier.predict_proba\u001b[0;34m(self, X, ntree_limit, validate_features, base_margin, iteration_range)\u001b[0m\n\u001b[1;32m   1604\u001b[0m     class_prob \u001b[39m=\u001b[39m softmax(raw_predt, axis\u001b[39m=\u001b[39m\u001b[39m1\u001b[39m)\n\u001b[1;32m   1605\u001b[0m     \u001b[39mreturn\u001b[39;00m class_prob\n\u001b[0;32m-> 1606\u001b[0m class_probs \u001b[39m=\u001b[39m \u001b[39msuper\u001b[39;49m()\u001b[39m.\u001b[39;49mpredict(\n\u001b[1;32m   1607\u001b[0m     X\u001b[39m=\u001b[39;49mX,\n\u001b[1;32m   1608\u001b[0m     ntree_limit\u001b[39m=\u001b[39;49mntree_limit,\n\u001b[1;32m   1609\u001b[0m     validate_features\u001b[39m=\u001b[39;49mvalidate_features,\n\u001b[1;32m   1610\u001b[0m     base_margin\u001b[39m=\u001b[39;49mbase_margin,\n\u001b[1;32m   1611\u001b[0m     iteration_range\u001b[39m=\u001b[39;49miteration_range,\n\u001b[1;32m   1612\u001b[0m )\n\u001b[1;32m   1613\u001b[0m \u001b[39m# If model is loaded from a raw booster there's no `n_classes_`\u001b[39;00m\n\u001b[1;32m   1614\u001b[0m \u001b[39mreturn\u001b[39;00m _cls_predict_proba(\n\u001b[1;32m   1615\u001b[0m     \u001b[39mgetattr\u001b[39m(\u001b[39mself\u001b[39m, \u001b[39m\"\u001b[39m\u001b[39mn_classes_\u001b[39m\u001b[39m\"\u001b[39m, \u001b[39m0\u001b[39m), class_probs, np\u001b[39m.\u001b[39mvstack\n\u001b[1;32m   1616\u001b[0m )\n",
      "File \u001b[0;32m/usr/local/lib/python3.10/site-packages/xgboost/sklearn.py:1114\u001b[0m, in \u001b[0;36mXGBModel.predict\u001b[0;34m(self, X, output_margin, ntree_limit, validate_features, base_margin, iteration_range)\u001b[0m\n\u001b[1;32m   1112\u001b[0m \u001b[39mif\u001b[39;00m \u001b[39mself\u001b[39m\u001b[39m.\u001b[39m_can_use_inplace_predict():\n\u001b[1;32m   1113\u001b[0m     \u001b[39mtry\u001b[39;00m:\n\u001b[0;32m-> 1114\u001b[0m         predts \u001b[39m=\u001b[39m \u001b[39mself\u001b[39;49m\u001b[39m.\u001b[39;49mget_booster()\u001b[39m.\u001b[39;49minplace_predict(\n\u001b[1;32m   1115\u001b[0m             data\u001b[39m=\u001b[39;49mX,\n\u001b[1;32m   1116\u001b[0m             iteration_range\u001b[39m=\u001b[39;49miteration_range,\n\u001b[1;32m   1117\u001b[0m             predict_type\u001b[39m=\u001b[39;49m\u001b[39m\"\u001b[39;49m\u001b[39mmargin\u001b[39;49m\u001b[39m\"\u001b[39;49m \u001b[39mif\u001b[39;49;00m output_margin \u001b[39melse\u001b[39;49;00m \u001b[39m\"\u001b[39;49m\u001b[39mvalue\u001b[39;49m\u001b[39m\"\u001b[39;49m,\n\u001b[1;32m   1118\u001b[0m             missing\u001b[39m=\u001b[39;49m\u001b[39mself\u001b[39;49m\u001b[39m.\u001b[39;49mmissing,\n\u001b[1;32m   1119\u001b[0m             base_margin\u001b[39m=\u001b[39;49mbase_margin,\n\u001b[1;32m   1120\u001b[0m             validate_features\u001b[39m=\u001b[39;49mvalidate_features,\n\u001b[1;32m   1121\u001b[0m         )\n\u001b[1;32m   1122\u001b[0m         \u001b[39mif\u001b[39;00m _is_cupy_array(predts):\n\u001b[1;32m   1123\u001b[0m             \u001b[39mimport\u001b[39;00m \u001b[39mcupy\u001b[39;00m  \u001b[39m# pylint: disable=import-error\u001b[39;00m\n",
      "File \u001b[0;32m/usr/local/lib/python3.10/site-packages/xgboost/core.py:2269\u001b[0m, in \u001b[0;36mBooster.inplace_predict\u001b[0;34m(self, data, iteration_range, predict_type, missing, validate_features, base_margin, strict_shape)\u001b[0m\n\u001b[1;32m   2265\u001b[0m         \u001b[39mraise\u001b[39;00m \u001b[39mTypeError\u001b[39;00m(\n\u001b[1;32m   2266\u001b[0m             \u001b[39m\"\u001b[39m\u001b[39m`shape` attribute is required when `validate_features` is True.\u001b[39m\u001b[39m\"\u001b[39m\n\u001b[1;32m   2267\u001b[0m         )\n\u001b[1;32m   2268\u001b[0m     \u001b[39mif\u001b[39;00m \u001b[39mlen\u001b[39m(data\u001b[39m.\u001b[39mshape) \u001b[39m!=\u001b[39m \u001b[39m1\u001b[39m \u001b[39mand\u001b[39;00m \u001b[39mself\u001b[39m\u001b[39m.\u001b[39mnum_features() \u001b[39m!=\u001b[39m data\u001b[39m.\u001b[39mshape[\u001b[39m1\u001b[39m]:\n\u001b[0;32m-> 2269\u001b[0m         \u001b[39mraise\u001b[39;00m \u001b[39mValueError\u001b[39;00m(\n\u001b[1;32m   2270\u001b[0m             \u001b[39mf\u001b[39m\u001b[39m\"\u001b[39m\u001b[39mFeature shape mismatch, expected: \u001b[39m\u001b[39m{\u001b[39;00m\u001b[39mself\u001b[39m\u001b[39m.\u001b[39mnum_features()\u001b[39m}\u001b[39;00m\u001b[39m, \u001b[39m\u001b[39m\"\u001b[39m\n\u001b[1;32m   2271\u001b[0m             \u001b[39mf\u001b[39m\u001b[39m\"\u001b[39m\u001b[39mgot \u001b[39m\u001b[39m{\u001b[39;00mdata\u001b[39m.\u001b[39mshape[\u001b[39m1\u001b[39m]\u001b[39m}\u001b[39;00m\u001b[39m\"\u001b[39m\n\u001b[1;32m   2272\u001b[0m         )\n\u001b[1;32m   2274\u001b[0m \u001b[39mfrom\u001b[39;00m \u001b[39m.\u001b[39;00m\u001b[39mdata\u001b[39;00m \u001b[39mimport\u001b[39;00m (\n\u001b[1;32m   2275\u001b[0m     _array_interface,\n\u001b[1;32m   2276\u001b[0m     _is_cudf_df,\n\u001b[0;32m   (...)\u001b[0m\n\u001b[1;32m   2279\u001b[0m     _transform_pandas_df,\n\u001b[1;32m   2280\u001b[0m )\n\u001b[1;32m   2282\u001b[0m enable_categorical \u001b[39m=\u001b[39m _has_categorical(\u001b[39mself\u001b[39m, data)\n",
      "\u001b[0;31mValueError\u001b[0m: Feature shape mismatch, expected: 34, got 12"
     ]
    }
   ],
   "source": [
    "from sklearn.metrics import roc_curve, roc_auc_score\n",
    "# predict probabilities\n",
    "lr_probs = tree_clf.predict_proba(X_test)\n",
    "# keep probabilities for the positive outcome only\n",
    "lr_probs = lr_probs[:, 1]\n",
    "\n"
   ]
  },
  {
   "cell_type": "code",
   "execution_count": 63,
   "metadata": {
    "ExecuteTime": {
     "end_time": "2021-04-11T07:37:35.518442Z",
     "start_time": "2021-04-11T07:37:35.359288Z"
    }
   },
   "outputs": [
    {
     "ename": "NameError",
     "evalue": "name 'lr_probs' is not defined",
     "output_type": "error",
     "traceback": [
      "\u001b[0;31m---------------------------------------------------------------------------\u001b[0m",
      "\u001b[0;31mNameError\u001b[0m                                 Traceback (most recent call last)",
      "\u001b[1;32m/Users/ningyuhang/Desktop/EECS545/project/song-popularity-prediction-master/Code/Classification/XGBoost.ipynb Cell 26\u001b[0m in \u001b[0;36m5\n\u001b[1;32m      <a href='vscode-notebook-cell:/Users/ningyuhang/Desktop/EECS545/project/song-popularity-prediction-master/Code/Classification/XGBoost.ipynb#X33sZmlsZQ%3D%3D?line=2'>3</a>\u001b[0m \u001b[39mimport\u001b[39;00m \u001b[39mnumpy\u001b[39;00m \u001b[39mas\u001b[39;00m \u001b[39mnp\u001b[39;00m\n\u001b[1;32m      <a href='vscode-notebook-cell:/Users/ningyuhang/Desktop/EECS545/project/song-popularity-prediction-master/Code/Classification/XGBoost.ipynb#X33sZmlsZQ%3D%3D?line=3'>4</a>\u001b[0m \u001b[39m# calculate roc curves\u001b[39;00m\n\u001b[0;32m----> <a href='vscode-notebook-cell:/Users/ningyuhang/Desktop/EECS545/project/song-popularity-prediction-master/Code/Classification/XGBoost.ipynb#X33sZmlsZQ%3D%3D?line=4'>5</a>\u001b[0m fpr, tpr, thresholds \u001b[39m=\u001b[39m roc_curve(y_test, lr_probs)\n\u001b[1;32m      <a href='vscode-notebook-cell:/Users/ningyuhang/Desktop/EECS545/project/song-popularity-prediction-master/Code/Classification/XGBoost.ipynb#X33sZmlsZQ%3D%3D?line=5'>6</a>\u001b[0m np\u001b[39m.\u001b[39msave(\u001b[39m\"\u001b[39m\u001b[39mfpr_DT\u001b[39m\u001b[39m\"\u001b[39m, fpr)\n\u001b[1;32m      <a href='vscode-notebook-cell:/Users/ningyuhang/Desktop/EECS545/project/song-popularity-prediction-master/Code/Classification/XGBoost.ipynb#X33sZmlsZQ%3D%3D?line=6'>7</a>\u001b[0m np\u001b[39m.\u001b[39msave(\u001b[39m\"\u001b[39m\u001b[39mtpr_DT\u001b[39m\u001b[39m\"\u001b[39m, tpr)\n",
      "\u001b[0;31mNameError\u001b[0m: name 'lr_probs' is not defined"
     ]
    }
   ],
   "source": [
    "from matplotlib import pyplot\n",
    "from numpy import sqrt, argmax, save\n",
    "import numpy as np\n",
    "# calculate roc curves\n",
    "fpr, tpr, thresholds = roc_curve(y_test, lr_probs)\n",
    "np.save(\"fpr_DT\", fpr)\n",
    "np.save(\"tpr_DT\", tpr)\n",
    "# plot the roc curve for the model\n",
    "pyplot.plot([0,1], [0,1], linestyle='--', label='No Skill')\n",
    "pyplot.plot(fpr, tpr, marker='.', label='Logistic')\n",
    "# axis labels\n",
    "pyplot.xlabel('False Positive Rate')\n",
    "pyplot.ylabel('True Positive Rate')\n",
    "pyplot.legend()\n",
    "# show the plot\n",
    "pyplot.show()"
   ]
  }
 ],
 "metadata": {
  "kernelspec": {
   "display_name": "Python 3.9.6 64-bit",
   "language": "python",
   "name": "python3"
  },
  "language_info": {
   "codemirror_mode": {
    "name": "ipython",
    "version": 3
   },
   "file_extension": ".py",
   "mimetype": "text/x-python",
   "name": "python",
   "nbconvert_exporter": "python",
   "pygments_lexer": "ipython3",
   "version": "3.10.6"
  },
  "toc": {
   "base_numbering": 1,
   "nav_menu": {},
   "number_sections": true,
   "sideBar": true,
   "skip_h1_title": false,
   "title_cell": "Table of Contents",
   "title_sidebar": "Contents",
   "toc_cell": false,
   "toc_position": {},
   "toc_section_display": true,
   "toc_window_display": false
  },
  "varInspector": {
   "cols": {
    "lenName": 16,
    "lenType": 16,
    "lenVar": 40
   },
   "kernels_config": {
    "python": {
     "delete_cmd_postfix": "",
     "delete_cmd_prefix": "del ",
     "library": "var_list.py",
     "varRefreshCmd": "print(var_dic_list())"
    },
    "r": {
     "delete_cmd_postfix": ") ",
     "delete_cmd_prefix": "rm(",
     "library": "var_list.r",
     "varRefreshCmd": "cat(var_dic_list()) "
    }
   },
   "types_to_exclude": [
    "module",
    "function",
    "builtin_function_or_method",
    "instance",
    "_Feature"
   ],
   "window_display": false
  },
  "vscode": {
   "interpreter": {
    "hash": "31f2aee4e71d21fbe5cf8b01ff0e069b9275f58929596ceb00d14d90e3e16cd6"
   }
  }
 },
 "nbformat": 4,
 "nbformat_minor": 4
}
