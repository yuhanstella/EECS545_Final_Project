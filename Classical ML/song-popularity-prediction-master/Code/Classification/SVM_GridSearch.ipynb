{
  "cells": [
    {
      "cell_type": "markdown",
      "id": "view-in-github",
      "metadata": {
        "id": "view-in-github"
      },
      "source": [
        "<a href=\"https://colab.research.google.com/github/yashrajkakkad/ml-spotify/blob/master/SVM_GridSearch.ipynb\" target=\"_parent\"><img src=\"https://colab.research.google.com/assets/colab-badge.svg\" alt=\"Open In Colab\"/></a>"
      ]
    },
    {
      "cell_type": "code",
      "execution_count": 1,
      "id": "GwKN0ykKGyFi",
      "metadata": {
        "id": "GwKN0ykKGyFi"
      },
      "outputs": [],
      "source": [
        "import numpy as np\n",
        "import pandas as pd\n",
        "from sklearn.feature_selection import SelectPercentile, chi2\n",
        "from sklearn.model_selection import train_test_split, cross_val_score\n",
        "from sklearn.pipeline import Pipeline\n",
        "from sklearn.preprocessing import StandardScaler\n",
        "from sklearn.svm import SVC"
      ]
    },
    {
      "cell_type": "code",
      "execution_count": null,
      "id": "9huttumo4efc",
      "metadata": {
        "colab": {
          "base_uri": "https://localhost:8080/"
        },
        "id": "9huttumo4efc",
        "outputId": "11db33b5-6d25-4fc6-ee55-2a3e6e53f966"
      },
      "outputs": [
        {
          "name": "stdout",
          "output_type": "stream",
          "text": [
            "Drive already mounted at /content/drive; to attempt to forcibly remount, call drive.mount(\"/content/drive\", force_remount=True).\n"
          ]
        }
      ],
      "source": [
        "from google.colab import drive\n",
        "drive.mount('/content/drive')"
      ]
    },
    {
      "cell_type": "code",
      "execution_count": 2,
      "id": "instant-shoot",
      "metadata": {
        "colab": {
          "base_uri": "https://localhost:8080/",
          "height": 215
        },
        "id": "instant-shoot",
        "outputId": "f08271fc-6de7-4772-cc4b-c6e7b1bf5c1f",
        "scrolled": true
      },
      "outputs": [
        {
          "data": {
            "text/html": [
              "<div>\n",
              "<style scoped>\n",
              "    .dataframe tbody tr th:only-of-type {\n",
              "        vertical-align: middle;\n",
              "    }\n",
              "\n",
              "    .dataframe tbody tr th {\n",
              "        vertical-align: top;\n",
              "    }\n",
              "\n",
              "    .dataframe thead th {\n",
              "        text-align: right;\n",
              "    }\n",
              "</style>\n",
              "<table border=\"1\" class=\"dataframe\">\n",
              "  <thead>\n",
              "    <tr style=\"text-align: right;\">\n",
              "      <th></th>\n",
              "      <th>popularity</th>\n",
              "      <th>acousticness</th>\n",
              "      <th>danceability</th>\n",
              "      <th>duration_ms</th>\n",
              "      <th>energy</th>\n",
              "      <th>instrumentalness</th>\n",
              "      <th>liveness</th>\n",
              "      <th>loudness</th>\n",
              "      <th>speechiness</th>\n",
              "      <th>tempo</th>\n",
              "      <th>...</th>\n",
              "      <th>genre_2</th>\n",
              "      <th>genre_3</th>\n",
              "      <th>genre_4</th>\n",
              "      <th>genre_5</th>\n",
              "      <th>genre_6</th>\n",
              "      <th>genre_7</th>\n",
              "      <th>genre_8</th>\n",
              "      <th>genre_9</th>\n",
              "      <th>Minor</th>\n",
              "      <th>Major</th>\n",
              "    </tr>\n",
              "  </thead>\n",
              "  <tbody>\n",
              "    <tr>\n",
              "      <th>0</th>\n",
              "      <td>0.0</td>\n",
              "      <td>0.01270</td>\n",
              "      <td>0.622</td>\n",
              "      <td>218293.0</td>\n",
              "      <td>0.890</td>\n",
              "      <td>0.950000</td>\n",
              "      <td>0.124</td>\n",
              "      <td>-7.043</td>\n",
              "      <td>0.0300</td>\n",
              "      <td>115.002</td>\n",
              "      <td>...</td>\n",
              "      <td>0.0</td>\n",
              "      <td>0.0</td>\n",
              "      <td>0.0</td>\n",
              "      <td>0.0</td>\n",
              "      <td>0.0</td>\n",
              "      <td>0.0</td>\n",
              "      <td>0.0</td>\n",
              "      <td>0.0</td>\n",
              "      <td>0.0</td>\n",
              "      <td>1.0</td>\n",
              "    </tr>\n",
              "    <tr>\n",
              "      <th>1</th>\n",
              "      <td>0.0</td>\n",
              "      <td>0.00306</td>\n",
              "      <td>0.620</td>\n",
              "      <td>215613.0</td>\n",
              "      <td>0.755</td>\n",
              "      <td>0.011800</td>\n",
              "      <td>0.534</td>\n",
              "      <td>-4.617</td>\n",
              "      <td>0.0345</td>\n",
              "      <td>127.994</td>\n",
              "      <td>...</td>\n",
              "      <td>0.0</td>\n",
              "      <td>0.0</td>\n",
              "      <td>0.0</td>\n",
              "      <td>0.0</td>\n",
              "      <td>0.0</td>\n",
              "      <td>0.0</td>\n",
              "      <td>0.0</td>\n",
              "      <td>0.0</td>\n",
              "      <td>1.0</td>\n",
              "      <td>0.0</td>\n",
              "    </tr>\n",
              "    <tr>\n",
              "      <th>2</th>\n",
              "      <td>0.0</td>\n",
              "      <td>0.02540</td>\n",
              "      <td>0.774</td>\n",
              "      <td>166875.0</td>\n",
              "      <td>0.700</td>\n",
              "      <td>0.002530</td>\n",
              "      <td>0.157</td>\n",
              "      <td>-4.498</td>\n",
              "      <td>0.2390</td>\n",
              "      <td>128.014</td>\n",
              "      <td>...</td>\n",
              "      <td>0.0</td>\n",
              "      <td>0.0</td>\n",
              "      <td>0.0</td>\n",
              "      <td>0.0</td>\n",
              "      <td>0.0</td>\n",
              "      <td>0.0</td>\n",
              "      <td>0.0</td>\n",
              "      <td>0.0</td>\n",
              "      <td>1.0</td>\n",
              "      <td>0.0</td>\n",
              "    </tr>\n",
              "    <tr>\n",
              "      <th>3</th>\n",
              "      <td>0.0</td>\n",
              "      <td>0.00465</td>\n",
              "      <td>0.638</td>\n",
              "      <td>222369.0</td>\n",
              "      <td>0.587</td>\n",
              "      <td>0.909000</td>\n",
              "      <td>0.157</td>\n",
              "      <td>-6.266</td>\n",
              "      <td>0.0413</td>\n",
              "      <td>145.036</td>\n",
              "      <td>...</td>\n",
              "      <td>0.0</td>\n",
              "      <td>0.0</td>\n",
              "      <td>0.0</td>\n",
              "      <td>0.0</td>\n",
              "      <td>0.0</td>\n",
              "      <td>0.0</td>\n",
              "      <td>0.0</td>\n",
              "      <td>0.0</td>\n",
              "      <td>1.0</td>\n",
              "      <td>0.0</td>\n",
              "    </tr>\n",
              "    <tr>\n",
              "      <th>4</th>\n",
              "      <td>2.0</td>\n",
              "      <td>0.02890</td>\n",
              "      <td>0.572</td>\n",
              "      <td>214408.0</td>\n",
              "      <td>0.803</td>\n",
              "      <td>0.000008</td>\n",
              "      <td>0.106</td>\n",
              "      <td>-4.294</td>\n",
              "      <td>0.3510</td>\n",
              "      <td>149.995</td>\n",
              "      <td>...</td>\n",
              "      <td>0.0</td>\n",
              "      <td>0.0</td>\n",
              "      <td>0.0</td>\n",
              "      <td>0.0</td>\n",
              "      <td>0.0</td>\n",
              "      <td>0.0</td>\n",
              "      <td>0.0</td>\n",
              "      <td>0.0</td>\n",
              "      <td>1.0</td>\n",
              "      <td>0.0</td>\n",
              "    </tr>\n",
              "  </tbody>\n",
              "</table>\n",
              "<p>5 rows × 35 columns</p>\n",
              "</div>"
            ],
            "text/plain": [
              "   popularity  acousticness  danceability  duration_ms  energy  \\\n",
              "0         0.0       0.01270         0.622     218293.0   0.890   \n",
              "1         0.0       0.00306         0.620     215613.0   0.755   \n",
              "2         0.0       0.02540         0.774     166875.0   0.700   \n",
              "3         0.0       0.00465         0.638     222369.0   0.587   \n",
              "4         2.0       0.02890         0.572     214408.0   0.803   \n",
              "\n",
              "   instrumentalness  liveness  loudness  speechiness    tempo  ...  genre_2  \\\n",
              "0          0.950000     0.124    -7.043       0.0300  115.002  ...      0.0   \n",
              "1          0.011800     0.534    -4.617       0.0345  127.994  ...      0.0   \n",
              "2          0.002530     0.157    -4.498       0.2390  128.014  ...      0.0   \n",
              "3          0.909000     0.157    -6.266       0.0413  145.036  ...      0.0   \n",
              "4          0.000008     0.106    -4.294       0.3510  149.995  ...      0.0   \n",
              "\n",
              "   genre_3  genre_4  genre_5  genre_6  genre_7  genre_8  genre_9  Minor  Major  \n",
              "0      0.0      0.0      0.0      0.0      0.0      0.0      0.0    0.0    1.0  \n",
              "1      0.0      0.0      0.0      0.0      0.0      0.0      0.0    1.0    0.0  \n",
              "2      0.0      0.0      0.0      0.0      0.0      0.0      0.0    1.0    0.0  \n",
              "3      0.0      0.0      0.0      0.0      0.0      0.0      0.0    1.0    0.0  \n",
              "4      0.0      0.0      0.0      0.0      0.0      0.0      0.0    1.0    0.0  \n",
              "\n",
              "[5 rows x 35 columns]"
            ]
          },
          "execution_count": 2,
          "metadata": {},
          "output_type": "execute_result"
        }
      ],
      "source": [
        "df = pd.read_csv('/Users/ningyuhang/Desktop/EECS545/project/data/data_merged_quartile.csv')\n",
        "df.head()"
      ]
    },
    {
      "cell_type": "code",
      "execution_count": 3,
      "id": "tfsWeIHbmfA6",
      "metadata": {
        "colab": {
          "base_uri": "https://localhost:8080/",
          "height": 304
        },
        "id": "tfsWeIHbmfA6",
        "outputId": "fcd75e38-42d6-4a5d-d0f2-6ed0e675fd64"
      },
      "outputs": [
        {
          "data": {
            "text/html": [
              "<div>\n",
              "<style scoped>\n",
              "    .dataframe tbody tr th:only-of-type {\n",
              "        vertical-align: middle;\n",
              "    }\n",
              "\n",
              "    .dataframe tbody tr th {\n",
              "        vertical-align: top;\n",
              "    }\n",
              "\n",
              "    .dataframe thead th {\n",
              "        text-align: right;\n",
              "    }\n",
              "</style>\n",
              "<table border=\"1\" class=\"dataframe\">\n",
              "  <thead>\n",
              "    <tr style=\"text-align: right;\">\n",
              "      <th></th>\n",
              "      <th>popularity</th>\n",
              "      <th>acousticness</th>\n",
              "      <th>danceability</th>\n",
              "      <th>duration_ms</th>\n",
              "      <th>energy</th>\n",
              "      <th>instrumentalness</th>\n",
              "      <th>liveness</th>\n",
              "      <th>loudness</th>\n",
              "      <th>speechiness</th>\n",
              "      <th>tempo</th>\n",
              "      <th>...</th>\n",
              "      <th>genre_2</th>\n",
              "      <th>genre_3</th>\n",
              "      <th>genre_4</th>\n",
              "      <th>genre_5</th>\n",
              "      <th>genre_6</th>\n",
              "      <th>genre_7</th>\n",
              "      <th>genre_8</th>\n",
              "      <th>genre_9</th>\n",
              "      <th>Minor</th>\n",
              "      <th>Major</th>\n",
              "    </tr>\n",
              "  </thead>\n",
              "  <tbody>\n",
              "    <tr>\n",
              "      <th>count</th>\n",
              "      <td>40556.000000</td>\n",
              "      <td>40556.000000</td>\n",
              "      <td>40556.000000</td>\n",
              "      <td>4.055600e+04</td>\n",
              "      <td>40556.000000</td>\n",
              "      <td>40556.000000</td>\n",
              "      <td>40556.000000</td>\n",
              "      <td>40556.000000</td>\n",
              "      <td>40556.000000</td>\n",
              "      <td>40556.000000</td>\n",
              "      <td>...</td>\n",
              "      <td>40556.000000</td>\n",
              "      <td>40556.000000</td>\n",
              "      <td>40556.000000</td>\n",
              "      <td>40556.000000</td>\n",
              "      <td>40556.000000</td>\n",
              "      <td>40556.000000</td>\n",
              "      <td>40556.000000</td>\n",
              "      <td>40556.000000</td>\n",
              "      <td>40556.000000</td>\n",
              "      <td>40556.000000</td>\n",
              "    </tr>\n",
              "    <tr>\n",
              "      <th>mean</th>\n",
              "      <td>1.453817</td>\n",
              "      <td>0.305996</td>\n",
              "      <td>0.558398</td>\n",
              "      <td>2.454898e+05</td>\n",
              "      <td>0.600334</td>\n",
              "      <td>0.181621</td>\n",
              "      <td>0.193823</td>\n",
              "      <td>-9.126433</td>\n",
              "      <td>0.093739</td>\n",
              "      <td>119.875788</td>\n",
              "      <td>...</td>\n",
              "      <td>0.100084</td>\n",
              "      <td>0.099887</td>\n",
              "      <td>0.099837</td>\n",
              "      <td>0.099665</td>\n",
              "      <td>0.099763</td>\n",
              "      <td>0.101070</td>\n",
              "      <td>0.099541</td>\n",
              "      <td>0.100528</td>\n",
              "      <td>0.639757</td>\n",
              "      <td>0.360243</td>\n",
              "    </tr>\n",
              "    <tr>\n",
              "      <th>std</th>\n",
              "      <td>1.107851</td>\n",
              "      <td>0.341117</td>\n",
              "      <td>0.178648</td>\n",
              "      <td>1.101264e+05</td>\n",
              "      <td>0.264509</td>\n",
              "      <td>0.325721</td>\n",
              "      <td>0.161508</td>\n",
              "      <td>6.154880</td>\n",
              "      <td>0.101506</td>\n",
              "      <td>30.653724</td>\n",
              "      <td>...</td>\n",
              "      <td>0.300115</td>\n",
              "      <td>0.299852</td>\n",
              "      <td>0.299787</td>\n",
              "      <td>0.299556</td>\n",
              "      <td>0.299688</td>\n",
              "      <td>0.301425</td>\n",
              "      <td>0.299391</td>\n",
              "      <td>0.300706</td>\n",
              "      <td>0.480077</td>\n",
              "      <td>0.480077</td>\n",
              "    </tr>\n",
              "    <tr>\n",
              "      <th>min</th>\n",
              "      <td>0.000000</td>\n",
              "      <td>0.000000</td>\n",
              "      <td>0.059600</td>\n",
              "      <td>1.550900e+04</td>\n",
              "      <td>0.000792</td>\n",
              "      <td>0.000000</td>\n",
              "      <td>0.009670</td>\n",
              "      <td>-47.046000</td>\n",
              "      <td>0.022300</td>\n",
              "      <td>34.347000</td>\n",
              "      <td>...</td>\n",
              "      <td>0.000000</td>\n",
              "      <td>0.000000</td>\n",
              "      <td>0.000000</td>\n",
              "      <td>0.000000</td>\n",
              "      <td>0.000000</td>\n",
              "      <td>0.000000</td>\n",
              "      <td>0.000000</td>\n",
              "      <td>0.000000</td>\n",
              "      <td>0.000000</td>\n",
              "      <td>0.000000</td>\n",
              "    </tr>\n",
              "    <tr>\n",
              "      <th>25%</th>\n",
              "      <td>0.000000</td>\n",
              "      <td>0.020000</td>\n",
              "      <td>0.442000</td>\n",
              "      <td>1.904800e+05</td>\n",
              "      <td>0.433000</td>\n",
              "      <td>0.000000</td>\n",
              "      <td>0.097000</td>\n",
              "      <td>-10.843000</td>\n",
              "      <td>0.036100</td>\n",
              "      <td>94.893000</td>\n",
              "      <td>...</td>\n",
              "      <td>0.000000</td>\n",
              "      <td>0.000000</td>\n",
              "      <td>0.000000</td>\n",
              "      <td>0.000000</td>\n",
              "      <td>0.000000</td>\n",
              "      <td>0.000000</td>\n",
              "      <td>0.000000</td>\n",
              "      <td>0.000000</td>\n",
              "      <td>0.000000</td>\n",
              "      <td>0.000000</td>\n",
              "    </tr>\n",
              "    <tr>\n",
              "      <th>50%</th>\n",
              "      <td>1.000000</td>\n",
              "      <td>0.144000</td>\n",
              "      <td>0.569000</td>\n",
              "      <td>2.275265e+05</td>\n",
              "      <td>0.644000</td>\n",
              "      <td>0.000157</td>\n",
              "      <td>0.126000</td>\n",
              "      <td>-7.277000</td>\n",
              "      <td>0.048900</td>\n",
              "      <td>119.755500</td>\n",
              "      <td>...</td>\n",
              "      <td>0.000000</td>\n",
              "      <td>0.000000</td>\n",
              "      <td>0.000000</td>\n",
              "      <td>0.000000</td>\n",
              "      <td>0.000000</td>\n",
              "      <td>0.000000</td>\n",
              "      <td>0.000000</td>\n",
              "      <td>0.000000</td>\n",
              "      <td>1.000000</td>\n",
              "      <td>0.000000</td>\n",
              "    </tr>\n",
              "    <tr>\n",
              "      <th>75%</th>\n",
              "      <td>2.000000</td>\n",
              "      <td>0.550000</td>\n",
              "      <td>0.687000</td>\n",
              "      <td>2.757600e+05</td>\n",
              "      <td>0.817000</td>\n",
              "      <td>0.152000</td>\n",
              "      <td>0.244000</td>\n",
              "      <td>-5.174000</td>\n",
              "      <td>0.098800</td>\n",
              "      <td>140.344250</td>\n",
              "      <td>...</td>\n",
              "      <td>0.000000</td>\n",
              "      <td>0.000000</td>\n",
              "      <td>0.000000</td>\n",
              "      <td>0.000000</td>\n",
              "      <td>0.000000</td>\n",
              "      <td>0.000000</td>\n",
              "      <td>0.000000</td>\n",
              "      <td>0.000000</td>\n",
              "      <td>1.000000</td>\n",
              "      <td>1.000000</td>\n",
              "    </tr>\n",
              "    <tr>\n",
              "      <th>max</th>\n",
              "      <td>3.000000</td>\n",
              "      <td>0.996000</td>\n",
              "      <td>0.986000</td>\n",
              "      <td>4.497994e+06</td>\n",
              "      <td>0.999000</td>\n",
              "      <td>0.996000</td>\n",
              "      <td>1.000000</td>\n",
              "      <td>3.744000</td>\n",
              "      <td>0.942000</td>\n",
              "      <td>220.276000</td>\n",
              "      <td>...</td>\n",
              "      <td>1.000000</td>\n",
              "      <td>1.000000</td>\n",
              "      <td>1.000000</td>\n",
              "      <td>1.000000</td>\n",
              "      <td>1.000000</td>\n",
              "      <td>1.000000</td>\n",
              "      <td>1.000000</td>\n",
              "      <td>1.000000</td>\n",
              "      <td>1.000000</td>\n",
              "      <td>1.000000</td>\n",
              "    </tr>\n",
              "  </tbody>\n",
              "</table>\n",
              "<p>8 rows × 35 columns</p>\n",
              "</div>"
            ],
            "text/plain": [
              "         popularity  acousticness  danceability   duration_ms        energy  \\\n",
              "count  40556.000000  40556.000000  40556.000000  4.055600e+04  40556.000000   \n",
              "mean       1.453817      0.305996      0.558398  2.454898e+05      0.600334   \n",
              "std        1.107851      0.341117      0.178648  1.101264e+05      0.264509   \n",
              "min        0.000000      0.000000      0.059600  1.550900e+04      0.000792   \n",
              "25%        0.000000      0.020000      0.442000  1.904800e+05      0.433000   \n",
              "50%        1.000000      0.144000      0.569000  2.275265e+05      0.644000   \n",
              "75%        2.000000      0.550000      0.687000  2.757600e+05      0.817000   \n",
              "max        3.000000      0.996000      0.986000  4.497994e+06      0.999000   \n",
              "\n",
              "       instrumentalness      liveness      loudness   speechiness  \\\n",
              "count      40556.000000  40556.000000  40556.000000  40556.000000   \n",
              "mean           0.181621      0.193823     -9.126433      0.093739   \n",
              "std            0.325721      0.161508      6.154880      0.101506   \n",
              "min            0.000000      0.009670    -47.046000      0.022300   \n",
              "25%            0.000000      0.097000    -10.843000      0.036100   \n",
              "50%            0.000157      0.126000     -7.277000      0.048900   \n",
              "75%            0.152000      0.244000     -5.174000      0.098800   \n",
              "max            0.996000      1.000000      3.744000      0.942000   \n",
              "\n",
              "              tempo  ...       genre_2       genre_3       genre_4  \\\n",
              "count  40556.000000  ...  40556.000000  40556.000000  40556.000000   \n",
              "mean     119.875788  ...      0.100084      0.099887      0.099837   \n",
              "std       30.653724  ...      0.300115      0.299852      0.299787   \n",
              "min       34.347000  ...      0.000000      0.000000      0.000000   \n",
              "25%       94.893000  ...      0.000000      0.000000      0.000000   \n",
              "50%      119.755500  ...      0.000000      0.000000      0.000000   \n",
              "75%      140.344250  ...      0.000000      0.000000      0.000000   \n",
              "max      220.276000  ...      1.000000      1.000000      1.000000   \n",
              "\n",
              "            genre_5       genre_6       genre_7       genre_8       genre_9  \\\n",
              "count  40556.000000  40556.000000  40556.000000  40556.000000  40556.000000   \n",
              "mean       0.099665      0.099763      0.101070      0.099541      0.100528   \n",
              "std        0.299556      0.299688      0.301425      0.299391      0.300706   \n",
              "min        0.000000      0.000000      0.000000      0.000000      0.000000   \n",
              "25%        0.000000      0.000000      0.000000      0.000000      0.000000   \n",
              "50%        0.000000      0.000000      0.000000      0.000000      0.000000   \n",
              "75%        0.000000      0.000000      0.000000      0.000000      0.000000   \n",
              "max        1.000000      1.000000      1.000000      1.000000      1.000000   \n",
              "\n",
              "              Minor         Major  \n",
              "count  40556.000000  40556.000000  \n",
              "mean       0.639757      0.360243  \n",
              "std        0.480077      0.480077  \n",
              "min        0.000000      0.000000  \n",
              "25%        0.000000      0.000000  \n",
              "50%        1.000000      0.000000  \n",
              "75%        1.000000      1.000000  \n",
              "max        1.000000      1.000000  \n",
              "\n",
              "[8 rows x 35 columns]"
            ]
          },
          "execution_count": 3,
          "metadata": {},
          "output_type": "execute_result"
        }
      ],
      "source": [
        "df.describe()"
      ]
    },
    {
      "cell_type": "code",
      "execution_count": 4,
      "id": "democratic-portugal",
      "metadata": {
        "colab": {
          "base_uri": "https://localhost:8080/"
        },
        "id": "democratic-portugal",
        "outputId": "0960b938-910f-4634-e2c9-6263d53921d2"
      },
      "outputs": [
        {
          "data": {
            "text/plain": [
              "(35,\n",
              " Index(['popularity', 'acousticness', 'danceability', 'duration_ms', 'energy',\n",
              "        'instrumentalness', 'liveness', 'loudness', 'speechiness', 'tempo',\n",
              "        'valence', 'key_0', 'key_1', 'key_2', 'key_3', 'key_4', 'key_5',\n",
              "        'key_6', 'key_7', 'key_8', 'key_9', 'key_10', 'key_11', 'genre_0',\n",
              "        'genre_1', 'genre_2', 'genre_3', 'genre_4', 'genre_5', 'genre_6',\n",
              "        'genre_7', 'genre_8', 'genre_9', 'Minor', 'Major'],\n",
              "       dtype='object'))"
            ]
          },
          "execution_count": 4,
          "metadata": {},
          "output_type": "execute_result"
        }
      ],
      "source": [
        "len(df.columns), df.columns"
      ]
    },
    {
      "cell_type": "code",
      "execution_count": 5,
      "id": "IMo1a9btHIef",
      "metadata": {
        "id": "IMo1a9btHIef"
      },
      "outputs": [],
      "source": [
        "\n",
        "y_popl = pd.concat([pd.Series(df['popularity'], name=\"popularity\")], axis=1)\n",
        "\n",
        "y = y_popl[\"popularity\"].values"
      ]
    },
    {
      "cell_type": "code",
      "execution_count": 7,
      "id": "abandoned-apparatus",
      "metadata": {
        "colab": {
          "base_uri": "https://localhost:8080/"
        },
        "id": "abandoned-apparatus",
        "outputId": "b349c414-006b-4b48-eb13-557b154cedbb"
      },
      "outputs": [],
      "source": [
        "drop_cols = [\"popularity\", \"loudness\"]\n",
        "X = df.drop(drop_cols, axis=1).values\n"
      ]
    },
    {
      "cell_type": "code",
      "execution_count": 8,
      "id": "WzTKoo7wLQUM",
      "metadata": {
        "colab": {
          "base_uri": "https://localhost:8080/"
        },
        "id": "WzTKoo7wLQUM",
        "outputId": "ce637c7a-3722-4e2b-bccb-8ec4184a8d68"
      },
      "outputs": [
        {
          "data": {
            "text/plain": [
              "((40556, 33), (40556,))"
            ]
          },
          "execution_count": 8,
          "metadata": {},
          "output_type": "execute_result"
        }
      ],
      "source": [
        "X.shape, y.shape"
      ]
    },
    {
      "cell_type": "code",
      "execution_count": 10,
      "id": "Seq61a0f9stt",
      "metadata": {
        "colab": {
          "base_uri": "https://localhost:8080/",
          "height": 295
        },
        "id": "Seq61a0f9stt",
        "outputId": "ac2fe82a-663d-4596-c8b9-e0fb0e741fbc"
      },
      "outputs": [
        {
          "name": "stdout",
          "output_type": "stream",
          "text": [
            "1\n",
            "10\n",
            "20\n",
            "30\n",
            "60\n",
            "80\n",
            "100\n"
          ]
        },
        {
          "data": {
            "image/png": "[encoded data removed]",
            "text/plain": [
              "<Figure size 640x480 with 1 Axes>"
            ]
          },
          "metadata": {},
          "output_type": "display_data"
        }
      ],
      "source": [
        "from sklearn.pipeline import Pipeline\n",
        "from sklearn.feature_selection import SelectPercentile, chi2\n",
        "import matplotlib.pyplot as plt\n",
        "\n",
        "# ANOVA can be used as a feature selection technique to identify the most relevant features \n",
        "# for a given task by analyzing the relationship between each feature and the target variable\n",
        "\n",
        "\n",
        "clf = Pipeline([('anova', SelectPercentile(chi2)),\n",
        "                ('scaler', StandardScaler()),\n",
        "                ('svc', SVC(gamma=\"auto\"))])\n",
        "X_train, X_test, y_train, y_test = train_test_split(\n",
        "    X, y, test_size=0.20, random_state=42, stratify=y\n",
        ")\n",
        "# #############################################################################\n",
        "# Plot the cross-validation score as a function of percentile of features\n",
        "\n",
        "# selects the top n% of features for ANOVA\n",
        "\n",
        "score_means = list()\n",
        "score_stds = list()\n",
        "percentiles = (1, 10, 20, 30, 60, 80, 100)\n",
        "\n",
        "for percentile in percentiles:\n",
        "    print(percentile)\n",
        "    clf.set_params(anova__percentile=percentile)\n",
        "    this_scores = cross_val_score(clf, X_train, y_train)\n",
        "    score_means.append(this_scores.mean())\n",
        "    score_stds.append(this_scores.std())\n",
        "\n",
        "plt.errorbar(percentiles, score_means, np.array(score_stds))\n",
        "plt.title(\n",
        "    'Performance of the SVM-Anova varying the percentile of features selected')\n",
        "plt.xticks(np.linspace(0, 100, 11, endpoint=True))\n",
        "plt.xlabel('Percentile')\n",
        "plt.ylabel('Accuracy Score')\n",
        "plt.axis('tight')\n",
        "plt.show()"
      ]
    },
    {
      "cell_type": "code",
      "execution_count": 11,
      "id": "ea18c9a7",
      "metadata": {},
      "outputs": [
        {
          "name": "stdout",
          "output_type": "stream",
          "text": [
            "[0.31916522298287586, 0.4557083228584312, 0.5306064336516374, 0.5805693130687444, 0.5856549754407487, 0.584144646569676, 0.5830658836665445]\n"
          ]
        }
      ],
      "source": [
        "print(score_means)"
      ]
    },
    {
      "cell_type": "code",
      "execution_count": 23,
      "id": "tender-domain",
      "metadata": {
        "colab": {
          "base_uri": "https://localhost:8080/"
        },
        "id": "tender-domain",
        "outputId": "6f6ec80f-cd8d-4396-bba0-5b3f3bb62840"
      },
      "outputs": [
        {
          "data": {
            "text/plain": [
              "(40556, 4)"
            ]
          },
          "execution_count": 23,
          "metadata": {},
          "output_type": "execute_result"
        }
      ],
      "source": [
        "from sklearn.feature_selection import SelectPercentile, chi2\n",
        "X = SelectPercentile(chi2, percentile=10).fit_transform(X, y)\n",
        "\n",
        "scaler = StandardScaler().fit(X)\n",
        "X = scaler.transform(X)\n",
        "X.shape"
      ]
    },
    {
      "cell_type": "code",
      "execution_count": 24,
      "id": "xwjgynfPQ4tF",
      "metadata": {
        "id": "xwjgynfPQ4tF"
      },
      "outputs": [],
      "source": [
        "X_train, X_test, y_train, y_test = train_test_split(\n",
        "    X, y, test_size=0.20, stratify=y, random_state=42\n",
        ")"
      ]
    },
    {
      "cell_type": "code",
      "execution_count": 25,
      "id": "__YWCNe2Q_uk",
      "metadata": {
        "colab": {
          "base_uri": "https://localhost:8080/"
        },
        "id": "__YWCNe2Q_uk",
        "outputId": "e7a72745-b05a-4190-a892-48e69369c731"
      },
      "outputs": [
        {
          "name": "stdout",
          "output_type": "stream",
          "text": [
            "# Tuning hyper-parameters for recall\n",
            "\n"
          ]
        },
        {
          "name": "stderr",
          "output_type": "stream",
          "text": [
            "/usr/local/lib/python3.10/site-packages/sklearn/model_selection/_validation.py:776: UserWarning: Scoring failed. The score on this train-test partition for these parameters will be set to nan. Details: \n",
            "Traceback (most recent call last):\n",
            "  File \"/usr/local/lib/python3.10/site-packages/sklearn/model_selection/_validation.py\", line 767, in _score\n",
            "    scores = scorer(estimator, X_test, y_test)\n",
            "  File \"/usr/local/lib/python3.10/site-packages/sklearn/metrics/_scorer.py\", line 220, in __call__\n",
            "    return self._score(\n",
            "  File \"/usr/local/lib/python3.10/site-packages/sklearn/metrics/_scorer.py\", line 268, in _score\n",
            "    return self._sign * self._score_func(y_true, y_pred, **self._kwargs)\n",
            "  File \"/usr/local/lib/python3.10/site-packages/sklearn/metrics/_classification.py\", line 2098, in recall_score\n",
            "    _, r, _, _ = precision_recall_fscore_support(\n",
            "  File \"/usr/local/lib/python3.10/site-packages/sklearn/metrics/_classification.py\", line 1573, in precision_recall_fscore_support\n",
            "    labels = _check_set_wise_labels(y_true, y_pred, average, labels, pos_label)\n",
            "  File \"/usr/local/lib/python3.10/site-packages/sklearn/metrics/_classification.py\", line 1391, in _check_set_wise_labels\n",
            "    raise ValueError(\n",
            "ValueError: Target is multiclass but average='binary'. Please choose another average setting, one of [None, 'micro', 'macro', 'weighted'].\n",
            "\n",
            "  warnings.warn(\n",
            "/usr/local/lib/python3.10/site-packages/sklearn/model_selection/_validation.py:776: UserWarning: Scoring failed. The score on this train-test partition for these parameters will be set to nan. Details: \n",
            "Traceback (most recent call last):\n",
            "  File \"/usr/local/lib/python3.10/site-packages/sklearn/model_selection/_validation.py\", line 767, in _score\n",
            "    scores = scorer(estimator, X_test, y_test)\n",
            "  File \"/usr/local/lib/python3.10/site-packages/sklearn/metrics/_scorer.py\", line 220, in __call__\n",
            "    return self._score(\n",
            "  File \"/usr/local/lib/python3.10/site-packages/sklearn/metrics/_scorer.py\", line 268, in _score\n",
            "    return self._sign * self._score_func(y_true, y_pred, **self._kwargs)\n",
            "  File \"/usr/local/lib/python3.10/site-packages/sklearn/metrics/_classification.py\", line 2098, in recall_score\n",
            "    _, r, _, _ = precision_recall_fscore_support(\n",
            "  File \"/usr/local/lib/python3.10/site-packages/sklearn/metrics/_classification.py\", line 1573, in precision_recall_fscore_support\n",
            "    labels = _check_set_wise_labels(y_true, y_pred, average, labels, pos_label)\n",
            "  File \"/usr/local/lib/python3.10/site-packages/sklearn/metrics/_classification.py\", line 1391, in _check_set_wise_labels\n",
            "    raise ValueError(\n",
            "ValueError: Target is multiclass but average='binary'. Please choose another average setting, one of [None, 'micro', 'macro', 'weighted'].\n",
            "\n",
            "  warnings.warn(\n",
            "/usr/local/lib/python3.10/site-packages/sklearn/model_selection/_validation.py:776: UserWarning: Scoring failed. The score on this train-test partition for these parameters will be set to nan. Details: \n",
            "Traceback (most recent call last):\n",
            "  File \"/usr/local/lib/python3.10/site-packages/sklearn/model_selection/_validation.py\", line 767, in _score\n",
            "    scores = scorer(estimator, X_test, y_test)\n",
            "  File \"/usr/local/lib/python3.10/site-packages/sklearn/metrics/_scorer.py\", line 220, in __call__\n",
            "    return self._score(\n",
            "  File \"/usr/local/lib/python3.10/site-packages/sklearn/metrics/_scorer.py\", line 268, in _score\n",
            "    return self._sign * self._score_func(y_true, y_pred, **self._kwargs)\n",
            "  File \"/usr/local/lib/python3.10/site-packages/sklearn/metrics/_classification.py\", line 2098, in recall_score\n",
            "    _, r, _, _ = precision_recall_fscore_support(\n",
            "  File \"/usr/local/lib/python3.10/site-packages/sklearn/metrics/_classification.py\", line 1573, in precision_recall_fscore_support\n",
            "    labels = _check_set_wise_labels(y_true, y_pred, average, labels, pos_label)\n",
            "  File \"/usr/local/lib/python3.10/site-packages/sklearn/metrics/_classification.py\", line 1391, in _check_set_wise_labels\n",
            "    raise ValueError(\n",
            "ValueError: Target is multiclass but average='binary'. Please choose another average setting, one of [None, 'micro', 'macro', 'weighted'].\n",
            "\n",
            "  warnings.warn(\n"
          ]
        }
      ],
      "source": [
        "\n",
        "from sklearn.svm import SVC\n",
        "from sklearn.model_selection import GridSearchCV, cross_val_score, cross_val_predict\n",
        "from sklearn.metrics import confusion_matrix, precision_score, recall_score, f1_score, classification_report\n",
        "\n",
        "# Set the parameters by cross-validation\n",
        "tuned_parameters = [\n",
        "#                         'kernel': ['rbf'], \n",
        "#                         'gamma': [1e-3, 1e-4],\n",
        "#                         'C': [1, 10, 100, 1000]\n",
        "#                     },\n",
        "                    {\n",
        "                        'kernel': ['linear'],\n",
        "                        'C': [1000, 1e4]\n",
        "                    }]\n",
        "\n",
        "scores = ['recall', 'f1']\n",
        "\n",
        "for score in scores:\n",
        "    print(\"# Tuning hyper-parameters for %s\" % score)\n",
        "    print()\n",
        "\n",
        "    clf = GridSearchCV(\n",
        "        SVC(), tuned_parameters, scoring='%s' % score\n",
        "    )\n",
        "    clf.fit(X_train[:10000], y_train[:10000])\n",
        "\n",
        "    print(\"Best parameters set found on development set:\")\n",
        "    print()\n",
        "    print(clf.best_params_)\n",
        "    print()\n",
        "    print(\"Grid scores on development set:\")\n",
        "    print()\n",
        "    means = clf.cv_results_['mean_test_score']\n",
        "    stds = clf.cv_results_['std_test_score']\n",
        "    for mean, std, params in zip(means, stds, clf.cv_results_['params']):\n",
        "        print(\"%0.3f (+/-%0.03f) for %r\"\n",
        "              % (mean, std * 2, params))\n",
        "    print()\n",
        "\n",
        "    print(\"Detailed classification report:\")\n",
        "    print()\n",
        "    print(\"The model is trained on the full development set.\")\n",
        "    print(\"The scores are computed on the full evaluation set.\")\n",
        "    print()\n",
        "    y_true, y_pred = y_test, clf.predict(X_test)\n",
        "    print(confusion_matrix(y_test, y_pred))\n",
        "    print(classification_report(y_true, y_pred))\n",
        "    print()\n",
        "\n",
        "# svm = LinearSVC(random_state=42, tol=1e-5, max_iter=10000)\n",
        "# svm.fit(X_train[:50000], y_train[:50000])\n",
        "# # print(\"Train accuracy of svm algo:\", svm.score(X_train, y_train))\n",
        "# # print(\"Test accuracy of svm algo:\", svm.score(X_test, y_test))\n",
        "\n",
        "\n",
        "# cv_scores = cross_val_score(svm, X_train[:100000], y_train[:100000], cv=3)\n",
        "# print(\"Cross Validation scores - \", cv_scores)\n",
        "\n",
        "# y_train_pred = cross_val_predict(svm, X_train[:100000], y_train[:100000])\n",
        "\n",
        "# confusion_matrix = confusion_matrix(y_train[:100000], y_train_pred)\n",
        "# print(\"Confusion matrix\\n\", confusion_matrix)\n",
        "\n",
        "# p_score = precision_score(y_train[:100000], y_train_pred)\n",
        "# rc_score = recall_score(y_train[:100000], y_train_pred)\n",
        "# f1_score = f1_score(y_train[:100000], y_train_pred)\n",
        "# p_score, rc_score, f1_score\n",
        "# print(\"Recall score = \", rc_score)\n",
        "# print(\"Precision score = \", p_score)\n",
        "# print(\"F1 score = \", f1_score)\n",
        "\n",
        "# print(\"Classification report\\n\")\n",
        "# print(classification_report(y_train[:100000], y_train_pred))"
      ]
    }
  ],
  "metadata": {
    "colab": {
      "collapsed_sections": [],
      "name": "SVM_GridSearch.ipynb",
      "provenance": []
    },
    "kernelspec": {
      "display_name": "Python 3.9.6 64-bit",
      "language": "python",
      "name": "python3"
    },
    "language_info": {
      "codemirror_mode": {
        "name": "ipython",
        "version": 3
      },
      "file_extension": ".py",
      "mimetype": "text/x-python",
      "name": "python",
      "nbconvert_exporter": "python",
      "pygments_lexer": "ipython3",
      "version": "3.10.6"
    },
    "notify_time": "30",
    "toc": {
      "base_numbering": 1,
      "nav_menu": {},
      "number_sections": true,
      "sideBar": true,
      "skip_h1_title": false,
      "title_cell": "Table of Contents",
      "title_sidebar": "Contents",
      "toc_cell": false,
      "toc_position": {},
      "toc_section_display": true,
      "toc_window_display": false
    },
    "varInspector": {
      "cols": {
        "lenName": 16,
        "lenType": 16,
        "lenVar": 40
      },
      "kernels_config": {
        "python": {
          "delete_cmd_postfix": "",
          "delete_cmd_prefix": "del ",
          "library": "var_list.py",
          "varRefreshCmd": "print(var_dic_list())"
        },
        "r": {
          "delete_cmd_postfix": ") ",
          "delete_cmd_prefix": "rm(",
          "library": "var_list.r",
          "varRefreshCmd": "cat(var_dic_list()) "
        }
      },
      "types_to_exclude": [
        "module",
        "function",
        "builtin_function_or_method",
        "instance",
        "_Feature"
      ],
      "window_display": false
    },
    "vscode": {
      "interpreter": {
        "hash": "31f2aee4e71d21fbe5cf8b01ff0e069b9275f58929596ceb00d14d90e3e16cd6"
      }
    }
  },
  "nbformat": 4,
  "nbformat_minor": 5
}
