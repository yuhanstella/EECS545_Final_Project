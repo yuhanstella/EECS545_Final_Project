{
  "cells": [
    {
      "cell_type": "markdown",
      "id": "view-in-github",
      "metadata": {
        "id": "view-in-github"
      },
      "source": [
        "<a href=\"https://colab.research.google.com/github/yashrajkakkad/ml-spotify/blob/master/SVM.ipynb\" target=\"_parent\"><img src=\"https://colab.research.google.com/assets/colab-badge.svg\" alt=\"Open In Colab\"/></a>"
      ]
    },
    {
      "cell_type": "code",
      "execution_count": 2,
      "id": "GwKN0ykKGyFi",
      "metadata": {
        "id": "GwKN0ykKGyFi"
      },
      "outputs": [
        {
          "name": "stdout",
          "output_type": "stream",
          "text": [
            "Requirement already satisfied: seaborn in /usr/local/lib/python3.10/site-packages (0.12.2)\n",
            "Requirement already satisfied: numpy!=1.24.0,>=1.17 in /usr/local/lib/python3.10/site-packages (from seaborn) (1.24.1)\n",
            "Requirement already satisfied: matplotlib!=3.6.1,>=3.1 in /usr/local/lib/python3.10/site-packages (from seaborn) (3.6.2)\n",
            "Requirement already satisfied: pandas>=0.25 in /usr/local/lib/python3.10/site-packages (from seaborn) (1.5.3)\n",
            "Requirement already satisfied: pyparsing>=2.2.1 in /usr/local/lib/python3.10/site-packages (from matplotlib!=3.6.1,>=3.1->seaborn) (3.0.9)\n",
            "Requirement already satisfied: python-dateutil>=2.7 in /usr/local/lib/python3.10/site-packages (from matplotlib!=3.6.1,>=3.1->seaborn) (2.8.2)\n",
            "Requirement already satisfied: packaging>=20.0 in /usr/local/lib/python3.10/site-packages (from matplotlib!=3.6.1,>=3.1->seaborn) (21.3)\n",
            "Requirement already satisfied: cycler>=0.10 in /usr/local/lib/python3.10/site-packages (from matplotlib!=3.6.1,>=3.1->seaborn) (0.11.0)\n",
            "Requirement already satisfied: pillow>=6.2.0 in /usr/local/lib/python3.10/site-packages (from matplotlib!=3.6.1,>=3.1->seaborn) (9.4.0)\n",
            "Requirement already satisfied: kiwisolver>=1.0.1 in /usr/local/lib/python3.10/site-packages (from matplotlib!=3.6.1,>=3.1->seaborn) (1.4.4)\n",
            "Requirement already satisfied: fonttools>=4.22.0 in /usr/local/lib/python3.10/site-packages (from matplotlib!=3.6.1,>=3.1->seaborn) (4.38.0)\n",
            "Requirement already satisfied: contourpy>=1.0.1 in /usr/local/lib/python3.10/site-packages (from matplotlib!=3.6.1,>=3.1->seaborn) (1.0.7)\n",
            "Requirement already satisfied: pytz>=2020.1 in /usr/local/lib/python3.10/site-packages (from pandas>=0.25->seaborn) (2022.7.1)\n",
            "Requirement already satisfied: six>=1.5 in /usr/local/lib/python3.10/site-packages (from python-dateutil>=2.7->matplotlib!=3.6.1,>=3.1->seaborn) (1.16.0)\n",
            "\n",
            "\u001b[1m[\u001b[0m\u001b[34;49mnotice\u001b[0m\u001b[1;39;49m]\u001b[0m\u001b[39;49m A new release of pip available: \u001b[0m\u001b[31;49m22.2.2\u001b[0m\u001b[39;49m -> \u001b[0m\u001b[32;49m23.0.1\u001b[0m\n",
            "\u001b[1m[\u001b[0m\u001b[34;49mnotice\u001b[0m\u001b[1;39;49m]\u001b[0m\u001b[39;49m To update, run: \u001b[0m\u001b[32;49mpython3.10 -m pip install --upgrade pip\u001b[0m\n"
          ]
        }
      ],
      "source": [
        "!pip3 install seaborn\n",
        "import numpy as np\n",
        "import pandas as pd\n",
        "import matplotlib.pyplot as plt\n",
        "import seaborn as sns\n",
        "from sklearn.feature_selection import SelectPercentile, chi2\n",
        "from sklearn.model_selection import train_test_split, cross_val_score\n",
        "from sklearn.pipeline import Pipeline\n",
        "from sklearn.preprocessing import StandardScaler\n",
        "from sklearn.svm import SVC"
      ]
    },
    {
      "cell_type": "code",
      "execution_count": 10,
      "id": "9huttumo4efc",
      "metadata": {
        "colab": {
          "base_uri": "https://localhost:8080/"
        },
        "id": "9huttumo4efc",
        "outputId": "b0303c3c-1925-4a4d-dd96-0e8ffe268f13"
      },
      "outputs": [
        {
          "ename": "ModuleNotFoundError",
          "evalue": "No module named 'google'",
          "output_type": "error",
          "traceback": [
            "\u001b[0;31m---------------------------------------------------------------------------\u001b[0m",
            "\u001b[0;31mModuleNotFoundError\u001b[0m                       Traceback (most recent call last)",
            "Cell \u001b[0;32mIn[10], line 1\u001b[0m\n\u001b[0;32m----> 1\u001b[0m \u001b[39mfrom\u001b[39;00m \u001b[39mgoogle\u001b[39;00m\u001b[39m.\u001b[39;00m\u001b[39mcolab\u001b[39;00m \u001b[39mimport\u001b[39;00m drive\n\u001b[1;32m      2\u001b[0m drive\u001b[39m.\u001b[39mmount(\u001b[39m'\u001b[39m\u001b[39m/content/drive\u001b[39m\u001b[39m'\u001b[39m)\n",
            "\u001b[0;31mModuleNotFoundError\u001b[0m: No module named 'google'"
          ]
        }
      ],
      "source": [
        "from google.colab import drive\n",
        "drive.mount('/content/drive')"
      ]
    },
    {
      "cell_type": "code",
      "execution_count": 3,
      "id": "instant-shoot",
      "metadata": {
        "ExecuteTime": {
          "end_time": "2021-03-02T09:02:13.472482Z",
          "start_time": "2021-03-02T09:02:12.150292Z"
        },
        "colab": {
          "base_uri": "https://localhost:8080/",
          "height": 215
        },
        "id": "instant-shoot",
        "outputId": "2448612e-07c4-4979-bdf1-df4c32a926c0",
        "scrolled": true
      },
      "outputs": [
        {
          "data": {
            "text/html": [
              "<div>\n",
              "<style scoped>\n",
              "    .dataframe tbody tr th:only-of-type {\n",
              "        vertical-align: middle;\n",
              "    }\n",
              "\n",
              "    .dataframe tbody tr th {\n",
              "        vertical-align: top;\n",
              "    }\n",
              "\n",
              "    .dataframe thead th {\n",
              "        text-align: right;\n",
              "    }\n",
              "</style>\n",
              "<table border=\"1\" class=\"dataframe\">\n",
              "  <thead>\n",
              "    <tr style=\"text-align: right;\">\n",
              "      <th></th>\n",
              "      <th>popularity</th>\n",
              "      <th>acousticness</th>\n",
              "      <th>danceability</th>\n",
              "      <th>duration_ms</th>\n",
              "      <th>energy</th>\n",
              "      <th>instrumentalness</th>\n",
              "      <th>liveness</th>\n",
              "      <th>loudness</th>\n",
              "      <th>speechiness</th>\n",
              "      <th>tempo</th>\n",
              "      <th>...</th>\n",
              "      <th>genre_2</th>\n",
              "      <th>genre_3</th>\n",
              "      <th>genre_4</th>\n",
              "      <th>genre_5</th>\n",
              "      <th>genre_6</th>\n",
              "      <th>genre_7</th>\n",
              "      <th>genre_8</th>\n",
              "      <th>genre_9</th>\n",
              "      <th>Minor</th>\n",
              "      <th>Major</th>\n",
              "    </tr>\n",
              "  </thead>\n",
              "  <tbody>\n",
              "    <tr>\n",
              "      <th>0</th>\n",
              "      <td>0.0</td>\n",
              "      <td>0.01270</td>\n",
              "      <td>0.622</td>\n",
              "      <td>218293.0</td>\n",
              "      <td>0.890</td>\n",
              "      <td>0.950000</td>\n",
              "      <td>0.124</td>\n",
              "      <td>-7.043</td>\n",
              "      <td>0.0300</td>\n",
              "      <td>115.002</td>\n",
              "      <td>...</td>\n",
              "      <td>0.0</td>\n",
              "      <td>0.0</td>\n",
              "      <td>0.0</td>\n",
              "      <td>0.0</td>\n",
              "      <td>0.0</td>\n",
              "      <td>0.0</td>\n",
              "      <td>0.0</td>\n",
              "      <td>0.0</td>\n",
              "      <td>0.0</td>\n",
              "      <td>1.0</td>\n",
              "    </tr>\n",
              "    <tr>\n",
              "      <th>1</th>\n",
              "      <td>0.0</td>\n",
              "      <td>0.00306</td>\n",
              "      <td>0.620</td>\n",
              "      <td>215613.0</td>\n",
              "      <td>0.755</td>\n",
              "      <td>0.011800</td>\n",
              "      <td>0.534</td>\n",
              "      <td>-4.617</td>\n",
              "      <td>0.0345</td>\n",
              "      <td>127.994</td>\n",
              "      <td>...</td>\n",
              "      <td>0.0</td>\n",
              "      <td>0.0</td>\n",
              "      <td>0.0</td>\n",
              "      <td>0.0</td>\n",
              "      <td>0.0</td>\n",
              "      <td>0.0</td>\n",
              "      <td>0.0</td>\n",
              "      <td>0.0</td>\n",
              "      <td>1.0</td>\n",
              "      <td>0.0</td>\n",
              "    </tr>\n",
              "    <tr>\n",
              "      <th>2</th>\n",
              "      <td>0.0</td>\n",
              "      <td>0.02540</td>\n",
              "      <td>0.774</td>\n",
              "      <td>166875.0</td>\n",
              "      <td>0.700</td>\n",
              "      <td>0.002530</td>\n",
              "      <td>0.157</td>\n",
              "      <td>-4.498</td>\n",
              "      <td>0.2390</td>\n",
              "      <td>128.014</td>\n",
              "      <td>...</td>\n",
              "      <td>0.0</td>\n",
              "      <td>0.0</td>\n",
              "      <td>0.0</td>\n",
              "      <td>0.0</td>\n",
              "      <td>0.0</td>\n",
              "      <td>0.0</td>\n",
              "      <td>0.0</td>\n",
              "      <td>0.0</td>\n",
              "      <td>1.0</td>\n",
              "      <td>0.0</td>\n",
              "    </tr>\n",
              "    <tr>\n",
              "      <th>3</th>\n",
              "      <td>0.0</td>\n",
              "      <td>0.00465</td>\n",
              "      <td>0.638</td>\n",
              "      <td>222369.0</td>\n",
              "      <td>0.587</td>\n",
              "      <td>0.909000</td>\n",
              "      <td>0.157</td>\n",
              "      <td>-6.266</td>\n",
              "      <td>0.0413</td>\n",
              "      <td>145.036</td>\n",
              "      <td>...</td>\n",
              "      <td>0.0</td>\n",
              "      <td>0.0</td>\n",
              "      <td>0.0</td>\n",
              "      <td>0.0</td>\n",
              "      <td>0.0</td>\n",
              "      <td>0.0</td>\n",
              "      <td>0.0</td>\n",
              "      <td>0.0</td>\n",
              "      <td>1.0</td>\n",
              "      <td>0.0</td>\n",
              "    </tr>\n",
              "    <tr>\n",
              "      <th>4</th>\n",
              "      <td>2.0</td>\n",
              "      <td>0.02890</td>\n",
              "      <td>0.572</td>\n",
              "      <td>214408.0</td>\n",
              "      <td>0.803</td>\n",
              "      <td>0.000008</td>\n",
              "      <td>0.106</td>\n",
              "      <td>-4.294</td>\n",
              "      <td>0.3510</td>\n",
              "      <td>149.995</td>\n",
              "      <td>...</td>\n",
              "      <td>0.0</td>\n",
              "      <td>0.0</td>\n",
              "      <td>0.0</td>\n",
              "      <td>0.0</td>\n",
              "      <td>0.0</td>\n",
              "      <td>0.0</td>\n",
              "      <td>0.0</td>\n",
              "      <td>0.0</td>\n",
              "      <td>1.0</td>\n",
              "      <td>0.0</td>\n",
              "    </tr>\n",
              "  </tbody>\n",
              "</table>\n",
              "<p>5 rows × 35 columns</p>\n",
              "</div>"
            ],
            "text/plain": [
              "   popularity  acousticness  danceability  duration_ms  energy  \\\n",
              "0         0.0       0.01270         0.622     218293.0   0.890   \n",
              "1         0.0       0.00306         0.620     215613.0   0.755   \n",
              "2         0.0       0.02540         0.774     166875.0   0.700   \n",
              "3         0.0       0.00465         0.638     222369.0   0.587   \n",
              "4         2.0       0.02890         0.572     214408.0   0.803   \n",
              "\n",
              "   instrumentalness  liveness  loudness  speechiness    tempo  ...  genre_2  \\\n",
              "0          0.950000     0.124    -7.043       0.0300  115.002  ...      0.0   \n",
              "1          0.011800     0.534    -4.617       0.0345  127.994  ...      0.0   \n",
              "2          0.002530     0.157    -4.498       0.2390  128.014  ...      0.0   \n",
              "3          0.909000     0.157    -6.266       0.0413  145.036  ...      0.0   \n",
              "4          0.000008     0.106    -4.294       0.3510  149.995  ...      0.0   \n",
              "\n",
              "   genre_3  genre_4  genre_5  genre_6  genre_7  genre_8  genre_9  Minor  Major  \n",
              "0      0.0      0.0      0.0      0.0      0.0      0.0      0.0    0.0    1.0  \n",
              "1      0.0      0.0      0.0      0.0      0.0      0.0      0.0    1.0    0.0  \n",
              "2      0.0      0.0      0.0      0.0      0.0      0.0      0.0    1.0    0.0  \n",
              "3      0.0      0.0      0.0      0.0      0.0      0.0      0.0    1.0    0.0  \n",
              "4      0.0      0.0      0.0      0.0      0.0      0.0      0.0    1.0    0.0  \n",
              "\n",
              "[5 rows x 35 columns]"
            ]
          },
          "execution_count": 3,
          "metadata": {},
          "output_type": "execute_result"
        }
      ],
      "source": [
        "df = pd.read_csv('/Users/ningyuhang/Desktop/EECS545/project/data/data_merged_quartile.csv')\n",
        "df.head()"
      ]
    },
    {
      "cell_type": "code",
      "execution_count": 4,
      "id": "gnRjwr9xot4B",
      "metadata": {
        "colab": {
          "base_uri": "https://localhost:8080/"
        },
        "id": "gnRjwr9xot4B",
        "outputId": "72541f52-f118-4929-e9b2-d086cf32f0c9"
      },
      "outputs": [
        {
          "data": {
            "text/plain": [
              "Index(['popularity', 'acousticness', 'danceability', 'duration_ms', 'energy',\n",
              "       'instrumentalness', 'liveness', 'loudness', 'speechiness', 'tempo',\n",
              "       'valence', 'key_0', 'key_1', 'key_2', 'key_3', 'key_4', 'key_5',\n",
              "       'key_6', 'key_7', 'key_8', 'key_9', 'key_10', 'key_11', 'genre_0',\n",
              "       'genre_1', 'genre_2', 'genre_3', 'genre_4', 'genre_5', 'genre_6',\n",
              "       'genre_7', 'genre_8', 'genre_9', 'Minor', 'Major'],\n",
              "      dtype='object')"
            ]
          },
          "execution_count": 4,
          "metadata": {},
          "output_type": "execute_result"
        }
      ],
      "source": [
        "df.columns"
      ]
    },
    {
      "cell_type": "code",
      "execution_count": 5,
      "id": "IMo1a9btHIef",
      "metadata": {
        "colab": {
          "base_uri": "https://localhost:8080/"
        },
        "id": "IMo1a9btHIef",
        "outputId": "0c581dbe-f720-42fc-fb89-8ba882c5d68d"
      },
      "outputs": [
        {
          "data": {
            "text/plain": [
              "0.0    10656\n",
              "2.0    10651\n",
              "1.0    10044\n",
              "3.0     9205\n",
              "Name: popularity, dtype: int64"
            ]
          },
          "execution_count": 5,
          "metadata": {},
          "output_type": "execute_result"
        }
      ],
      "source": [
        "# mean_popularity = 42\n",
        "# df[\"popularity\"] = [ 1 if i >= mean_popularity else 0 for i in df.popularity ]\n",
        "df.popularity.value_counts()  "
      ]
    },
    {
      "cell_type": "code",
      "execution_count": 6,
      "id": "lEQJh9X3zIhf",
      "metadata": {
        "id": "lEQJh9X3zIhf"
      },
      "outputs": [],
      "source": [
        "y = df[\"popularity\"].values\n",
        "X = df.drop([\"popularity\", \"loudness\", \"loudness\", \"loudness\"],axis=1)"
      ]
    },
    {
      "cell_type": "code",
      "execution_count": 7,
      "id": "WzTKoo7wLQUM",
      "metadata": {
        "colab": {
          "base_uri": "https://localhost:8080/"
        },
        "id": "WzTKoo7wLQUM",
        "outputId": "fbfc39d7-7ffc-4b05-849d-cef7387c1772"
      },
      "outputs": [
        {
          "data": {
            "text/plain": [
              "((40556, 33), (40556,))"
            ]
          },
          "execution_count": 7,
          "metadata": {},
          "output_type": "execute_result"
        }
      ],
      "source": [
        "X.shape, y.shape"
      ]
    },
    {
      "cell_type": "code",
      "execution_count": 18,
      "id": "tender-domain",
      "metadata": {
        "ExecuteTime": {
          "start_time": "2021-03-02T09:04:57.643Z"
        },
        "colab": {
          "base_uri": "https://localhost:8080/"
        },
        "id": "tender-domain",
        "outputId": "7178befb-dc62-4564-8d6f-f1fcd50e67cb"
      },
      "outputs": [],
      "source": [
        "\n",
        "y = y.astype(int)\n",
        "from sklearn.feature_selection import SelectPercentile, chi2\n",
        "X = SelectPercentile(chi2, percentile=60).fit_transform(X, y)\n",
        "\n",
        "input_scaler = StandardScaler()\n",
        "X_normalized = input_scaler.fit_transform(X)\n",
        "\n",
        "\n",
        "X_train, X_test, y_train, y_test = train_test_split(\n",
        "    X_normalized, y, test_size=0.20, random_state=42, stratify=y\n",
        ")"
      ]
    },
    {
      "cell_type": "code",
      "execution_count": 19,
      "id": "__YWCNe2Q_uk",
      "metadata": {
        "colab": {
          "base_uri": "https://localhost:8080/"
        },
        "id": "__YWCNe2Q_uk",
        "outputId": "2bf5edb8-8a2e-4341-8746-8d34b9119caf"
      },
      "outputs": [
        {
          "name": "stdout",
          "output_type": "stream",
          "text": [
            "[LibSVM]..............\n",
            "Warning: using -h 0 may be faster\n",
            "**.\n",
            "Warning: using -h 0 may be faster\n",
            "*\n",
            "optimization finished, #iter = 14481\n",
            "obj = -11812.216980, rho = 0.799595\n",
            "nSV = 12138, nBSV = 6848\n",
            "...............\n",
            "Warning: using -h 0 may be faster\n",
            "*......\n",
            "Warning: using -h 0 may be faster\n",
            "*..\n",
            "Warning: using -h 0 may be faster\n",
            "*\n",
            "optimization finished, #iter = 21968\n",
            "obj = -10980.260620, rho = 0.640886\n",
            "nSV = 11539, nBSV = 5985\n",
            ".............\n",
            "Warning: using -h 0 may be faster\n",
            "*...\n",
            "Warning: using -h 0 may be faster\n",
            "*..\n",
            "Warning: using -h 0 may be faster\n",
            "*\n",
            "optimization finished, #iter = 18533\n",
            "obj = -10605.072613, rho = 0.526120\n",
            "nSV = 10389, nBSV = 6418\n",
            "..................\n",
            "Warning: using -h 0 may be faster\n",
            "*.\n",
            "Warning: using -h 0 may be faster\n",
            "*.\n",
            "Warning: using -h 0 may be faster\n",
            "*.\n",
            "Warning: using -h 0 may be faster\n",
            "*\n",
            "optimization finished, #iter = 18857\n",
            "obj = -15185.100858, rho = 0.343360\n",
            "nSV = 15500, nBSV = 8698\n",
            "................\n",
            "Warning: using -h 0 may be faster\n",
            "*.\n",
            "Warning: using -h 0 may be faster\n",
            "*\n",
            "optimization finished, #iter = 16674\n",
            "obj = -14678.416511, rho = 0.203250\n",
            "nSV = 13936, nBSV = 7235\n",
            "................\n",
            "Warning: using -h 0 may be faster\n",
            "*\n",
            "optimization finished, #iter = 16910\n",
            "obj = -15864.326560, rho = 0.141533\n",
            "nSV = 15536, nBSV = 8236\n",
            "Total nSV = 29939\n",
            "Train accuracy of svm algo: 0.33818271483171003\n",
            "Test accuracy of svm algo: 0.33789447731755423\n",
            "[[ 675  276  178 1003]\n",
            " [  92  230  199 1488]\n",
            " [  21  132  198 1779]\n",
            " [   3   69  131 1638]]\n",
            "Classification report\n",
            "\n",
            "              precision    recall  f1-score   support\n",
            "\n",
            "           0       0.85      0.32      0.46      2132\n",
            "           1       0.33      0.11      0.17      2009\n",
            "           2       0.28      0.09      0.14      2130\n",
            "           3       0.28      0.89      0.42      1841\n",
            "\n",
            "    accuracy                           0.34      8112\n",
            "   macro avg       0.43      0.35      0.30      8112\n",
            "weighted avg       0.44      0.34      0.30      8112\n",
            "\n"
          ]
        }
      ],
      "source": [
        "\n",
        "from sklearn.svm import SVC\n",
        "from sklearn.model_selection import cross_val_score, cross_val_predict, StratifiedKFold\n",
        "from sklearn.metrics import confusion_matrix, precision_score, recall_score, f1_score, classification_report\n",
        "\n",
        "class_weights = len(y_train) / (4.0 * np.bincount(y_train))\n",
        "\n",
        "sample_weights = np.array([class_weights[label] for label in y_train])\n",
        "\n",
        "\n",
        "svm = SVC(kernel='linear',\n",
        "          C=1,\n",
        "          random_state=42, verbose=1)\n",
        "\n",
        "# svm = SVC(kernel='rbf', C=5, gamma='scale', decision_function_shape='ovr', verbose=1)\n",
        "\n",
        "svm.fit(X_train, y_train, sample_weight=sample_weights)\n",
        "\n",
        "print(\"Train accuracy of svm algo:\", svm.score(X_train, y_train))\n",
        "print(\"Test accuracy of svm algo:\", svm.score(X_test, y_test))\n",
        "\n",
        "# cv_scores = cross_val_score(svm, X_train[:20000], y_train[:20000])\n",
        "# print(\"Cross Validation scores - \", cv_scores)\n",
        "\n",
        "# y_train_pred = cross_val_predict(svm, X_train[:20000], y_train[:20000])\n",
        "\n",
        "# confusion_matrix = confusion_matrix(y_train[:20000], y_train_pred)\n",
        "# print(\"Confusion matrix\\n\", confusion_matrix)\n",
        "\n",
        "# p_score = precision_score(y_train[:20000], y_train_pred)\n",
        "# rc_score = recall_score(y_train[:20000], y_train_pred)\n",
        "# f1_score = f1_score(y_train[:20000], y_train_pred)\n",
        "# p_score, rc_score, f1_score\n",
        "# print(\"Recall score = \", rc_score)\n",
        "# print(\"Precision score = \", p_score)\n",
        "# print(\"F1 score = \", f1_score)\n",
        "\n",
        "y_pred = svm.predict(X_test)\n",
        "print(confusion_matrix(y_test, y_pred))\n",
        "print(\"Classification report\\n\")\n",
        "print(classification_report(y_test, y_pred))"
      ]
    },
    {
      "cell_type": "code",
      "execution_count": 17,
      "id": "10c5369e",
      "metadata": {},
      "outputs": [
        {
          "name": "stdout",
          "output_type": "stream",
          "text": [
            "0\n"
          ]
        }
      ],
      "source": [
        "print(y_test[0])"
      ]
    },
    {
      "cell_type": "code",
      "execution_count": 15,
      "id": "if_WFs7g8Ojy",
      "metadata": {
        "colab": {
          "base_uri": "https://localhost:8080/"
        },
        "id": "if_WFs7g8Ojy",
        "outputId": "ade08475-ede9-4d95-cbc2-5927c42dc784"
      },
      "outputs": [
        {
          "name": "stdout",
          "output_type": "stream",
          "text": [
            "Fraction of correctly ordered pairs: 0.7429109529829824\n"
          ]
        },
        {
          "data": {
            "image/png": "[encoded data removed]",
            "text/plain": [
              "<Figure size 640x480 with 1 Axes>"
            ]
          },
          "metadata": {},
          "output_type": "display_data"
        }
      ],
      "source": [
        "# Calculate the fraction of correctly ordered pairs && Ranking SVM\n",
        "n_correct = 0\n",
        "n_pairs = 0\n",
        "for i in range(len(y_test)):\n",
        "    for j in range(i + 1, len(y_test)):\n",
        "        if (y_test[i] < y_test[j]) == (y_pred[i] < y_pred[j]):\n",
        "            n_correct += 1\n",
        "        n_pairs += 1\n",
        "\n",
        "print(f'Fraction of correctly ordered pairs: {n_correct / n_pairs}')\n",
        "\n",
        "plt.scatter(y_test, y_pred, alpha=0.5)\n",
        "plt.xlabel('True Rankings')\n",
        "plt.ylabel('Predicted Rankings')\n",
        "plt.title('True vs. Predicted Rankings')\n",
        "plt.plot([min(y_test), max(y_test)], [min(y_test), max(y_test)], 'r--')\n",
        "plt.show()"
      ]
    }
  ],
  "metadata": {
    "colab": {
      "collapsed_sections": [],
      "name": "SVM.ipynb",
      "provenance": []
    },
    "kernelspec": {
      "display_name": "Python 3.9.6 64-bit",
      "language": "python",
      "name": "python3"
    },
    "language_info": {
      "codemirror_mode": {
        "name": "ipython",
        "version": 3
      },
      "file_extension": ".py",
      "mimetype": "text/x-python",
      "name": "python",
      "nbconvert_exporter": "python",
      "pygments_lexer": "ipython3",
      "version": "3.10.6"
    },
    "notify_time": "30",
    "toc": {
      "base_numbering": 1,
      "nav_menu": {},
      "number_sections": true,
      "sideBar": true,
      "skip_h1_title": false,
      "title_cell": "Table of Contents",
      "title_sidebar": "Contents",
      "toc_cell": false,
      "toc_position": {},
      "toc_section_display": true,
      "toc_window_display": false
    },
    "varInspector": {
      "cols": {
        "lenName": 16,
        "lenType": 16,
        "lenVar": 40
      },
      "kernels_config": {
        "python": {
          "delete_cmd_postfix": "",
          "delete_cmd_prefix": "del ",
          "library": "var_list.py",
          "varRefreshCmd": "print(var_dic_list())"
        },
        "r": {
          "delete_cmd_postfix": ") ",
          "delete_cmd_prefix": "rm(",
          "library": "var_list.r",
          "varRefreshCmd": "cat(var_dic_list()) "
        }
      },
      "types_to_exclude": [
        "module",
        "function",
        "builtin_function_or_method",
        "instance",
        "_Feature"
      ],
      "window_display": false
    },
    "vscode": {
      "interpreter": {
        "hash": "31f2aee4e71d21fbe5cf8b01ff0e069b9275f58929596ceb00d14d90e3e16cd6"
      }
    }
  },
  "nbformat": 4,
  "nbformat_minor": 5
}
