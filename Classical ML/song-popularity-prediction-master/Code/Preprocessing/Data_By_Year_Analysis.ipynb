{
 "cells": [
  {
   "cell_type": "code",
   "execution_count": 2,
   "id": "minimal-commission",
   "metadata": {
    "ExecuteTime": {
     "end_time": "2021-04-06T09:39:41.751997Z",
     "start_time": "2021-04-06T09:39:41.167018Z"
    }
   },
   "outputs": [],
   "source": [
    "import pandas as pd\n",
    "import os\n",
    "from matplotlib import pyplot as plt"
   ]
  },
  {
   "cell_type": "code",
   "execution_count": 29,
   "id": "differential-resolution",
   "metadata": {
    "ExecuteTime": {
     "end_time": "2021-04-03T17:03:03.258539Z",
     "start_time": "2021-04-03T17:03:03.199877Z"
    }
   },
   "outputs": [
    {
     "name": "stdout",
     "output_type": "stream",
     "text": [
      "processed-dataset-of-00s.csv\n",
      "51.723433242506815\n",
      "processed-dataset-of-80s.csv\n",
      "39.22987840185292\n",
      "processed-dataset-of-90s.csv\n",
      "42.629347826086956\n",
      "processed-dataset-of-10s.csv\n",
      "61.10940919037199\n",
      "processed-dataset-of-60s.csv\n",
      "24.24531358481833\n",
      "processed-dataset-of-70s.csv\n",
      "32.85887200618079\n"
     ]
    }
   ],
   "source": [
    "for file in os.listdir(\"../dataset\"):\n",
    "    if file.startswith(\"processed\"):\n",
    "        df = pd.read_csv(\"../dataset/\" + file)\n",
    "        print(file)\n",
    "        print(df[\"popularity\"].mean())"
   ]
  },
  {
   "cell_type": "code",
   "execution_count": 23,
   "id": "sustained-rochester",
   "metadata": {
    "ExecuteTime": {
     "end_time": "2021-04-06T09:49:29.138792Z",
     "start_time": "2021-04-06T09:49:28.364063Z"
    },
    "scrolled": true
   },
   "outputs": [
    {
     "data": {
      "text/plain": [
       "<AxesSubplot:>"
      ]
     },
     "execution_count": 23,
     "metadata": {},
     "output_type": "execute_result"
    },
    {
     "data": {
      "image/png": "[encoded data removed]",
      "text/plain": [
       "<Figure size 432x288 with 1 Axes>"
      ]
     },
     "metadata": {
      "needs_background": "light"
     },
     "output_type": "display_data"
    }
   ],
   "source": [
    "df = pd.read_csv(\"../dataset/data.csv\")\n",
    "df = df[df.year >= 2010]\n",
    "df.popularity.hist()"
   ]
  }
 ],
 "metadata": {
  "kernelspec": {
   "display_name": "Python 3.9.6 64-bit",
   "language": "python",
   "name": "python3"
  },
  "language_info": {
   "codemirror_mode": {
    "name": "ipython",
    "version": 3
   },
   "file_extension": ".py",
   "mimetype": "text/x-python",
   "name": "python",
   "nbconvert_exporter": "python",
   "pygments_lexer": "ipython3",
   "version": "3.9.6"
  },
  "toc": {
   "base_numbering": 1,
   "nav_menu": {},
   "number_sections": true,
   "sideBar": true,
   "skip_h1_title": false,
   "title_cell": "Table of Contents",
   "title_sidebar": "Contents",
   "toc_cell": false,
   "toc_position": {},
   "toc_section_display": true,
   "toc_window_display": false
  },
  "varInspector": {
   "cols": {
    "lenName": 16,
    "lenType": 16,
    "lenVar": 40
   },
   "kernels_config": {
    "python": {
     "delete_cmd_postfix": "",
     "delete_cmd_prefix": "del ",
     "library": "var_list.py",
     "varRefreshCmd": "print(var_dic_list())"
    },
    "r": {
     "delete_cmd_postfix": ") ",
     "delete_cmd_prefix": "rm(",
     "library": "var_list.r",
     "varRefreshCmd": "cat(var_dic_list()) "
    }
   },
   "types_to_exclude": [
    "module",
    "function",
    "builtin_function_or_method",
    "instance",
    "_Feature"
   ],
   "window_display": false
  },
  "vscode": {
   "interpreter": {
    "hash": "31f2aee4e71d21fbe5cf8b01ff0e069b9275f58929596ceb00d14d90e3e16cd6"
   }
  }
 },
 "nbformat": 4,
 "nbformat_minor": 5
}
