{
 "cells": [
  {
   "cell_type": "markdown",
   "id": "sudden-demographic",
   "metadata": {},
   "source": [
    "### Importing Relevant Things "
   ]
  },
  {
   "cell_type": "markdown",
   "id": "fundamental-pocket",
   "metadata": {},
   "source": [
    "### Loading the modified dataset"
   ]
  },
  {
   "cell_type": "code",
   "execution_count": 127,
   "id": "occasional-apollo",
   "metadata": {
    "ExecuteTime": {
     "end_time": "2021-04-11T07:41:05.495465Z",
     "start_time": "2021-04-11T07:41:04.126419Z"
    }
   },
   "outputs": [
    {
     "data": {
      "text/plain": [
       "['popularity',\n",
       " 'acousticness',\n",
       " 'danceability',\n",
       " 'duration_ms',\n",
       " 'energy',\n",
       " 'instrumentalness',\n",
       " 'liveness',\n",
       " 'loudness',\n",
       " 'speechiness',\n",
       " 'tempo',\n",
       " 'valence',\n",
       " 'key_0',\n",
       " 'key_1',\n",
       " 'key_2',\n",
       " 'key_3',\n",
       " 'key_4',\n",
       " 'key_5',\n",
       " 'key_6',\n",
       " 'key_7',\n",
       " 'key_8',\n",
       " 'key_9',\n",
       " 'key_10',\n",
       " 'key_11',\n",
       " 'genre_0',\n",
       " 'genre_1',\n",
       " 'genre_2',\n",
       " 'genre_3',\n",
       " 'genre_4',\n",
       " 'genre_5',\n",
       " 'genre_6',\n",
       " 'genre_7',\n",
       " 'genre_8',\n",
       " 'genre_9',\n",
       " 'Minor',\n",
       " 'Major']"
      ]
     },
     "execution_count": 127,
     "metadata": {},
     "output_type": "execute_result"
    }
   ],
   "source": [
    "from sklearn.tree import DecisionTreeRegressor\n",
    "import pandas as pd\n",
    "from sklearn.linear_model import LinearRegression\n",
    "from sklearn.metrics import mean_squared_error\n",
    "from sklearn.feature_selection import chi2, mutual_info_classif, f_regression, f_classif\n",
    "from sklearn.feature_selection import SelectKBest\n",
    "from sklearn.model_selection import train_test_split, GridSearchCV\n",
    "from sklearn.tree import export_graphviz\n",
    "from matplotlib import pyplot as plt\n",
    "from sklearn import tree\n",
    "from sklearn.metrics import accuracy_score, r2_score\n",
    "import pandas as pd\n",
    "import numpy as np\n",
    "from matplotlib import pyplot as plt\n",
    "from sklearn.model_selection import train_test_split, GridSearchCV\n",
    "from sklearn.preprocessing import PolynomialFeatures\n",
    "from sklearn.linear_model import LogisticRegression, LinearRegression\n",
    "from sklearn.metrics import accuracy_score, r2_score, mean_squared_error\n",
    "from sklearn.feature_selection import SelectKBest, VarianceThreshold\n",
    "from sklearn.feature_selection import chi2, mutual_info_classif, f_regression, f_classif\n",
    "from sklearn.metrics import classification_report, confusion_matrix\n",
    "from sklearn.model_selection import cross_val_score\n",
    "df = pd.read_csv('/Users/haochenyang/Desktop/EECS545/Project/data_merged.csv')\n",
    "list(df.columns)\n",
    "\n",
    "# Two of the columns containing almost constant values are eliminated because owing to their constant values, \n",
    "# they will not affect the output at all. \n",
    "#del df['popularity_ar']\n",
    "#del df['popularity_yr']"
   ]
  },
  {
   "cell_type": "code",
   "execution_count": 128,
   "id": "wicked-entrepreneur",
   "metadata": {
    "ExecuteTime": {
     "end_time": "2021-04-10T18:47:08.113095Z",
     "start_time": "2021-04-10T18:47:08.092797Z"
    }
   },
   "outputs": [
    {
     "name": "stdout",
     "output_type": "stream",
     "text": [
      "0    218293.0\n",
      "1    215613.0\n",
      "2    166875.0\n",
      "3    222369.0\n",
      "4    214408.0\n",
      "5    416132.0\n",
      "6    292800.0\n",
      "7    204800.0\n",
      "8    170463.0\n",
      "9    165132.0\n",
      "Name: duration_ms, dtype: float64\n"
     ]
    }
   ],
   "source": [
    "df.head()\n",
    "print(df['duration_ms'][0:10])"
   ]
  },
  {
   "cell_type": "markdown",
   "id": "bridal-prison",
   "metadata": {},
   "source": [
    "### Linear Regression"
   ]
  },
  {
   "cell_type": "code",
   "execution_count": 129,
   "id": "spatial-andrew",
   "metadata": {
    "ExecuteTime": {
     "end_time": "2021-04-11T07:41:10.919440Z",
     "start_time": "2021-04-11T07:41:10.837039Z"
    }
   },
   "outputs": [],
   "source": [
    "# Define the feature dataset\n",
    "X = df[df.columns.difference(['popularity'])]\n",
    "\n",
    "# Define the value we want to predict\n",
    "y = df['popularity']"
   ]
  },
  {
   "cell_type": "code",
   "execution_count": 130,
   "id": "simple-founder",
   "metadata": {
    "ExecuteTime": {
     "end_time": "2021-04-11T07:41:12.452850Z",
     "start_time": "2021-04-11T07:41:12.328732Z"
    }
   },
   "outputs": [],
   "source": [
    "# Splitting data in to train and test sets\n",
    "X_train, X_test, y_train, y_test = train_test_split(X, y, test_size=0.3, random_state=42)"
   ]
  },
  {
   "cell_type": "markdown",
   "id": "bigger-database",
   "metadata": {
    "heading_collapsed": true
   },
   "source": [
    "#### Initial Run"
   ]
  },
  {
   "cell_type": "code",
   "execution_count": 131,
   "id": "atlantic-roommate",
   "metadata": {
    "hidden": true,
    "scrolled": true
   },
   "outputs": [
    {
     "name": "stdout",
     "output_type": "stream",
     "text": [
      "\u001b[1mFor Train Data\n",
      "\u001b[0mCoefficient of determination: 0.62373\n",
      "38480    61.0\n",
      "32973     0.0\n",
      "3757     38.0\n",
      "8815     42.0\n",
      "40266    51.0\n",
      "20370    69.0\n",
      "29910    55.0\n",
      "21436    51.0\n",
      "5173     16.0\n",
      "38370    63.0\n",
      "39882    55.0\n",
      "8742     48.0\n",
      "7420     24.0\n",
      "34114    34.0\n",
      "22097    49.0\n",
      "36329    34.0\n",
      "17928    40.0\n",
      "15711    45.0\n",
      "32691     0.0\n",
      "4892     15.0\n",
      "Name: popularity, dtype: float64\n",
      "[59.72740239 27.58620661 37.82509466 42.527359   58.37319639 57.13196595\n",
      " 58.83574437 61.29196152 23.11695946 56.11879984 59.17792927 41.28749244\n",
      " 20.42369457 32.24526172 60.17450071 30.2287131  45.20932972 50.76823472\n",
      " 27.79266755 23.94854596]\n",
      "Root mean squared error: 9.49829\n"
     ]
    },
    {
     "name": "stderr",
     "output_type": "stream",
     "text": [
      "/var/folders/xp/mx63m_l53gs9yshjz95jy1pm0000gn/T/ipykernel_54281/596196604.py:11: FutureWarning: The behavior of `series[i:j]` with an integer-dtype index is deprecated. In a future version, this will be treated as *label-based* indexing, consistent with e.g. `series[i]` lookups. To retain the old behavior, use `series.iloc[i:j]`. To get the future behavior, use `series.loc[i:j]`.\n",
      "  print(y_train[0:20])\n"
     ]
    }
   ],
   "source": [
    "# Train linear regressor\n",
    "lin_reg = LinearRegression().fit(X_train, y_train)\n",
    "\n",
    "# Predict on train data\n",
    "y_pred_training = lin_reg.predict(X_train)\n",
    "\n",
    "# Print r_2 scores and RMSE for training set\n",
    "print('\\033[1mFor Train Data')\n",
    "print('\\033[0mCoefficient of determination: %.5f'\n",
    "      % r2_score(y_train, y_pred_training))\n",
    "print(y_train[0:20])\n",
    "print(y_pred_training[0:20])\n",
    "print('Root mean squared error: %.5f'\n",
    "      % np.sqrt(mean_squared_error(y_train, y_pred_training)))"
   ]
  },
  {
   "cell_type": "code",
   "execution_count": 132,
   "id": "orange-prophet",
   "metadata": {
    "hidden": true
   },
   "outputs": [
    {
     "name": "stdout",
     "output_type": "stream",
     "text": [
      "[37.01089432 25.85024058 45.59349367 28.48152599 60.95189207 60.90855249\n",
      " 33.70743183 25.36302974 35.1931865  45.59462097 56.98669395 37.67552589\n",
      " 39.81012843 34.856689   39.42737282 57.69537237 30.63406735 50.45107876\n",
      " 25.30605647 60.3892384 ]\n",
      "216      46.0\n",
      "4199     32.0\n",
      "16922    37.0\n",
      "33257    33.0\n",
      "20845    78.0\n",
      "         ... \n",
      "10274    52.0\n",
      "29577    51.0\n",
      "27168    20.0\n",
      "40424    50.0\n",
      "26833    34.0\n",
      "Name: popularity, Length: 12167, dtype: float64\n",
      "\u001b[1mFor Test Data\n",
      "\u001b[0mCoefficient of determination: 0.63049\n",
      "216      46.0\n",
      "4199     32.0\n",
      "16922    37.0\n",
      "33257    33.0\n",
      "20845    78.0\n",
      "23297    69.0\n",
      "26151    25.0\n",
      "5881     26.0\n",
      "26281    37.0\n",
      "17239    41.0\n",
      "38033    57.0\n",
      "1457     47.0\n",
      "1282     42.0\n",
      "25533    30.0\n",
      "3519     34.0\n",
      "36947    52.0\n",
      "35579     0.0\n",
      "12630    41.0\n",
      "4943     32.0\n",
      "28507    67.0\n",
      "Name: popularity, dtype: float64\n",
      "[37.01089432 25.85024058 45.59349367 28.48152599 60.95189207 60.90855249\n",
      " 33.70743183 25.36302974 35.1931865  45.59462097 56.98669395 37.67552589\n",
      " 39.81012843 34.856689   39.42737282 57.69537237 30.63406735 50.45107876\n",
      " 25.30605647 60.3892384 ]\n",
      "Root Mean squared error: 9.53367\n"
     ]
    },
    {
     "name": "stderr",
     "output_type": "stream",
     "text": [
      "/var/folders/xp/mx63m_l53gs9yshjz95jy1pm0000gn/T/ipykernel_54281/2333627209.py:11: FutureWarning: The behavior of `series[i:j]` with an integer-dtype index is deprecated. In a future version, this will be treated as *label-based* indexing, consistent with e.g. `series[i]` lookups. To retain the old behavior, use `series.iloc[i:j]`. To get the future behavior, use `series.loc[i:j]`.\n",
      "  print(y_test[0:20])\n"
     ]
    }
   ],
   "source": [
    "# Predict on test data\n",
    "y_pred = lin_reg.predict(X_test)\n",
    "print(y_pred[:20])\n",
    "print(y_test)\n",
    "# Print r_2 scores and RMSE for test set\n",
    "print('\\033[1mFor Test Data')\n",
    "print('\\033[0mCoefficient of determination: %.5f'\n",
    "      % r2_score(y_test, y_pred))\n",
    "\n",
    "\n",
    "print(y_test[0:20])\n",
    "print(y_pred[0:20])\n",
    "print('Root Mean squared error: %.5f'\n",
    "      % np.sqrt(mean_squared_error(y_test, y_pred)))"
   ]
  },
  {
   "cell_type": "markdown",
   "id": "simplified-shakespeare",
   "metadata": {
    "heading_collapsed": true
   },
   "source": [
    "#### Feature Selection\n",
    "Now, we perform feature selection using the SelectKBest class in sklearn. First, we plot a graph of the co-efficient of determination vs. number of features and see how many features out of 34 we require to retain for sufficient accuracy. "
   ]
  },
  {
   "cell_type": "code",
   "execution_count": 134,
   "id": "authorized-choice",
   "metadata": {
    "hidden": true
   },
   "outputs": [],
   "source": [
    "r_2scores = []\n",
    "rmse = []\n",
    "for i in range(1,35):\n",
    "    EX = SelectKBest(f_regression, k =i).fit_transform(X,y)\n",
    "    X_train, X_test, y_train, y_test = train_test_split(EX, y, test_size=0.2, random_state=42)\n",
    "    lin_reg = LinearRegression().fit(X_train, y_train)\n",
    "    y_pred = lin_reg.predict(X_test)\n",
    "    rmse.append(np.sqrt(mean_squared_error(y_test, y_pred)))\n",
    "    r_2scores.append(r2_score(y_test, y_pred))"
   ]
  },
  {
   "cell_type": "code",
   "execution_count": 135,
   "id": "accredited-pittsburgh",
   "metadata": {
    "hidden": true
   },
   "outputs": [
    {
     "data": {
      "image/png": "[encoded data removed]",
      "text/plain": [
       "<Figure size 1300x800 with 1 Axes>"
      ]
     },
     "metadata": {},
     "output_type": "display_data"
    },
    {
     "data": {
      "image/png": "[encoded data removed]",
      "text/plain": [
       "<Figure size 1300x800 with 1 Axes>"
      ]
     },
     "metadata": {},
     "output_type": "display_data"
    }
   ],
   "source": [
    "plt.figure(figsize = (13,8))\n",
    "plt.plot(r_2scores)\n",
    "plt.xlabel(\"Features\")\n",
    "plt.ylabel(\"Co-efficient of Determination\")\n",
    "plt.savefig('r2_score.png', pad_inches=0)\n",
    "plt.show()\n",
    "\n",
    "plt.figure(figsize = (13,8))\n",
    "plt.plot(rmse)\n",
    "plt.xlabel(\"Features\")\n",
    "plt.ylabel(\"Root Mean Squared Error\")\n",
    "plt.savefig('rmse.png', pad_inches=0)\n",
    "plt.show()"
   ]
  },
  {
   "cell_type": "markdown",
   "id": "detected-nerve",
   "metadata": {
    "heading_collapsed": true
   },
   "source": [
    "#### Final Run\n",
    "\n",
    "We see a clear jump in accuracy for the first few features after which the $r_2$ scores plateau. We pick $k = 23$ to be a fair number of features for linear regression after which the gain in accuracy is not worth the computing cost."
   ]
  },
  {
   "cell_type": "code",
   "execution_count": 145,
   "id": "egyptian-sydney",
   "metadata": {
    "hidden": true
   },
   "outputs": [
    {
     "name": "stdout",
     "output_type": "stream",
     "text": [
      "\u001b[1mFor Train Data\n",
      "\u001b[0mCoefficient of determination: 0.62538\n",
      "Root mean squared error: 9.48916\n"
     ]
    }
   ],
   "source": [
    "X_final = SelectKBest(f_regression, k =23).fit_transform(X,y)\n",
    "X_train, X_test, y_train, y_test = train_test_split(X_final, y, test_size=0.2, random_state=42)\n",
    "\n",
    "# Train linear regressor\n",
    "lin_reg = LinearRegression().fit(X_train, y_train)0\n",
    "\n",
    "# Predict on train data\n",
    "y_pred_training = lin_reg.predict(X_train)\n",
    "\n",
    "# Print r_2 scores and RMSE for training set\n",
    "print('\\033[1mFor Train Data')\n",
    "print('\\033[0mCoefficient of determination: %.5f'\n",
    "      % r2_score(y_train, y_pred_training))\n",
    "print('Root mean squared error: %.5f'\n",
    "      % np.sqrt(mean_squared_error(y_train, y_pred_training)))"
   ]
  },
  {
   "cell_type": "code",
   "execution_count": 137,
   "id": "difficult-mozambique",
   "metadata": {
    "hidden": true
   },
   "outputs": [
    {
     "name": "stdout",
     "output_type": "stream",
     "text": [
      "\u001b[1mFor Test Data\n",
      "\u001b[0mCoefficient of determination: 0.62746\n",
      "Root Mean squared error: 9.58725\n"
     ]
    }
   ],
   "source": [
    "# Predicting on test data\n",
    "y_pred = lin_reg.predict(X_test)\n",
    "\n",
    "# Print r_2 scores and RMSE for test set\n",
    "print('\\033[1mFor Test Data')\n",
    "print('\\033[0mCoefficient of determination: %.5f'\n",
    "      % r2_score(y_test, y_pred))\n",
    "print('Root Mean squared error: %.5f'\n",
    "      % np.sqrt(mean_squared_error(y_test, y_pred)))"
   ]
  },
  {
   "cell_type": "markdown",
   "id": "constant-council",
   "metadata": {
    "heading_collapsed": true
   },
   "source": [
    "### Polynomial Regression"
   ]
  },
  {
   "cell_type": "code",
   "execution_count": 147,
   "id": "imperial-stockholm",
   "metadata": {
    "hidden": true
   },
   "outputs": [
    {
     "name": "stdout",
     "output_type": "stream",
     "text": [
      "\u001b[1mFor Train Data\n",
      "\u001b[0mCoefficient of determination: 0.61046\n",
      "Mean squared error: 9.67633\n",
      "\u001b[1mFor Test Data\n",
      "\u001b[0mCoefficient of determination: 0.51086\n",
      "Mean squared error: 10.98551\n"
     ]
    }
   ],
   "source": [
    "# Specify the degree of polynomial features\n",
    "\n",
    "poly = PolynomialFeatures(degree=3) # Degree 3 needs more RAM to run than is available. \n",
    "X_poly = poly.fit_transform(X_final)\n",
    "\n",
    "# Split dataset in to train and test data\n",
    "X_train1, X_test1, y_train1, y_test1 = train_test_split(X_poly, y, test_size=0.2, random_state = 42)\n",
    "\n",
    "# Train polynomial regressor\n",
    "poly_reg = LinearRegression().fit(X_train1, y_train1)\n",
    "\n",
    "# Predict for train set\n",
    "y_pred_train = poly_reg.predict(X_train1)\n",
    "print('\\033[1mFor Train Data')\n",
    "print('\\033[0mCoefficient of determination: %.5f'\n",
    "      % r2_score(y_train1, y_pred_train))\n",
    "print('Mean squared error: %.5f'\n",
    "      % np.sqrt(mean_squared_error(y_train1, y_pred_train)))\n",
    "\n",
    "# Predict for test data\n",
    "y_pred1 = poly_reg.predict(X_test1)\n",
    "print('\\033[1mFor Test Data')\n",
    "print('\\033[0mCoefficient of determination: %.5f'\n",
    "      % r2_score(y_test1, y_pred1))\n",
    "print('Mean squared error: %.5f'\n",
    "      % np.sqrt(mean_squared_error(y_test1, y_pred1)))"
   ]
  },
  {
   "cell_type": "markdown",
   "id": "successful-stanley",
   "metadata": {
    "hidden": true
   },
   "source": [
    "The improvement here is of $~0.1\\ \\%$ compared to linear regression with no polynomial features. "
   ]
  },
  {
   "cell_type": "markdown",
   "id": "noble-birthday",
   "metadata": {},
   "source": [
    "###  Logistic Regression"
   ]
  },
  {
   "cell_type": "code",
   "execution_count": 139,
   "id": "sorted-serum",
   "metadata": {
    "ExecuteTime": {
     "end_time": "2021-04-11T07:41:27.370776Z",
     "start_time": "2021-04-11T07:41:26.670495Z"
    }
   },
   "outputs": [],
   "source": [
    "# Changing our output from a continuous value to two labels: 1 if the song is popular, 0 if the song isn't.\n",
    "# The threshold is selected using data from billboard chart data. \n",
    "# y_log = pd.cut(x=df[\"popularity\"], bins=[-1,42,100], labels=[0,1]) ## Threshold can be either 50 or 26 (mean)\n",
    "\n",
    "# Manually varying k again leads to plateau in accuracy scores after around k=27.\n",
    "X_log = SelectKBest(f_classif, k=27).fit_transform(X, y)"
   ]
  },
  {
   "cell_type": "code",
   "execution_count": 140,
   "id": "statutory-brunei",
   "metadata": {
    "ExecuteTime": {
     "end_time": "2021-04-11T07:41:35.746076Z",
     "start_time": "2021-04-11T07:41:33.048791Z"
    }
   },
   "outputs": [
    {
     "name": "stdout",
     "output_type": "stream",
     "text": [
      "\u001b[1mClassification Report\n",
      "\u001b[0m\n",
      "              precision    recall  f1-score   support\n",
      "\n",
      "         0.0       0.00      0.00      0.00       119\n",
      "         1.0       0.00      0.00      0.00         5\n",
      "         2.0       0.00      0.00      0.00         4\n",
      "         3.0       0.00      0.00      0.00         9\n",
      "         4.0       0.00      0.00      0.00         8\n",
      "         5.0       0.00      0.00      0.00         4\n",
      "         6.0       0.00      0.00      0.00         3\n",
      "         7.0       0.00      0.00      0.00         5\n",
      "         8.0       0.00      0.00      0.00        10\n",
      "         9.0       0.00      0.00      0.00         9\n",
      "        10.0       0.00      0.00      0.00        16\n",
      "        11.0       0.00      0.00      0.00        18\n",
      "        12.0       0.00      0.00      0.00        27\n",
      "        13.0       0.00      0.00      0.00        29\n",
      "        14.0       0.00      0.00      0.00        38\n",
      "        15.0       0.00      0.00      0.00        37\n",
      "        16.0       0.00      0.00      0.00        39\n",
      "        17.0       0.00      0.00      0.00        29\n",
      "        18.0       0.00      0.00      0.00        32\n",
      "        19.0       0.00      0.00      0.00        42\n",
      "        20.0       0.00      0.00      0.00        40\n",
      "        21.0       0.00      0.00      0.00        45\n",
      "        22.0       0.00      0.00      0.00        63\n",
      "        23.0       0.00      0.00      0.00        76\n",
      "        24.0       0.00      0.00      0.00        85\n",
      "        25.0       0.00      0.00      0.00       109\n",
      "        26.0       0.00      0.00      0.00       116\n",
      "        27.0       0.00      0.00      0.00       104\n",
      "        28.0       0.00      0.00      0.00       133\n",
      "        29.0       0.00      0.00      0.00       155\n",
      "        30.0       0.00      0.00      0.00       145\n",
      "        31.0       0.00      0.00      0.00       142\n",
      "        32.0       0.00      0.00      0.00       175\n",
      "        33.0       0.00      0.00      0.00       137\n",
      "        34.0       0.00      0.00      0.00       150\n",
      "        35.0       0.00      0.00      0.00       203\n",
      "        36.0       0.00      0.00      0.00       188\n",
      "        37.0       0.00      0.00      0.00       225\n",
      "        38.0       0.00      0.00      0.00       191\n",
      "        39.0       0.00      0.00      0.00       204\n",
      "        40.0       0.00      0.00      0.00       188\n",
      "        41.0       0.00      0.00      0.00       174\n",
      "        42.0       0.00      0.00      0.00       191\n",
      "        43.0       0.00      0.00      0.00       146\n",
      "        44.0       0.00      0.00      0.00       175\n",
      "        45.0       0.00      0.00      0.00       149\n",
      "        46.0       0.00      0.00      0.00       154\n",
      "        47.0       0.00      0.00      0.00       156\n",
      "        48.0       0.00      0.00      0.00       172\n",
      "        49.0       0.00      0.00      0.00       184\n",
      "        50.0       0.00      0.00      0.00       221\n",
      "        51.0       0.00      0.00      0.00       187\n",
      "        52.0       0.00      0.00      0.00       204\n",
      "        53.0       0.02      1.00      0.05       197\n",
      "        54.0       0.00      0.00      0.00       206\n",
      "        55.0       0.00      0.00      0.00       197\n",
      "        56.0       0.00      0.00      0.00       176\n",
      "        57.0       0.00      0.00      0.00       181\n",
      "        58.0       0.00      0.00      0.00       164\n",
      "        59.0       0.00      0.00      0.00       163\n",
      "        60.0       0.00      0.00      0.00       172\n",
      "        61.0       0.00      0.00      0.00       125\n",
      "        62.0       0.00      0.00      0.00       136\n",
      "        63.0       0.00      0.00      0.00        96\n",
      "        64.0       0.00      0.00      0.00        86\n",
      "        65.0       0.00      0.00      0.00       115\n",
      "        66.0       0.00      0.00      0.00       100\n",
      "        67.0       0.00      0.00      0.00        78\n",
      "        68.0       0.00      0.00      0.00        71\n",
      "        69.0       0.00      0.00      0.00        50\n",
      "        70.0       0.00      0.00      0.00        59\n",
      "        71.0       0.00      0.00      0.00        41\n",
      "        72.0       0.00      0.00      0.00        31\n",
      "        73.0       0.00      0.00      0.00        40\n",
      "        74.0       0.00      0.00      0.00        34\n",
      "        75.0       0.00      0.00      0.00        28\n",
      "        76.0       0.00      0.00      0.00        16\n",
      "        77.0       0.00      0.00      0.00        19\n",
      "        78.0       0.00      0.00      0.00         9\n",
      "        79.0       0.00      0.00      0.00        14\n",
      "        80.0       0.00      0.00      0.00         7\n",
      "        81.0       0.00      0.00      0.00         3\n",
      "        82.0       0.00      0.00      0.00        10\n",
      "        83.0       0.00      0.00      0.00         2\n",
      "        84.0       0.00      0.00      0.00         3\n",
      "        85.0       0.00      0.00      0.00         4\n",
      "        86.0       0.00      0.00      0.00         2\n",
      "        87.0       0.00      0.00      0.00         2\n",
      "        88.0       0.00      0.00      0.00         3\n",
      "        89.0       0.00      0.00      0.00         1\n",
      "        94.0       0.00      0.00      0.00         1\n",
      "\n",
      "    accuracy                           0.02      8112\n",
      "   macro avg       0.00      0.01      0.00      8112\n",
      "weighted avg       0.00      0.02      0.00      8112\n",
      "\n",
      "\u001b[1mConfusion Matrix\n",
      "\u001b[0m\n",
      "[[0 0 0 ... 0 0 0]\n",
      " [0 0 0 ... 0 0 0]\n",
      " [0 0 0 ... 0 0 0]\n",
      " ...\n",
      " [0 0 0 ... 0 0 0]\n",
      " [0 0 0 ... 0 0 0]\n",
      " [0 0 0 ... 0 0 0]]\n"
     ]
    },
    {
     "name": "stderr",
     "output_type": "stream",
     "text": [
      "/Users/haochenyang/Library/Python/3.9/lib/python/site-packages/sklearn/linear_model/_logistic.py:458: ConvergenceWarning: lbfgs failed to converge (status=1):\n",
      "STOP: TOTAL NO. of ITERATIONS REACHED LIMIT.\n",
      "\n",
      "Increase the number of iterations (max_iter) or scale the data as shown in:\n",
      "    https://scikit-learn.org/stable/modules/preprocessing.html\n",
      "Please also refer to the documentation for alternative solver options:\n",
      "    https://scikit-learn.org/stable/modules/linear_model.html#logistic-regression\n",
      "  n_iter_i = _check_optimize_result(\n",
      "/Users/haochenyang/Library/Python/3.9/lib/python/site-packages/sklearn/metrics/_classification.py:1344: UndefinedMetricWarning: Precision and F-score are ill-defined and being set to 0.0 in labels with no predicted samples. Use `zero_division` parameter to control this behavior.\n",
      "  _warn_prf(average, modifier, msg_start, len(result))\n",
      "/Users/haochenyang/Library/Python/3.9/lib/python/site-packages/sklearn/metrics/_classification.py:1344: UndefinedMetricWarning: Precision and F-score are ill-defined and being set to 0.0 in labels with no predicted samples. Use `zero_division` parameter to control this behavior.\n",
      "  _warn_prf(average, modifier, msg_start, len(result))\n",
      "/Users/haochenyang/Library/Python/3.9/lib/python/site-packages/sklearn/metrics/_classification.py:1344: UndefinedMetricWarning: Precision and F-score are ill-defined and being set to 0.0 in labels with no predicted samples. Use `zero_division` parameter to control this behavior.\n",
      "  _warn_prf(average, modifier, msg_start, len(result))\n"
     ]
    }
   ],
   "source": [
    "X_train2, X_test2, y_train2, y_test2 = train_test_split(X_log, y, test_size=0.2, random_state=42)\n",
    "log_clf = LogisticRegression(random_state=42).fit(X_train2, y_train2)\n",
    "\n",
    "from joblib import dump\n",
    "dump(log_clf, \"mlspotify_LogR\")\n",
    "\n",
    "y_pred2 = log_clf.predict(X_test2)\n",
    "\n",
    "print('\\033[1mClassification Report')\n",
    "print('\\033[0m')\n",
    "print(classification_report(y_test2, y_pred2))\n",
    "\n",
    "print('\\033[1mConfusion Matrix')\n",
    "print('\\033[0m')\n",
    "print(confusion_matrix(y_test2, y_pred2))"
   ]
  },
  {
   "cell_type": "code",
   "execution_count": 141,
   "id": "controversial-connection",
   "metadata": {
    "ExecuteTime": {
     "end_time": "2021-04-11T07:42:29.723796Z",
     "start_time": "2021-04-11T07:42:29.655310Z"
    }
   },
   "outputs": [
    {
     "ename": "ValueError",
     "evalue": "multi_class must be in ('ovo', 'ovr')",
     "output_type": "error",
     "traceback": [
      "\u001b[0;31m---------------------------------------------------------------------------\u001b[0m",
      "\u001b[0;31mValueError\u001b[0m                                Traceback (most recent call last)",
      "Cell \u001b[0;32mIn[141], line 7\u001b[0m\n\u001b[1;32m      5\u001b[0m lr_probs \u001b[39m=\u001b[39m lr_probs[:, \u001b[39m1\u001b[39m]\n\u001b[1;32m      6\u001b[0m \u001b[39m# calculate scores\u001b[39;00m\n\u001b[0;32m----> 7\u001b[0m lr_auc \u001b[39m=\u001b[39m roc_auc_score(y_test2, lr_probs)\n\u001b[1;32m      8\u001b[0m lr_auc\n",
      "File \u001b[0;32m~/Library/Python/3.9/lib/python/site-packages/sklearn/metrics/_ranking.py:565\u001b[0m, in \u001b[0;36mroc_auc_score\u001b[0;34m(y_true, y_score, average, sample_weight, max_fpr, multi_class, labels)\u001b[0m\n\u001b[1;32m    558\u001b[0m         \u001b[39mraise\u001b[39;00m \u001b[39mValueError\u001b[39;00m(\n\u001b[1;32m    559\u001b[0m             \u001b[39m\"\u001b[39m\u001b[39mPartial AUC computation not available in \u001b[39m\u001b[39m\"\u001b[39m\n\u001b[1;32m    560\u001b[0m             \u001b[39m\"\u001b[39m\u001b[39mmulticlass setting, \u001b[39m\u001b[39m'\u001b[39m\u001b[39mmax_fpr\u001b[39m\u001b[39m'\u001b[39m\u001b[39m must be\u001b[39m\u001b[39m\"\u001b[39m\n\u001b[1;32m    561\u001b[0m             \u001b[39m\"\u001b[39m\u001b[39m set to `None`, received `max_fpr=\u001b[39m\u001b[39m{0}\u001b[39;00m\u001b[39m` \u001b[39m\u001b[39m\"\u001b[39m\n\u001b[1;32m    562\u001b[0m             \u001b[39m\"\u001b[39m\u001b[39minstead\u001b[39m\u001b[39m\"\u001b[39m\u001b[39m.\u001b[39mformat(max_fpr)\n\u001b[1;32m    563\u001b[0m         )\n\u001b[1;32m    564\u001b[0m     \u001b[39mif\u001b[39;00m multi_class \u001b[39m==\u001b[39m \u001b[39m\"\u001b[39m\u001b[39mraise\u001b[39m\u001b[39m\"\u001b[39m:\n\u001b[0;32m--> 565\u001b[0m         \u001b[39mraise\u001b[39;00m \u001b[39mValueError\u001b[39;00m(\u001b[39m\"\u001b[39m\u001b[39mmulti_class must be in (\u001b[39m\u001b[39m'\u001b[39m\u001b[39movo\u001b[39m\u001b[39m'\u001b[39m\u001b[39m, \u001b[39m\u001b[39m'\u001b[39m\u001b[39movr\u001b[39m\u001b[39m'\u001b[39m\u001b[39m)\u001b[39m\u001b[39m\"\u001b[39m)\n\u001b[1;32m    566\u001b[0m     \u001b[39mreturn\u001b[39;00m _multiclass_roc_auc_score(\n\u001b[1;32m    567\u001b[0m         y_true, y_score, labels, multi_class, average, sample_weight\n\u001b[1;32m    568\u001b[0m     )\n\u001b[1;32m    569\u001b[0m \u001b[39melif\u001b[39;00m y_type \u001b[39m==\u001b[39m \u001b[39m\"\u001b[39m\u001b[39mbinary\u001b[39m\u001b[39m\"\u001b[39m:\n",
      "\u001b[0;31mValueError\u001b[0m: multi_class must be in ('ovo', 'ovr')"
     ]
    }
   ],
   "source": [
    "from sklearn.metrics import roc_curve, roc_auc_score\n",
    "# predict probabilities\n",
    "lr_probs = log_clf.predict_proba(X_test2)\n",
    "# keep probabilities for the positive outcome only\n",
    "lr_probs = lr_probs[:, 1]\n",
    "# calculate scores\n",
    "lr_auc = roc_auc_score(y_test2, lr_probs)\n",
    "lr_auc"
   ]
  },
  {
   "cell_type": "code",
   "execution_count": 142,
   "id": "subjective-control",
   "metadata": {
    "ExecuteTime": {
     "end_time": "2021-04-11T07:42:55.125743Z",
     "start_time": "2021-04-11T07:42:54.965563Z"
    }
   },
   "outputs": [
    {
     "ename": "ValueError",
     "evalue": "multiclass format is not supported",
     "output_type": "error",
     "traceback": [
      "\u001b[0;31m---------------------------------------------------------------------------\u001b[0m",
      "\u001b[0;31mValueError\u001b[0m                                Traceback (most recent call last)",
      "Cell \u001b[0;32mIn[142], line 5\u001b[0m\n\u001b[1;32m      3\u001b[0m \u001b[39mimport\u001b[39;00m \u001b[39mnumpy\u001b[39;00m \u001b[39mas\u001b[39;00m \u001b[39mnp\u001b[39;00m\n\u001b[1;32m      4\u001b[0m \u001b[39m# calculate roc curves\u001b[39;00m\n\u001b[0;32m----> 5\u001b[0m fpr, tpr, thresholds \u001b[39m=\u001b[39m roc_curve(y_test2, lr_probs)\n\u001b[1;32m      6\u001b[0m np\u001b[39m.\u001b[39msave(\u001b[39m\"\u001b[39m\u001b[39mfpr_LR\u001b[39m\u001b[39m\"\u001b[39m, fpr)\n\u001b[1;32m      7\u001b[0m np\u001b[39m.\u001b[39msave(\u001b[39m\"\u001b[39m\u001b[39mtpr_LR\u001b[39m\u001b[39m\"\u001b[39m, tpr)\n",
      "File \u001b[0;32m~/Library/Python/3.9/lib/python/site-packages/sklearn/metrics/_ranking.py:992\u001b[0m, in \u001b[0;36mroc_curve\u001b[0;34m(y_true, y_score, pos_label, sample_weight, drop_intermediate)\u001b[0m\n\u001b[1;32m    904\u001b[0m \u001b[39mdef\u001b[39;00m \u001b[39mroc_curve\u001b[39m(\n\u001b[1;32m    905\u001b[0m     y_true, y_score, \u001b[39m*\u001b[39m, pos_label\u001b[39m=\u001b[39m\u001b[39mNone\u001b[39;00m, sample_weight\u001b[39m=\u001b[39m\u001b[39mNone\u001b[39;00m, drop_intermediate\u001b[39m=\u001b[39m\u001b[39mTrue\u001b[39;00m\n\u001b[1;32m    906\u001b[0m ):\n\u001b[1;32m    907\u001b[0m     \u001b[39m\"\"\"Compute Receiver operating characteristic (ROC).\u001b[39;00m\n\u001b[1;32m    908\u001b[0m \n\u001b[1;32m    909\u001b[0m \u001b[39m    Note: this implementation is restricted to the binary classification task.\u001b[39;00m\n\u001b[0;32m   (...)\u001b[0m\n\u001b[1;32m    990\u001b[0m \u001b[39m    array([1.8 , 0.8 , 0.4 , 0.35, 0.1 ])\u001b[39;00m\n\u001b[1;32m    991\u001b[0m \u001b[39m    \"\"\"\u001b[39;00m\n\u001b[0;32m--> 992\u001b[0m     fps, tps, thresholds \u001b[39m=\u001b[39m _binary_clf_curve(\n\u001b[1;32m    993\u001b[0m         y_true, y_score, pos_label\u001b[39m=\u001b[39;49mpos_label, sample_weight\u001b[39m=\u001b[39;49msample_weight\n\u001b[1;32m    994\u001b[0m     )\n\u001b[1;32m    996\u001b[0m     \u001b[39m# Attempt to drop thresholds corresponding to points in between and\u001b[39;00m\n\u001b[1;32m    997\u001b[0m     \u001b[39m# collinear with other points. These are always suboptimal and do not\u001b[39;00m\n\u001b[1;32m    998\u001b[0m     \u001b[39m# appear on a plotted ROC curve (and thus do not affect the AUC).\u001b[39;00m\n\u001b[0;32m   (...)\u001b[0m\n\u001b[1;32m   1003\u001b[0m     \u001b[39m# but does not drop more complicated cases like fps = [1, 3, 7],\u001b[39;00m\n\u001b[1;32m   1004\u001b[0m     \u001b[39m# tps = [1, 2, 4]; there is no harm in keeping too many thresholds.\u001b[39;00m\n\u001b[1;32m   1005\u001b[0m     \u001b[39mif\u001b[39;00m drop_intermediate \u001b[39mand\u001b[39;00m \u001b[39mlen\u001b[39m(fps) \u001b[39m>\u001b[39m \u001b[39m2\u001b[39m:\n",
      "File \u001b[0;32m~/Library/Python/3.9/lib/python/site-packages/sklearn/metrics/_ranking.py:749\u001b[0m, in \u001b[0;36m_binary_clf_curve\u001b[0;34m(y_true, y_score, pos_label, sample_weight)\u001b[0m\n\u001b[1;32m    747\u001b[0m y_type \u001b[39m=\u001b[39m type_of_target(y_true, input_name\u001b[39m=\u001b[39m\u001b[39m\"\u001b[39m\u001b[39my_true\u001b[39m\u001b[39m\"\u001b[39m)\n\u001b[1;32m    748\u001b[0m \u001b[39mif\u001b[39;00m \u001b[39mnot\u001b[39;00m (y_type \u001b[39m==\u001b[39m \u001b[39m\"\u001b[39m\u001b[39mbinary\u001b[39m\u001b[39m\"\u001b[39m \u001b[39mor\u001b[39;00m (y_type \u001b[39m==\u001b[39m \u001b[39m\"\u001b[39m\u001b[39mmulticlass\u001b[39m\u001b[39m\"\u001b[39m \u001b[39mand\u001b[39;00m pos_label \u001b[39mis\u001b[39;00m \u001b[39mnot\u001b[39;00m \u001b[39mNone\u001b[39;00m)):\n\u001b[0;32m--> 749\u001b[0m     \u001b[39mraise\u001b[39;00m \u001b[39mValueError\u001b[39;00m(\u001b[39m\"\u001b[39m\u001b[39m{0}\u001b[39;00m\u001b[39m format is not supported\u001b[39m\u001b[39m\"\u001b[39m\u001b[39m.\u001b[39mformat(y_type))\n\u001b[1;32m    751\u001b[0m check_consistent_length(y_true, y_score, sample_weight)\n\u001b[1;32m    752\u001b[0m y_true \u001b[39m=\u001b[39m column_or_1d(y_true)\n",
      "\u001b[0;31mValueError\u001b[0m: multiclass format is not supported"
     ]
    }
   ],
   "source": [
    "from matplotlib import pyplot\n",
    "from numpy import sqrt, argmax, save\n",
    "import numpy as np\n",
    "# calculate roc curves\n",
    "fpr, tpr, thresholds = roc_curve(y_test2, lr_probs)\n",
    "np.save(\"fpr_LR\", fpr)\n",
    "np.save(\"tpr_LR\", tpr)\n",
    "# plot the roc curve for the model\n",
    "pyplot.plot([0,1], [0,1], linestyle='--', label='No Skill')\n",
    "pyplot.plot(fpr, tpr, marker='.', label='Logistic')\n",
    "# axis labels\n",
    "pyplot.xlabel('False Positive Rate')\n",
    "pyplot.ylabel('True Positive Rate')\n",
    "pyplot.legend()\n",
    "# show the plot\n",
    "pyplot.show()"
   ]
  },
  {
   "cell_type": "code",
   "execution_count": 39,
   "id": "boring-episode",
   "metadata": {
    "ExecuteTime": {
     "end_time": "2021-04-11T07:43:38.031300Z",
     "start_time": "2021-04-11T07:43:37.846704Z"
    }
   },
   "outputs": [
    {
     "name": "stdout",
     "output_type": "stream",
     "text": [
      "SVM: f1=0.743 auc=0.844\n",
      "0.24687917319862973\n"
     ]
    },
    {
     "data": {
      "image/png": "[encoded data removed]",
      "text/plain": [
       "<Figure size 640x480 with 1 Axes>"
      ]
     },
     "metadata": {},
     "output_type": "display_data"
    }
   ],
   "source": [
    "from sklearn.metrics import auc, precision_recall_curve, f1_score\n",
    "from matplotlib import pyplot\n",
    "lr_precision, lr_recall, thresholds = precision_recall_curve(y_test2, lr_probs)\n",
    "np.save(\"lrp_LR\", lr_precision)\n",
    "np.save(\"lrr_LR\", lr_recall)\n",
    "lr_f1, lr_auc = f1_score(y_test2, y_pred2), auc(lr_recall, lr_precision)\n",
    "# summarize scores\n",
    "print('SVM: f1=%.3f auc=%.3f' % (lr_f1, lr_auc))\n",
    "fscore = (2 * lr_precision * lr_recall) / (lr_precision + lr_recall)\n",
    "# plot the roc curve for the model\n",
    "no_skill = len(y_test2[y_test2==1]) / len(y_test2)\n",
    "print(no_skill)\n",
    "pyplot.plot([0,1], [no_skill,no_skill], linestyle='--', label='No Skill')\n",
    "pyplot.plot(lr_recall, lr_precision, marker='.', label='Logistic')\n",
    "# axis labels\n",
    "pyplot.xlabel('Recall')\n",
    "pyplot.ylabel('Precision')\n",
    "pyplot.legend()\n",
    "# show the plot\n",
    "pyplot.show()"
   ]
  }
 ],
 "metadata": {
  "kernelspec": {
   "display_name": "Python 3.9.6 64-bit",
   "language": "python",
   "name": "python3"
  },
  "language_info": {
   "codemirror_mode": {
    "name": "ipython",
    "version": 3
   },
   "file_extension": ".py",
   "mimetype": "text/x-python",
   "name": "python",
   "nbconvert_exporter": "python",
   "pygments_lexer": "ipython3",
   "version": "3.9.6"
  },
  "toc": {
   "base_numbering": 1,
   "nav_menu": {},
   "number_sections": true,
   "sideBar": true,
   "skip_h1_title": false,
   "title_cell": "Table of Contents",
   "title_sidebar": "Contents",
   "toc_cell": false,
   "toc_position": {},
   "toc_section_display": true,
   "toc_window_display": false
  },
  "varInspector": {
   "cols": {
    "lenName": 16,
    "lenType": 16,
    "lenVar": 40
   },
   "kernels_config": {
    "python": {
     "delete_cmd_postfix": "",
     "delete_cmd_prefix": "del ",
     "library": "var_list.py",
     "varRefreshCmd": "print(var_dic_list())"
    },
    "r": {
     "delete_cmd_postfix": ") ",
     "delete_cmd_prefix": "rm(",
     "library": "var_list.r",
     "varRefreshCmd": "cat(var_dic_list()) "
    }
   },
   "types_to_exclude": [
    "module",
    "function",
    "builtin_function_or_method",
    "instance",
    "_Feature"
   ],
   "window_display": false
  },
  "vscode": {
   "interpreter": {
    "hash": "31f2aee4e71d21fbe5cf8b01ff0e069b9275f58929596ceb00d14d90e3e16cd6"
   }
  }
 },
 "nbformat": 4,
 "nbformat_minor": 5
}
