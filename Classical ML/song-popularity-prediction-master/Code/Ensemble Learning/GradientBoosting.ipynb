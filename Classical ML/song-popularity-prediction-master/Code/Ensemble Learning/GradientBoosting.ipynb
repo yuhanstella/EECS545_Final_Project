{
 "cells": [
  {
   "cell_type": "markdown",
   "id": "ed4a2533",
   "metadata": {},
   "source": [
    "# Histogram based Gradient Boosting"
   ]
  },
  {
   "cell_type": "markdown",
   "id": "0324feb5",
   "metadata": {},
   "source": [
    "## Import required libraries"
   ]
  },
  {
   "cell_type": "code",
   "execution_count": 1,
   "id": "ea736709",
   "metadata": {
    "ExecuteTime": {
     "end_time": "2021-04-11T09:05:50.087169Z",
     "start_time": "2021-04-11T09:05:49.390556Z"
    }
   },
   "outputs": [
    {
     "name": "stderr",
     "output_type": "stream",
     "text": [
      "/Users/haochenyang/Library/Python/3.9/lib/python/site-packages/sklearn/experimental/enable_hist_gradient_boosting.py:16: UserWarning: Since version 1.0, it is not needed to import enable_hist_gradient_boosting anymore. HistGradientBoostingClassifier and HistGradientBoostingRegressor are now stable and can be normally imported from sklearn.ensemble.\n",
      "  warnings.warn(\n"
     ]
    }
   ],
   "source": [
    "from sklearn.experimental import enable_hist_gradient_boosting\n",
    "from sklearn.ensemble import HistGradientBoostingClassifier\n",
    "import pandas as pd\n",
    "from sklearn.model_selection import train_test_split\n",
    "import numpy as np\n",
    "from sklearn.metrics import accuracy_score\n",
    "from sklearn.metrics import confusion_matrix, classification_report"
   ]
  },
  {
   "cell_type": "markdown",
   "id": "6f9ea5ff",
   "metadata": {},
   "source": [
    "## Load dataset and discretize popularity"
   ]
  },
  {
   "cell_type": "code",
   "execution_count": 10,
   "id": "38f2c596",
   "metadata": {
    "ExecuteTime": {
     "end_time": "2021-04-11T09:05:58.606873Z",
     "start_time": "2021-04-11T09:05:57.129767Z"
    }
   },
   "outputs": [
    {
     "name": "stdout",
     "output_type": "stream",
     "text": [
      "1    20660\n",
      "0    19896\n",
      "Name: popularity, dtype: int64\n"
     ]
    }
   ],
   "source": [
    "df = pd.read_csv('/Users/haochenyang/Desktop/EECS545/Project/data_merged.csv')\n",
    "mean_popularity = 45\n",
    "df[\"popularity\"] = [ 1 if i >= mean_popularity else 0 for i in df.popularity ]\n",
    "print(df[\"popularity\"].value_counts())"
   ]
  },
  {
   "cell_type": "markdown",
   "id": "0b7f75a4",
   "metadata": {},
   "source": [
    "## Split features, labels and train-test data"
   ]
  },
  {
   "cell_type": "code",
   "execution_count": 11,
   "id": "25614900",
   "metadata": {
    "ExecuteTime": {
     "end_time": "2021-04-11T09:06:01.137681Z",
     "start_time": "2021-04-11T09:06:01.084080Z"
    }
   },
   "outputs": [],
   "source": [
    "X  = df.drop(['popularity'], axis=1)\n",
    "y = df['popularity']"
   ]
  },
  {
   "cell_type": "code",
   "execution_count": 12,
   "id": "cd72806e",
   "metadata": {
    "ExecuteTime": {
     "end_time": "2021-04-11T09:08:35.875905Z",
     "start_time": "2021-04-11T09:08:35.738685Z"
    }
   },
   "outputs": [],
   "source": [
    "X_train, X_test, y_train, y_test = train_test_split(X, y, test_size=0.20, random_state=21)"
   ]
  },
  {
   "cell_type": "markdown",
   "id": "b14932e6",
   "metadata": {},
   "source": [
    "## Histogram based gradient-boosting"
   ]
  },
  {
   "cell_type": "code",
   "execution_count": 13,
   "id": "593ddd16",
   "metadata": {},
   "outputs": [],
   "source": [
    "gb_clf = HistGradientBoostingClassifier(loss='binary_crossentropy', max_iter=1000)"
   ]
  },
  {
   "cell_type": "code",
   "execution_count": 14,
   "id": "06d04968",
   "metadata": {},
   "outputs": [
    {
     "name": "stderr",
     "output_type": "stream",
     "text": [
      "/Users/haochenyang/Library/Python/3.9/lib/python/site-packages/sklearn/ensemble/_hist_gradient_boosting/gradient_boosting.py:1998: FutureWarning: The loss 'binary_crossentropy' was deprecated in v1.1 and will be removed in version 1.3. Use 'log_loss' which is equivalent.\n",
      "  warnings.warn(\n"
     ]
    },
    {
     "data": {
      "text/html": [
       "<style>#sk-container-id-1 {color: black;background-color: white;}#sk-container-id-1 pre{padding: 0;}#sk-container-id-1 div.sk-toggleable {background-color: white;}#sk-container-id-1 label.sk-toggleable__label {cursor: pointer;display: block;width: 100%;margin-bottom: 0;padding: 0.3em;box-sizing: border-box;text-align: center;}#sk-container-id-1 label.sk-toggleable__label-arrow:before {content: \"▸\";float: left;margin-right: 0.25em;color: #696969;}#sk-container-id-1 label.sk-toggleable__label-arrow:hover:before {color: black;}#sk-container-id-1 div.sk-estimator:hover label.sk-toggleable__label-arrow:before {color: black;}#sk-container-id-1 div.sk-toggleable__content {max-height: 0;max-width: 0;overflow: hidden;text-align: left;background-color: #f0f8ff;}#sk-container-id-1 div.sk-toggleable__content pre {margin: 0.2em;color: black;border-radius: 0.25em;background-color: #f0f8ff;}#sk-container-id-1 input.sk-toggleable__control:checked~div.sk-toggleable__content {max-height: 200px;max-width: 100%;overflow: auto;}#sk-container-id-1 input.sk-toggleable__control:checked~label.sk-toggleable__label-arrow:before {content: \"▾\";}#sk-container-id-1 div.sk-estimator input.sk-toggleable__control:checked~label.sk-toggleable__label {background-color: #d4ebff;}#sk-container-id-1 div.sk-label input.sk-toggleable__control:checked~label.sk-toggleable__label {background-color: #d4ebff;}#sk-container-id-1 input.sk-hidden--visually {border: 0;clip: rect(1px 1px 1px 1px);clip: rect(1px, 1px, 1px, 1px);height: 1px;margin: -1px;overflow: hidden;padding: 0;position: absolute;width: 1px;}#sk-container-id-1 div.sk-estimator {font-family: monospace;background-color: #f0f8ff;border: 1px dotted black;border-radius: 0.25em;box-sizing: border-box;margin-bottom: 0.5em;}#sk-container-id-1 div.sk-estimator:hover {background-color: #d4ebff;}#sk-container-id-1 div.sk-parallel-item::after {content: \"\";width: 100%;border-bottom: 1px solid gray;flex-grow: 1;}#sk-container-id-1 div.sk-label:hover label.sk-toggleable__label {background-color: #d4ebff;}#sk-container-id-1 div.sk-serial::before {content: \"\";position: absolute;border-left: 1px solid gray;box-sizing: border-box;top: 0;bottom: 0;left: 50%;z-index: 0;}#sk-container-id-1 div.sk-serial {display: flex;flex-direction: column;align-items: center;background-color: white;padding-right: 0.2em;padding-left: 0.2em;position: relative;}#sk-container-id-1 div.sk-item {position: relative;z-index: 1;}#sk-container-id-1 div.sk-parallel {display: flex;align-items: stretch;justify-content: center;background-color: white;position: relative;}#sk-container-id-1 div.sk-item::before, #sk-container-id-1 div.sk-parallel-item::before {content: \"\";position: absolute;border-left: 1px solid gray;box-sizing: border-box;top: 0;bottom: 0;left: 50%;z-index: -1;}#sk-container-id-1 div.sk-parallel-item {display: flex;flex-direction: column;z-index: 1;position: relative;background-color: white;}#sk-container-id-1 div.sk-parallel-item:first-child::after {align-self: flex-end;width: 50%;}#sk-container-id-1 div.sk-parallel-item:last-child::after {align-self: flex-start;width: 50%;}#sk-container-id-1 div.sk-parallel-item:only-child::after {width: 0;}#sk-container-id-1 div.sk-dashed-wrapped {border: 1px dashed gray;margin: 0 0.4em 0.5em 0.4em;box-sizing: border-box;padding-bottom: 0.4em;background-color: white;}#sk-container-id-1 div.sk-label label {font-family: monospace;font-weight: bold;display: inline-block;line-height: 1.2em;}#sk-container-id-1 div.sk-label-container {text-align: center;}#sk-container-id-1 div.sk-container {/* jupyter's `normalize.less` sets `[hidden] { display: none; }` but bootstrap.min.css set `[hidden] { display: none !important; }` so we also need the `!important` here to be able to override the default hidden behavior on the sphinx rendered scikit-learn.org. See: https://github.com/scikit-learn/scikit-learn/issues/21755 */display: inline-block !important;position: relative;}#sk-container-id-1 div.sk-text-repr-fallback {display: none;}</style><div id=\"sk-container-id-1\" class=\"sk-top-container\"><div class=\"sk-text-repr-fallback\"><pre>HistGradientBoostingClassifier(loss=&#x27;binary_crossentropy&#x27;, max_iter=1000)</pre><b>In a Jupyter environment, please rerun this cell to show the HTML representation or trust the notebook. <br />On GitHub, the HTML representation is unable to render, please try loading this page with nbviewer.org.</b></div><div class=\"sk-container\" hidden><div class=\"sk-item\"><div class=\"sk-estimator sk-toggleable\"><input class=\"sk-toggleable__control sk-hidden--visually\" id=\"sk-estimator-id-1\" type=\"checkbox\" checked><label for=\"sk-estimator-id-1\" class=\"sk-toggleable__label sk-toggleable__label-arrow\">HistGradientBoostingClassifier</label><div class=\"sk-toggleable__content\"><pre>HistGradientBoostingClassifier(loss=&#x27;binary_crossentropy&#x27;, max_iter=1000)</pre></div></div></div></div></div>"
      ],
      "text/plain": [
       "HistGradientBoostingClassifier(loss='binary_crossentropy', max_iter=1000)"
      ]
     },
     "execution_count": 14,
     "metadata": {},
     "output_type": "execute_result"
    }
   ],
   "source": [
    "gb_clf.fit(X_train, y_train)"
   ]
  },
  {
   "cell_type": "code",
   "execution_count": 15,
   "id": "9853da54",
   "metadata": {},
   "outputs": [
    {
     "data": {
      "text/plain": [
       "0.86607693256072"
      ]
     },
     "execution_count": 15,
     "metadata": {},
     "output_type": "execute_result"
    }
   ],
   "source": [
    "gb_clf.score(X_train, y_train)"
   ]
  },
  {
   "cell_type": "code",
   "execution_count": 16,
   "id": "a3367f56",
   "metadata": {},
   "outputs": [
    {
     "data": {
      "text/plain": [
       "0.8388806706114399"
      ]
     },
     "execution_count": 16,
     "metadata": {},
     "output_type": "execute_result"
    }
   ],
   "source": [
    "gb_clf.score(X_test, y_test)"
   ]
  },
  {
   "cell_type": "code",
   "execution_count": 17,
   "id": "a4947376",
   "metadata": {},
   "outputs": [],
   "source": [
    "y_pred = gb_clf.predict(X_test)"
   ]
  },
  {
   "cell_type": "code",
   "execution_count": 18,
   "id": "0c960c49",
   "metadata": {},
   "outputs": [
    {
     "name": "stdout",
     "output_type": "stream",
     "text": [
      "[[3504  474]\n",
      " [ 833 3301]]\n",
      "Classification report\n",
      "\n",
      "              precision    recall  f1-score   support\n",
      "\n",
      "           0       0.81      0.88      0.84      3978\n",
      "           1       0.87      0.80      0.83      4134\n",
      "\n",
      "    accuracy                           0.84      8112\n",
      "   macro avg       0.84      0.84      0.84      8112\n",
      "weighted avg       0.84      0.84      0.84      8112\n",
      "\n"
     ]
    }
   ],
   "source": [
    "print(confusion_matrix(y_test, y_pred))\n",
    "print(\"Classification report\\n\")\n",
    "print(classification_report(y_test, y_pred))"
   ]
  },
  {
   "cell_type": "markdown",
   "id": "26f7cdd5",
   "metadata": {},
   "source": [
    "## Bayesian Search"
   ]
  },
  {
   "cell_type": "code",
   "execution_count": 20,
   "id": "d81f431f",
   "metadata": {
    "ExecuteTime": {
     "end_time": "2021-04-11T09:09:07.660727Z",
     "start_time": "2021-04-11T09:09:07.315021Z"
    }
   },
   "outputs": [
    {
     "name": "stdout",
     "output_type": "stream",
     "text": [
      "Defaulting to user installation because normal site-packages is not writeable\n",
      "\u001b[31mERROR: Could not find a version that satisfies the requirement skopt (from versions: none)\u001b[0m\n",
      "\u001b[31mERROR: No matching distribution found for skopt\u001b[0m\n",
      "\u001b[33mWARNING: You are using pip version 21.2.4; however, version 23.0.1 is available.\n",
      "You should consider upgrading via the '/Library/Developer/CommandLineTools/usr/bin/python3 -m pip install --upgrade pip' command.\u001b[0m\n"
     ]
    },
    {
     "ename": "ModuleNotFoundError",
     "evalue": "No module named 'skopt'",
     "output_type": "error",
     "traceback": [
      "\u001b[0;31m---------------------------------------------------------------------------\u001b[0m",
      "\u001b[0;31mModuleNotFoundError\u001b[0m                       Traceback (most recent call last)",
      "Cell \u001b[0;32mIn[20], line 2\u001b[0m\n\u001b[1;32m      1\u001b[0m get_ipython()\u001b[39m.\u001b[39msystem(\u001b[39m'\u001b[39m\u001b[39mpip3 install skopt\u001b[39m\u001b[39m'\u001b[39m)\n\u001b[0;32m----> 2\u001b[0m \u001b[39mfrom\u001b[39;00m \u001b[39mskopt\u001b[39;00m \u001b[39mimport\u001b[39;00m BayesSearchCV\n\u001b[1;32m      3\u001b[0m \u001b[39mfrom\u001b[39;00m \u001b[39mskopt\u001b[39;00m\u001b[39m.\u001b[39;00m\u001b[39mspace\u001b[39;00m \u001b[39mimport\u001b[39;00m Real, Categorical, Integer\n\u001b[1;32m      4\u001b[0m \u001b[39mfrom\u001b[39;00m \u001b[39mskopt\u001b[39;00m\u001b[39m.\u001b[39;00m\u001b[39mplots\u001b[39;00m \u001b[39mimport\u001b[39;00m plot_objective\n",
      "\u001b[0;31mModuleNotFoundError\u001b[0m: No module named 'skopt'"
     ]
    }
   ],
   "source": [
    "!pip3 install skopt\n",
    "from skopt import BayesSearchCV\n",
    "from skopt.space import Real, Categorical, Integer\n",
    "from skopt.plots import plot_objective\n",
    "from matplotlib import pyplot as plt"
   ]
  },
  {
   "cell_type": "code",
   "execution_count": 6,
   "id": "971f27a0",
   "metadata": {
    "ExecuteTime": {
     "end_time": "2021-04-11T09:09:09.811124Z",
     "start_time": "2021-04-11T09:09:09.799996Z"
    }
   },
   "outputs": [],
   "source": [
    "opt = BayesSearchCV(\n",
    "    HistGradientBoostingClassifier(random_state=42),\n",
    "    {\n",
    "        'max_iter' : Integer(100, 200),\n",
    "        'learning_rate' : Real(0.01, 1),\n",
    "        'max_leaf_nodes' : Integer(10,100),\n",
    "        'min_samples_leaf' : Integer(10,100),\n",
    "#         'C': (1e-6, 1e+6, 'log-uniform'),\n",
    "#         'gamma': (1e-6, 1e+1, 'log-uniform'),\n",
    "#         'degree': (1, 8),  # integer valued parameter\n",
    "#         'kernel': ['linear', 'poly', 'rbf'],  # categorical parameter\n",
    "    },\n",
    "    n_iter=128,\n",
    "    cv=3\n",
    ")"
   ]
  },
  {
   "cell_type": "code",
   "execution_count": null,
   "id": "04e834ce",
   "metadata": {
    "ExecuteTime": {
     "start_time": "2021-04-11T09:10:57.858Z"
    }
   },
   "outputs": [],
   "source": [
    "opt.fit(X_train, y_train)\n",
    "\n",
    "from joblib import dump\n",
    "dump(opt, \"Saved models/GradBoost\")"
   ]
  },
  {
   "cell_type": "markdown",
   "id": "9adc073e",
   "metadata": {},
   "source": [
    "## Best parameters and scores obtained"
   ]
  },
  {
   "cell_type": "code",
   "execution_count": 97,
   "id": "a58cb6e1",
   "metadata": {},
   "outputs": [
    {
     "name": "stdout",
     "output_type": "stream",
     "text": [
      "val. score: 0.89182343378041\n",
      "test score: 0.8911049178424201\n",
      "best params: OrderedDict([('learning_rate', 0.060833085502393476), ('max_iter', 200), ('max_leaf_nodes', 100), ('min_samples_leaf', 78)])\n"
     ]
    }
   ],
   "source": [
    "print(\"val. score: %s\" % opt.best_score_)\n",
    "print(\"test score: %s\" % opt.score(X_test, y_test))\n",
    "print(\"best params: %s\" % str(opt.best_params_))"
   ]
  },
  {
   "cell_type": "code",
   "execution_count": 98,
   "id": "5c8c2046",
   "metadata": {},
   "outputs": [],
   "source": [
    "y_pred = opt.predict(X_test)"
   ]
  },
  {
   "cell_type": "code",
   "execution_count": 99,
   "id": "e4902d07",
   "metadata": {},
   "outputs": [
    {
     "name": "stdout",
     "output_type": "stream",
     "text": [
      "[[24379  1052]\n",
      " [ 2699  6316]]\n",
      "Classification report\n",
      "\n",
      "              precision    recall  f1-score   support\n",
      "\n",
      "           0       0.90      0.96      0.93     25431\n",
      "           1       0.86      0.70      0.77      9015\n",
      "\n",
      "    accuracy                           0.89     34446\n",
      "   macro avg       0.88      0.83      0.85     34446\n",
      "weighted avg       0.89      0.89      0.89     34446\n",
      "\n"
     ]
    }
   ],
   "source": [
    "print(confusion_matrix(y_test, y_pred))\n",
    "print(\"Classification report\\n\")\n",
    "print(classification_report(y_test, y_pred))"
   ]
  },
  {
   "cell_type": "markdown",
   "id": "ffc57b5b",
   "metadata": {},
   "source": [
    "On increasing number of iterations, max_leaf_nodes, min_samples_leaf etc., learning rate automatically goes down and results remain the same more or less."
   ]
  },
  {
   "cell_type": "markdown",
   "id": "dad3c717",
   "metadata": {},
   "source": [
    "## Visualize results with partial dependence plots"
   ]
  },
  {
   "cell_type": "code",
   "execution_count": 100,
   "id": "1bf49fe1",
   "metadata": {},
   "outputs": [],
   "source": [
    "# plot_objective(opt.optimizer_results_[0],\n",
    "#                    dimensions=[\"n_estimators\", \"learning_rate\"],\n",
    "#                    n_minimum_search=int(1e8))"
   ]
  }
 ],
 "metadata": {
  "kernelspec": {
   "display_name": "Python 3.9.6 64-bit",
   "language": "python",
   "name": "python3"
  },
  "language_info": {
   "codemirror_mode": {
    "name": "ipython",
    "version": 3
   },
   "file_extension": ".py",
   "mimetype": "text/x-python",
   "name": "python",
   "nbconvert_exporter": "python",
   "pygments_lexer": "ipython3",
   "version": "3.9.6"
  },
  "toc": {
   "base_numbering": 1,
   "nav_menu": {},
   "number_sections": true,
   "sideBar": true,
   "skip_h1_title": false,
   "title_cell": "Table of Contents",
   "title_sidebar": "Contents",
   "toc_cell": false,
   "toc_position": {},
   "toc_section_display": true,
   "toc_window_display": false
  },
  "varInspector": {
   "cols": {
    "lenName": 16,
    "lenType": 16,
    "lenVar": 40
   },
   "kernels_config": {
    "python": {
     "delete_cmd_postfix": "",
     "delete_cmd_prefix": "del ",
     "library": "var_list.py",
     "varRefreshCmd": "print(var_dic_list())"
    },
    "r": {
     "delete_cmd_postfix": ") ",
     "delete_cmd_prefix": "rm(",
     "library": "var_list.r",
     "varRefreshCmd": "cat(var_dic_list()) "
    }
   },
   "types_to_exclude": [
    "module",
    "function",
    "builtin_function_or_method",
    "instance",
    "_Feature"
   ],
   "window_display": false
  },
  "vscode": {
   "interpreter": {
    "hash": "31f2aee4e71d21fbe5cf8b01ff0e069b9275f58929596ceb00d14d90e3e16cd6"
   }
  }
 },
 "nbformat": 4,
 "nbformat_minor": 5
}
